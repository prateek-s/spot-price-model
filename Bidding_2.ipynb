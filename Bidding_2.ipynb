{
 "metadata": {
  "name": "Bidding_2"
 },
 "nbformat": 3,
 "nbformat_minor": 0,
 "worksheets": [
  {
   "cells": [
    {
     "cell_type": "code",
     "collapsed": false,
     "input": [
      "from IPython.display import display, Math, Latex\n",
      "from IPython.display import display_pretty, display_html, display_jpeg, display_png, display_json, display_latex, display_svg"
     ],
     "language": "python",
     "metadata": {},
     "outputs": [],
     "prompt_number": 6
    },
    {
     "cell_type": "heading",
     "level": 1,
     "metadata": {},
     "source": [
      "Introduction"
     ]
    },
    {
     "cell_type": "markdown",
     "metadata": {},
     "source": [
      "This document describes a system for placing applications on Amazon EC2 Spot-instances while ensuring availability in the presence of Spot-instance losses. Spot-instances are ephemeral, and their availability is subject to their _current price_ and the _bid-price_. Spot instance prices are set by Amazon --- loosely based on a market-auction and are recomputed atleast once an hour.  To acquire a spot instance, users place a bid by choosing a bidding price. If this bid is higher than the current-price, the instance is granted and runs for as long as the price stays below the bid-price.\n",
      "\n",
      "Since spot-instances can be terminated at any time, they are not suitable for hosting applications which cannot handle node-failures. Our work describes an approach wherein we use Yank to ameliorate this problem and migrate the application-VM from the spot-instance to a non-ephemeral on-demand instance."
     ]
    },
    {
     "cell_type": "heading",
     "level": 2,
     "metadata": {},
     "source": [
      "Hosting a single spot instance"
     ]
    },
    {
     "cell_type": "heading",
     "level": 2,
     "metadata": {},
     "source": [
      "Cost of Hosting\n"
     ]
    },
    {
     "cell_type": "markdown",
     "metadata": {},
     "source": [
      "We calculate the expected cost to run a single VM as follows :\n",
      "Let $C(B)$ denote the cost of running a single VM if the user places a bid $B$ on the spot instance. Then the expected cost is:\n",
      "\n",
      "\\begin{equation}\n",
      "  E(C(B)) = Avail(B)E(Price(B)) + (1-Avail(B))D + Penalty(A(B)) + BackupSever cost\n",
      "\\end{equation}\n",
      "\n",
      "Availability refers to the probability that a spot instance will be available for use. \n",
      "\n",
      "$E(Price(B))$ denotes the expected price of running the spot instance for bid amount $B$. Note that the spot instances are charged according to the current price (hourly), and the bid amount only affects the availability of the instance. Hence, we compute the average price for prices lower than $B$. \n",
      "\n",
      "$D$ is the fixed On-Demand price.\n",
      "\n",
      "We allow a penalty for the risk of running an application on an ephemeral and unreliable node. The penalty is some function of the availability of the instance. \n",
      "\n",
      "Given this cost model, we can minimize the expected cost. We use the historical spot-pricing data to compute the availability and the average price. Different techniques for estimating these values can be used, as we show in the next section.\n"
     ]
    },
    {
     "cell_type": "heading",
     "level": 3,
     "metadata": {},
     "source": [
      "A note on Risk"
     ]
    },
    {
     "cell_type": "markdown",
     "metadata": {},
     "source": [
      "We must note here that we face a fundamental Risk vs. Cost tradeoff. The risk is losing a spot instance server. While there can be various formulations of risk, we can loosely interpret the risk of running a spot instance at bidding price $B$ to be: \n",
      "\\begin{equation}\n",
      "Risk(B)  = 1-Avail(B)\n",
      "\\end{equation}\n",
      "\n"
     ]
    },
    {
     "cell_type": "heading",
     "level": 3,
     "metadata": {},
     "source": [
      "CDF"
     ]
    },
    {
     "cell_type": "markdown",
     "metadata": {},
     "source": [
      "\n",
      "The Availability can be determined by computing the Cumulative Distribution Function (CDF) of the prices and determining what percentage of the time the bid is successful, for all bidding amounts. Thus,\n",
      "\\begin{equation}\n",
      "Avail(B) = CDF(B)\n",
      "\\end{equation}\n",
      "Where CDF(B) is computed over all the historical data. This approach can be further refined by restricting to a smaller history (past one year, quarter, etc), since Amazon has been known to change the pricing strategy in the past.  \n",
      "\n",
      "The optimum solution to the cost equation is found numerically. For m1.small, the optimum bidding price is:0.031, the expected cost is 0.0346420246999, and the availability of the spot instance is 0.874412941381 ."
     ]
    },
    {
     "cell_type": "code",
     "collapsed": false,
     "input": [],
     "language": "python",
     "metadata": {},
     "outputs": []
    },
    {
     "cell_type": "heading",
     "level": 3,
     "metadata": {},
     "source": [
      "Markov "
     ]
    },
    {
     "cell_type": "markdown",
     "metadata": {},
     "source": [
      "\n",
      "We can treat the prices as a stochastic function and compute the Availability likewise. For all the prices in the historical data, we compute the transition matrix $N_{i,j}$ which is the probability of the price changing from $i$ to $j$. Availability is computed as:\n",
      "\\begin{equation}\n",
      "Avail(B) = \\sum_{i=0}^{B}{N_{i,B}}\n",
      "\\end{equation}\n"
     ]
    },
    {
     "cell_type": "heading",
     "level": 3,
     "metadata": {},
     "source": [
      "Bounded Transitions"
     ]
    },
    {
     "cell_type": "markdown",
     "metadata": {},
     "source": [
      "\n",
      "Suppose we want to bound the number of Spot->Ondemand transitions, since they induce a small downtime and can be undesirable. We introduce a parameter $S$, which is the number of such transitions per day. The transition mainly occurs whenever the price exceeds the bid price, and thus $S$ represents the number of times a day that the price crosses the bid price. The user specifies the maximum number of transitions allowed per day $M$.\n",
      "\n",
      "We modify the original cost equation to represent this constraint. Let $S(d_i , B)$ denote the number of spikes(price rising above $B$) on a particular day $d_i$.\n",
      "We calculate the maximum number of spikes observed over the historical data:\n",
      "\\begin{equation}\n",
      "S_{max} = \\max_{i}[{S(d_i,B)}]\n",
      "\\end{equation}\n",
      "Thus the problem becomes one of selecting a bid price $B$ which minimizes the original cost equation and also :\n",
      "\\begin{equation}\n",
      "S_{max} \\leq M\n",
      "\\end{equation}\n",
      "\n",
      "Note that more sophisticated variants of $S_{max}$ could be used. We could compute use the average number of spikes, or the use a percentile-measure $S_{0.9}$ which represents the 90 percentile CDF of the number of spikes observed over all the days. \n",
      "Find $B$ such that \n",
      "\\begin{equation}\n",
      "S_{0.9} = CDF(S(d_i,B)\n",
      "\\end{equation}"
     ]
    },
    {
     "cell_type": "heading",
     "level": 2,
     "metadata": {},
     "source": [
      "Multiple Instances"
     ]
    },
    {
     "cell_type": "markdown",
     "metadata": {},
     "source": [
      "For $n$ instances, the cost of the backup server is amortized. However, this introduces another problem of simulataenous spot to on-demand transitions. A price-spike affects all the spot instances of a particular machine-type, and all instances whose bids are lower than the price will have to be yanked to their on-demand instances. This simulatenous movement will tax the backup-servers and potentially increase the average down-time.\n",
      "\n",
      "The number of backup servers also need to be increased proportionally. If $k$ servers can be serviced by a single backup server, then the cost is :\n",
      "C_1 = \n",
      "\n",
      "To combat the thundering migration problem, a potential strategy is to hedge the risk of losing the spot instances. A few such strategies and their applicability is presented below:"
     ]
    },
    {
     "cell_type": "heading",
     "level": 4,
     "metadata": {},
     "source": [
      "Ondemand spinning reserves"
     ]
    },
    {
     "cell_type": "markdown",
     "metadata": {},
     "source": [
      "A time-consuming component of the migration is the spooling of the on-demand instances and the time it takes for a new instance to be available and be ready for accepting new VM images. We can reduce the average downtime by keeping a few ondemand instances as hot-spares. Obviously, this incurs an additional cost. \n",
      "\n",
      "The number of reserves can be adjusted based on the observed volatility of the prices. "
     ]
    },
    {
     "cell_type": "heading",
     "level": 4,
     "metadata": {},
     "source": [
      "Staggered Bids"
     ]
    },
    {
     "cell_type": "markdown",
     "metadata": {},
     "source": [
      "Spot instances can be assigned different bids at a given point in time to reduce the probability of all of them being terminated simulatenously. Based on the CDF of the prices and the CDF of the spikes, the bids are distributed over a wide range so as to minimize the risk.\n",
      "\n",
      "Say there are $n$ servers to host. A reasonable requirement could be that atmost $n-m$ servers can migrate simultaenously as a result of a spike($m$ servers cannot be migrated and must remain running). Such a restriction could be due to the network and I/O bandwdith limitations of the backup servers, since a large number of simulatenous migrations can drastically increase the downtimes. Thus, the average availability is $\\frac{m}{n}$. To prevent $m$ servers from migrating, we can use the convenience bidding strategy for them, and use the single-server bidding strategy for each of the other instances. Furthermore, the bids for the $n-m$ servers can also be dispersed over a range of values within a range $[B_L,B_H]$, such that the risk is further reduced.\n",
      "\n",
      "\n"
     ]
    },
    {
     "cell_type": "heading",
     "level": 3,
     "metadata": {},
     "source": []
    },
    {
     "cell_type": "markdown",
     "metadata": {},
     "source": [
      "Let C_1 denote the expected cost of running a spot instance as per equation 1 . Then, for $n$ servers, the cost is:\n",
      "For $n$ servers, the cost equation is:\n",
      "\\begin{equation}\n",
      "E(Cost) = n*[Avail(B)*Price(B) + (1-Avail(B))D] + \\frac{D*n}{k}=  n*C_1\n",
      "\\end{equation}\n",
      "\n",
      "If $m$ servers cannot be migrated, only $n-m$ servers need to be backed up:\n",
      "\\begin{equation}\n",
      "E(Cost) = (n-m)*C_1 + m*Price(B_H)\n",
      "\\end{equation}\n",
      "Here, B_H is the upperbound on the convenience bid, and is equal to the average historical price .\n"
     ]
    },
    {
     "cell_type": "heading",
     "level": 4,
     "metadata": {},
     "source": [
      "Convenience bidding "
     ]
    },
    {
     "cell_type": "markdown",
     "metadata": {},
     "source": [
      "A safe way to prevent losing a spot instance is to simply bid a very large amount. A small amount of risk still exists since spot instances can be terminated even if the bid is good (at Amazon's discretion). \n",
      "For convenience bidding to work, the average price of a spot instance over time must be lower than the ondemand price. \n",
      "\n",
      " type        all   last-year    ondemand\n",
      "m1small  0.054 0.075  0.06  0.06\n",
      "m1medium   0.45    0.45 [only one year data available]  0.12\n",
      "m1large     0.133 0.133  0.24\n",
      "m3_2xlarge   0.638 \n",
      "We can see that as the spot market has matured and become more popular, and also due to convenience bidding, the average prices have increased --- especially in the case of the high-volume m1small instance type. \n"
     ]
    },
    {
     "cell_type": "markdown",
     "metadata": {},
     "source": [
      "* Spinning ondemand reserve\n",
      " -  Variation: number of reserves depends on volatility of market\n",
      "* Stagger bids.\n",
      "    Bid amounts are distributed among instances\n",
      "* Convineance bidding [infinite bid amount]\n",
      "\n"
     ]
    },
    {
     "cell_type": "heading",
     "level": 4,
     "metadata": {},
     "source": [
      "Quantifying risk"
     ]
    },
    {
     "cell_type": "markdown",
     "metadata": {},
     "source": [
      "Risk is the risk of losing a spot instance, therefore it is $1-Avail(B)$."
     ]
    }
   ],
   "metadata": {}
  }
 ]
}