{
 "metadata": {
  "name": "Correlation-Copy0"
 },
 "nbformat": 3,
 "nbformat_minor": 0,
 "worksheets": [
  {
   "cells": [
    {
     "cell_type": "code",
     "collapsed": false,
     "input": [
      "import os,sys,pandas,matplotlib,numpy,scipy\n",
      "from statsmodels.distributions.empirical_distribution import ECDF\n",
      "from pylab import *"
     ],
     "language": "python",
     "metadata": {},
     "outputs": [],
     "prompt_number": 6
    },
    {
     "cell_type": "code",
     "collapsed": false,
     "input": [
      "cd spot/spot/parallel"
     ],
     "language": "python",
     "metadata": {},
     "outputs": [
      {
       "output_type": "stream",
       "stream": "stdout",
       "text": [
        "/home/p/spot/spot/parallel\n"
       ]
      }
     ],
     "prompt_number": 3
    },
    {
     "cell_type": "code",
     "collapsed": false,
     "input": [
      "df_small = pandas.read_csv(\"us-east-1a_m1.small_Linux\", header=None, names=[\"Time\", \"Price\"], parse_dates=True)\n",
      "df_medium = pandas.read_csv(\"us-east-1a_m1.medium_Linux\", header=None, names=[\"Time\", \"Price\"], parse_dates=True)\n",
      "df_large = pandas.read_csv(\"us-east-1a_m1.large_Linux\", header=None, names=[\"Time\", \"Price\"], parse_dates=True)\n",
      "df_c1medium = pandas.read_csv(\"us-east-1a_c1.medium_Linux\", header=None, names=[\"Time\", \"Price\"], parse_dates=True)\n",
      "df_c1xlarge = pandas.read_csv(\"us-east-1a_c1.xlarge_Linux\", header=None, names=[\"Time\", \"Price\"], parse_dates=True)\n",
      "df_xlarge = pandas.read_csv(\"us-east-1a_m1.xlarge_Linux\", header=None, names=[\"Time\", \"Price\"], parse_dates=True)\n",
      "#df_medium = pandas.read_csv(\"us-east-1a_m1.medium_Linux\", header=None, names=[\"Time\", \"Price\"], parse_dates=True)"
     ],
     "language": "python",
     "metadata": {},
     "outputs": [],
     "prompt_number": 7
    },
    {
     "cell_type": "code",
     "collapsed": false,
     "input": [
      "plt.plot(df_small[\"Price\"])"
     ],
     "language": "python",
     "metadata": {},
     "outputs": [
      {
       "output_type": "pyout",
       "prompt_number": 8,
       "text": [
        "[<matplotlib.lines.Line2D at 0xa5060ec>]"
       ]
      }
     ],
     "prompt_number": 8
    },
    {
     "cell_type": "code",
     "collapsed": false,
     "input": [
      "plt.show()"
     ],
     "language": "python",
     "metadata": {},
     "outputs": [],
     "prompt_number": 9
    },
    {
     "cell_type": "code",
     "collapsed": false,
     "input": [
      "df12 = pandas.ordered_merge(df_small, df_medium, on=\"Time\", fill_method='ffill')\n",
      "df13 = pandas.ordered_merge(df12, df_large, on=\"Time\", fill_method='ffill')\n",
      "df14 = pandas.ordered_merge(df13, df_c1medium, on=\"Time\", fill_method='ffill')\n",
      "df15 = pandas.ordered_merge(df14, df_c1xlarge, on=\"Time\", fill_method='ffill')\n",
      "df16 = pandas.ordered_merge(df15, df_xlarge, on=\"Time\", fill_method='ffill')"
     ],
     "language": "python",
     "metadata": {},
     "outputs": [],
     "prompt_number": "*"
    },
    {
     "cell_type": "code",
     "collapsed": false,
     "input": [
      "dt1 = df_medium.reindex(df_small.index, method='pad')\n"
     ],
     "language": "python",
     "metadata": {},
     "outputs": [],
     "prompt_number": "*"
    },
    {
     "cell_type": "code",
     "collapsed": false,
     "input": [
      "dt1.head()"
     ],
     "language": "python",
     "metadata": {},
     "outputs": [],
     "prompt_number": "*"
    },
    {
     "cell_type": "code",
     "collapsed": false,
     "input": [
      "df_medium.head()"
     ],
     "language": "python",
     "metadata": {},
     "outputs": [],
     "prompt_number": "*"
    },
    {
     "cell_type": "code",
     "collapsed": false,
     "input": [
      "df_small.head()"
     ],
     "language": "python",
     "metadata": {},
     "outputs": [],
     "prompt_number": "*"
    },
    {
     "cell_type": "code",
     "collapsed": false,
     "input": [
      "df13.head()"
     ],
     "language": "python",
     "metadata": {},
     "outputs": [],
     "prompt_number": "*"
    },
    {
     "cell_type": "code",
     "collapsed": false,
     "input": [
      "df12.tail()"
     ],
     "language": "python",
     "metadata": {},
     "outputs": [],
     "prompt_number": "*"
    },
    {
     "cell_type": "code",
     "collapsed": false,
     "input": [
      "df12.describe()"
     ],
     "language": "python",
     "metadata": {},
     "outputs": [],
     "prompt_number": "*"
    },
    {
     "cell_type": "code",
     "collapsed": false,
     "input": [
      "plt.plot(df12[\"Price_x\"])"
     ],
     "language": "python",
     "metadata": {},
     "outputs": [],
     "prompt_number": "*"
    },
    {
     "cell_type": "code",
     "collapsed": false,
     "input": [
      "plt.plot(df12[\"Price_y\"])"
     ],
     "language": "python",
     "metadata": {},
     "outputs": [],
     "prompt_number": "*"
    },
    {
     "cell_type": "code",
     "collapsed": false,
     "input": [
      "plt.show()"
     ],
     "language": "python",
     "metadata": {},
     "outputs": [],
     "prompt_number": "*"
    },
    {
     "cell_type": "code",
     "collapsed": false,
     "input": [],
     "language": "python",
     "metadata": {},
     "outputs": [],
     "prompt_number": "*"
    },
    {
     "cell_type": "code",
     "collapsed": false,
     "input": [],
     "language": "python",
     "metadata": {},
     "outputs": [],
     "prompt_number": "*"
    },
    {
     "cell_type": "code",
     "collapsed": false,
     "input": [],
     "language": "python",
     "metadata": {},
     "outputs": []
    }
   ],
   "metadata": {}
  }
 ]
}