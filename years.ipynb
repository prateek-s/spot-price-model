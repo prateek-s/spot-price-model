{
 "metadata": {
  "name": "",
  "signature": "sha256:4bc579e5eda69ff0239897e7fcf3a0db9a9bd234f937e102f2e14ceb3248c9f5"
 },
 "nbformat": 3,
 "nbformat_minor": 0,
 "worksheets": [
  {
   "cells": [
    {
     "cell_type": "code",
     "collapsed": false,
     "input": [
      "import os,sys,matplotlib,pandas,numpy,scipy,dateutil\n",
      "import pandas as pd\n",
      "import numpy as np\n",
      "from pylab import *\n",
      "from datetime import datetime, timedelta\n",
      "import time\n",
      "from statsmodels.distributions.empirical_distribution import ECDF\n",
      "import sqlite3\n",
      "import itertools, random\n"
     ],
     "language": "python",
     "metadata": {},
     "outputs": []
    },
    {
     "cell_type": "code",
     "collapsed": false,
     "input": [
      "def my_to_float(x):\n",
      "    #print type(x)\n",
      "    #if not np.isfinite(x):\n",
      "    #    print x\n",
      "    y = str(x)\n",
      "    z = y.replace('inf','10')\n",
      "    return float(z)\n",
      "\n",
      "def my_to_date(x):\n",
      "    dt = dateutil.parser.parse(x)\n",
      "    return dt\n",
      "\n",
      "def read_all_data():\n",
      "    fname = 'm1l.txt'\n",
      "    df = pd.read_csv(fname)\n",
      "    #avail cost mttf\n",
      "    df.columns = ['date','cost']\n",
      "    #Clean the data now \n",
      "    df['cost'] = df['cost'].apply(my_to_float)\n",
      "    df['date'].apply(my_to_date)\n",
      "    #print df['avail']\n",
      "    #print df\n",
      "    return df\n"
     ],
     "language": "python",
     "metadata": {},
     "outputs": []
    },
    {
     "cell_type": "code",
     "collapsed": false,
     "input": [],
     "language": "python",
     "metadata": {},
     "outputs": []
    }
   ],
   "metadata": {}
  }
 ]
}