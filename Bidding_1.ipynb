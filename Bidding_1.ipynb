{
 "metadata": {
  "name": "Bidding_1"
 },
 "nbformat": 3,
 "nbformat_minor": 0,
 "worksheets": [
  {
   "cells": [
    {
     "cell_type": "code",
     "collapsed": false,
     "input": [
      "from IPython.display import display, Math, Latex\n",
      "from IPython.display import display_pretty, display_html, display_jpeg, display_png, display_json, display_latex, display_svg"
     ],
     "language": "python",
     "metadata": {},
     "outputs": [],
     "prompt_number": 6
    },
    {
     "cell_type": "heading",
     "level": 1,
     "metadata": {},
     "source": [
      "Introduction"
     ]
    },
    {
     "cell_type": "markdown",
     "metadata": {},
     "source": [
      "This document describes a system for placing applications on Amazon EC2 Spot-instances while ensuring availability in the presence of Spot-instance losses. Spot-instances are ephemeral, and their availability is subject to their _current price_ and the _bid-price_. Spot instance prices are set by Amazon --- loosely based on a market-auction and are recomputed atleast once an hour.  To acquire a spot instance, users place a bid by choosing a bidding price. If this bid is higher than the current-price, the instance is granted and runs for as long as the price stays below the bid-price.\n",
      "\n",
      "Since spot-instances can be terminated at any time, they are not suitable for hosting applications which cannot handle node-failures. Our work describes an approach wherein we use Yank to ameliorate this problem and migrate the application-VM from the spot-instance to a non-ephemeral on-demand instance."
     ]
    },
    {
     "cell_type": "heading",
     "level": 2,
     "metadata": {},
     "source": [
      "Cost of Hosting\n"
     ]
    },
    {
     "cell_type": "markdown",
     "metadata": {},
     "source": [
      "We calculate the expected cost to run a single VM as follows :\n",
      "Let C(B) denote the cost of running a single VM if the user places a bid $B$ on the spot instance. Then the exptected cost is:\n",
      "\\begin{equation}\n",
      "  E(C(B)) = Avail(B)E(Price(B)) + (1-Avail(B))D + Penalty(A(B)) \n",
      "\\end{equation}\n",
      "\n",
      "Availability refers to the probability that a spot instance will be available for use. \n",
      "\n",
      "E(Price(B)) denotes the expected price of running the spot instance for bid amount $B$. Note that the spot instances are charged according to the current price (hourly), and the bid amount only affects the availability of the instance. Hence, we compute the average price for prices lower than $B$. \n",
      "\n",
      "$D$ is the fixed On-Demand price.\n",
      "\n",
      "We allow a penalty for running an application on an ephemeral and unreliable node. The Penalty is some function of the availability of the instance. \n",
      "\n",
      "\n",
      "Given this cost model, we can minimize the expected cost. We use the historical spot-pricing data to compute the availability and the average price. Different techniques for estimating these values can be used, as we show in the next section.\n"
     ]
    },
    {
     "cell_type": "heading",
     "level": 3,
     "metadata": {},
     "source": [
      "CDF"
     ]
    },
    {
     "cell_type": "markdown",
     "metadata": {},
     "source": [
      "\n",
      "The Availability can be determined by computing the Cumulative Distribution Function (CDF) of the prices and determining what percentage of the time the bid is successful, for all bidding amounts. Thus,\n",
      "\\begin{equation}\n",
      "Avail(B) = CDF(B)\n",
      "\\end{equation}\n",
      "Where CDF(B) is computed over all the historical data. This approach can be further refined by restricting to a smaller history (past one year, quarter, etc), since Amazon has been known to change the pricing strategy in the past. "
     ]
    },
    {
     "cell_type": "heading",
     "level": 3,
     "metadata": {},
     "source": [
      "Markov "
     ]
    },
    {
     "cell_type": "markdown",
     "metadata": {},
     "source": [
      "\n",
      "We can treat the prices as a stochastic function and compute the Availability likewise. For all the prices in the historical data, we compute the transition matrix $N_{i,j}$ which is the probability of the price changing from $i$ to $j$. Availability is computed as:\n",
      "\\begin{equation}\n",
      "Avail(B) = \\sum_{i=0}^{B}{N_{i,B}}\n",
      "\\end{equation}\n"
     ]
    },
    {
     "cell_type": "heading",
     "level": 3,
     "metadata": {},
     "source": [
      "Bounded Transitions"
     ]
    },
    {
     "cell_type": "markdown",
     "metadata": {},
     "source": [
      "\n",
      "Suppose we want to bound the number of Spot->Ondemand transitions, since they induce a small downtime and can be undesirable. We introduce a parameter $S$, which is the number of such transitions per day. The transition mainly occurs whenever the price exceeds the bid price, and thus $S$ represents the number of times a day that the price crosses the bid price. \n",
      "\n",
      "We modify the original cost equation to represent this constraint:\n",
      "\\begin{equation}\n",
      "  B\n",
      "\\end{equation}"
     ]
    },
    {
     "cell_type": "code",
     "collapsed": false,
     "input": [],
     "language": "python",
     "metadata": {},
     "outputs": [],
     "prompt_number": 6
    },
    {
     "cell_type": "code",
     "collapsed": false,
     "input": [],
     "language": "python",
     "metadata": {},
     "outputs": [],
     "prompt_number": 6
    },
    {
     "cell_type": "code",
     "collapsed": false,
     "input": [],
     "language": "python",
     "metadata": {},
     "outputs": [],
     "prompt_number": 6
    },
    {
     "cell_type": "code",
     "collapsed": false,
     "input": [],
     "language": "python",
     "metadata": {},
     "outputs": [],
     "prompt_number": 6
    },
    {
     "cell_type": "code",
     "collapsed": false,
     "input": [],
     "language": "python",
     "metadata": {},
     "outputs": [],
     "prompt_number": 6
    },
    {
     "cell_type": "code",
     "collapsed": false,
     "input": [],
     "language": "python",
     "metadata": {},
     "outputs": []
    }
   ],
   "metadata": {}
  }
 ]
}