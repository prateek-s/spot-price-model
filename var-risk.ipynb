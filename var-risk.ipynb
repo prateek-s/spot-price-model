{
 "cells": [
  {
   "cell_type": "markdown",
   "metadata": {},
   "source": [
    "# Market selection by using portfolio theory"
   ]
  },
  {
   "cell_type": "code",
   "execution_count": 438,
   "metadata": {
    "collapsed": false
   },
   "outputs": [],
   "source": [
    "\n",
    "import os,sys,matplotlib,pandas,numpy,scipy,dateutil\n",
    "import pandas as pd\n",
    "import numpy as np\n",
    "from pylab import *\n",
    "from datetime import datetime, timedelta\n",
    "import time\n",
    "from statsmodels.distributions.empirical_distribution import ECDF\n",
    "import sqlite3\n",
    "import itertools, random\n",
    "import pickle\n",
    "conn = None\n"
   ]
  },
  {
   "cell_type": "markdown",
   "metadata": {},
   "source": [
    "## Reading price data.\n",
    "Connect to database first, and the slurp the data for the given markets "
   ]
  },
  {
   "cell_type": "code",
   "execution_count": 439,
   "metadata": {
    "collapsed": true
   },
   "outputs": [],
   "source": [
    "markets = [ {'type': 'g2.2xlarge', 'region': 'us-east-1', 'AZ': 'a', 'OS': 'Linux'} ,\n",
    "                     {'type': 'c3.xlarge', 'region': 'us-east-1', 'AZ': 'a', 'OS': 'Linux'} ,\n",
    "                     {'type': 'r3.large', 'region': 'us-east-1', 'AZ': 'a', 'OS': 'Linux'} ,\n",
    "                     {'type': 'm3.medium', 'region': 'us-east-1', 'AZ': 'a', 'OS': 'Linux'} ,\n",
    "                     {'type': 'd2.8xlarge', 'region': 'us-east-1', 'AZ': 'a', 'OS': 'Linux'}\n",
    "                     ]"
   ]
  },
  {
   "cell_type": "code",
   "execution_count": 440,
   "metadata": {
    "collapsed": false
   },
   "outputs": [
    {
     "data": {
      "text/plain": [
       "'us-east-1a-Linux-g2.2xlarge'"
      ]
     },
     "execution_count": 440,
     "metadata": {},
     "output_type": "execute_result"
    }
   ],
   "source": [
    "str(instance_string(markets[0]))"
   ]
  },
  {
   "cell_type": "code",
   "execution_count": 442,
   "metadata": {
    "collapsed": false
   },
   "outputs": [
    {
     "ename": "OperationalError",
     "evalue": "unable to open database file",
     "output_type": "error",
     "traceback": [
      "\u001b[0;31m---------------------------------------------------------------------------\u001b[0m",
      "\u001b[0;31mOperationalError\u001b[0m                          Traceback (most recent call last)",
      "\u001b[0;32m<ipython-input-442-f40c9d464758>\u001b[0m in \u001b[0;36m<module>\u001b[0;34m()\u001b[0m\n\u001b[1;32m      4\u001b[0m     \u001b[0;32mreturn\u001b[0m\u001b[0;34m\u001b[0m\u001b[0m\n\u001b[1;32m      5\u001b[0m \u001b[0;34m\u001b[0m\u001b[0m\n\u001b[0;32m----> 6\u001b[0;31m \u001b[0minit_db_connection\u001b[0m\u001b[0;34m(\u001b[0m\u001b[0;34m)\u001b[0m\u001b[0;34m;\u001b[0m\u001b[0;34m\u001b[0m\u001b[0m\n\u001b[0m",
      "\u001b[0;32m<ipython-input-442-f40c9d464758>\u001b[0m in \u001b[0;36minit_db_connection\u001b[0;34m()\u001b[0m\n\u001b[1;32m      1\u001b[0m \u001b[0;32mdef\u001b[0m \u001b[0minit_db_connection\u001b[0m\u001b[0;34m(\u001b[0m\u001b[0;34m)\u001b[0m \u001b[0;34m:\u001b[0m\u001b[0;34m\u001b[0m\u001b[0m\n\u001b[1;32m      2\u001b[0m     \u001b[0;32mglobal\u001b[0m \u001b[0mconn\u001b[0m\u001b[0;34m\u001b[0m\u001b[0m\n\u001b[0;32m----> 3\u001b[0;31m     \u001b[0mconn\u001b[0m \u001b[0;34m=\u001b[0m \u001b[0msqlite3\u001b[0m\u001b[0;34m.\u001b[0m\u001b[0mconnect\u001b[0m\u001b[0;34m(\u001b[0m\u001b[0;34m'/home/prateeks/spot_prices_2015/aws.db'\u001b[0m\u001b[0;34m)\u001b[0m\u001b[0;34m\u001b[0m\u001b[0m\n\u001b[0m\u001b[1;32m      4\u001b[0m     \u001b[0;32mreturn\u001b[0m\u001b[0;34m\u001b[0m\u001b[0m\n\u001b[1;32m      5\u001b[0m \u001b[0;34m\u001b[0m\u001b[0m\n",
      "\u001b[0;31mOperationalError\u001b[0m: unable to open database file"
     ]
    }
   ],
   "source": [
    "def init_db_connection() :\n",
    "    global conn\n",
    "    conn = sqlite3.connect('/home/prateeks/spot_prices_2015/aws.db')\n",
    "    return \n",
    "\n",
    "init_db_connection();\n"
   ]
  },
  {
   "cell_type": "code",
   "execution_count": 443,
   "metadata": {
    "collapsed": false
   },
   "outputs": [
    {
     "name": "stdout",
     "output_type": "stream",
     "text": [
      "None\n"
     ]
    }
   ],
   "source": [
    "print conn"
   ]
  },
  {
   "cell_type": "code",
   "execution_count": 444,
   "metadata": {
    "collapsed": false
   },
   "outputs": [],
   "source": [
    "def instance_to_MarketId(i) :\n",
    "    \"\"\" The database table names or the file names  \"\"\"\n",
    "    osname = {'Linux':'Linux/UNIX'}\n",
    "    return i['region']+i['AZ']+'-'+osname[i['OS']]+'-'+i['type']\n"
   ]
  },
  {
   "cell_type": "code",
   "execution_count": 445,
   "metadata": {
    "collapsed": true
   },
   "outputs": [],
   "source": [
    "def instance_string(i):\n",
    "    return i['region']+i['AZ']+'-'+ i['OS']+'-'+i['type']"
   ]
  },
  {
   "cell_type": "code",
   "execution_count": 446,
   "metadata": {
    "collapsed": false
   },
   "outputs": [],
   "source": [
    "def read_data_sqlite(instance , mktstring=None, months=['201503','201504','201505','201506','201507','201508'],pickle_data=True):\n",
    "    global conn\n",
    "    table_name_base='AKIAJXNAQH5WHJFPNCXA_' # '201503'\n",
    "    if mktstring == None:\n",
    "        mktstring = instance_to_MarketId(instance)\n",
    "    output=[]\n",
    "    ondem=[]\n",
    "    ondemtable = 'on_demand_price'\n",
    "    #Need to remove avail zone from mkt string argh!\n",
    "   #TODO: function for converting to the on-demand string \n",
    "    ondem_mktstring = mktstring.replace('a-','-')\n",
    "    ondem_mktstring = ondem_mktstring.replace('/UNIX','')\n",
    "    q2 = 'SELECT SpotPrice FROM {} WHERE MarketId=\\'{}\\' ;'.format(ondemtable, ondem_mktstring)\n",
    "    d2 = conn.execute(q2)\n",
    "    ondem = d2.fetchall()\n",
    "\n",
    "    for month in months :\n",
    "        table_name = table_name_base+month\n",
    "        query='SELECT Timestamp, SpotPrice FROM {} WHERE MarketId=\\'{}\\' ;'.format(table_name, mktstring)\n",
    "        #print query\n",
    "        d = conn.execute(query)\n",
    "        output.extend(d.fetchall())\n",
    "    if pickle_data is True :\n",
    "        fname = instance_string(instance)+'.pickle'\n",
    "        with open(fname, 'w') as f :\n",
    "            pickle.dump((instance, output, ondem[0][0]), f)\n",
    "    return output, ondem[0][0]\n"
   ]
  },
  {
   "cell_type": "code",
   "execution_count": 447,
   "metadata": {
    "collapsed": false
   },
   "outputs": [],
   "source": [
    "def get_spot_data(markets, from_pickle=False):\n",
    "    \"\"\"\n",
    "    markets is a list of dictionaries. Return [(mkt,on-demprice,[(t,spot-price)])]\n",
    "    \"\"\"\n",
    "    global conn\n",
    "    data = []\n",
    "    \n",
    "    if from_pickle is False:\n",
    "        init_db_connection()\n",
    "        #c3.xlarge seems volatile\n",
    "        for i in markets :\n",
    "            ts, ondem = read_data_sqlite(i)\n",
    "            spot = [(time.mktime(dateutil.parser.parse(t).timetuple()), float(f)) for (t,f) in ts]\n",
    "            nspot = np.array(spot)\n",
    "            data.append((i, float(ondem), nspot))\n",
    "    else : \n",
    "        #Read all the pickle files from the directory and call get_pickled_data\n",
    "        for file in os.listdir('.'):\n",
    "            if file.endswith(\".pickle\") :\n",
    "                with open(file,'r') as f:\n",
    "                    (i, ts, ondem) = get_picked_data(f)\n",
    "                    spot = [(time.mktime(dateutil.parser.parse(t).timetuple()), float(f)) for (t,f) in ts]\n",
    "                    nspot = np.array(spot)\n",
    "                    data.append((i, float(ondem), nspot))\n",
    "\n",
    "    return data\n"
   ]
  },
  {
   "cell_type": "code",
   "execution_count": 448,
   "metadata": {
    "collapsed": false
   },
   "outputs": [],
   "source": [
    "def get_picked_data(f):\n",
    "    \"\"\" Get pickled data from a file. Return (instance, ts, ondem) tuple. \"\"\"\n",
    "    (instance, ts, ondem) = pickle.load(f)\n",
    "    return (instance, ts, ondem)\n",
    "    "
   ]
  },
  {
   "cell_type": "code",
   "execution_count": null,
   "metadata": {
    "collapsed": false
   },
   "outputs": [],
   "source": []
  },
  {
   "cell_type": "code",
   "execution_count": 449,
   "metadata": {
    "collapsed": false
   },
   "outputs": [
    {
     "name": "stdout",
     "output_type": "stream",
     "text": [
      "all-cdf.py               testr.R\r\n",
      "Bidding_1.ipynb          time_series_1.ipynb\r\n",
      "Bidding_2.ipynb          Untitled0-Copy0_1.ipynb\r\n",
      "Correlation-Copy0.ipynb  Untitled0.ipynb\r\n",
      "Correlation.ipynb        Untitled1.ipynb\r\n",
      "cvtest.py                Untitled2.ipynb\r\n",
      "cvtest.py~               us-east-1a-Linux-c3.xlarge.pickle\r\n",
      "ft-mechanisms.py         us-east-1a-Linux-d2.8xlarge.pickle\r\n",
      "overyears.py             us-east-1a-Linux-g2.2xlarge.pickle\r\n",
      "parr_ex_price.py         us-east-1a-Linux-m3.medium.pickle\r\n",
      "README.md                us-east-1a-Linux-r3.large.pickle\r\n",
      "spike_correlation.ipynb  var-risk.ipynb\r\n",
      "spot_analysis.py         years.ipynb\r\n",
      "\u001b[0m\u001b[01;32mspotfail.py\u001b[0m*\r\n"
     ]
    }
   ],
   "source": [
    "ls"
   ]
  },
  {
   "cell_type": "code",
   "execution_count": 450,
   "metadata": {
    "collapsed": false
   },
   "outputs": [],
   "source": [
    "data = get_spot_data(markets, from_pickle=True)"
   ]
  },
  {
   "cell_type": "code",
   "execution_count": 451,
   "metadata": {
    "collapsed": false
   },
   "outputs": [
    {
     "data": {
      "text/plain": [
       "({'AZ': 'a', 'OS': 'Linux', 'region': 'us-east-1', 'type': 'd2.8xlarge'},\n",
       " 5.52,\n",
       " array([[  1.42780176e+09,   5.60000000e-01],\n",
       "        [  1.42783420e+09,   5.63500000e-01],\n",
       "        [  1.42783820e+09,   5.63900000e-01],\n",
       "        ..., \n",
       "        [  1.44108291e+09,   6.02000000e-01],\n",
       "        [  1.44108307e+09,   6.07300000e-01],\n",
       "        [  1.44108340e+09,   5.97600000e-01]]))"
      ]
     },
     "execution_count": 451,
     "metadata": {},
     "output_type": "execute_result"
    }
   ],
   "source": [
    "data[2]"
   ]
  },
  {
   "cell_type": "code",
   "execution_count": 452,
   "metadata": {
    "collapsed": false
   },
   "outputs": [],
   "source": [
    "def get_prices_only(d, normalized=False):\n",
    "    \"\"\" For a given 3-tuple, return an array of prices. Strip the timestamps\n",
    "    \"\"\"\n",
    "    ondem_price = d[1]\n",
    "    spot_prices = d[2][:,1]\n",
    "    \n",
    "    if normalized:\n",
    "        return spot_prices/ondem_price  #time, price\n",
    "    else :\n",
    "        return spot_prices\n",
    "    \n",
    "#normalized_price(data[0])"
   ]
  },
  {
   "cell_type": "code",
   "execution_count": 453,
   "metadata": {
    "collapsed": false
   },
   "outputs": [
    {
     "data": {
      "text/plain": [
       "0.99142422038457712"
      ]
     },
     "execution_count": 453,
     "metadata": {},
     "output_type": "execute_result"
    }
   ],
   "source": [
    "np.mean(get_prices_only(data[2]))"
   ]
  },
  {
   "cell_type": "code",
   "execution_count": 474,
   "metadata": {
    "collapsed": true
   },
   "outputs": [],
   "source": [
    "def bid_transform(d):\n",
    "    \"\"\"Given a bid, execute some transformation over the prices.\"\"\"\n",
    "    ondem_price = d[1]\n",
    "    spot_prices = d[2][:,1]\n",
    "    maxprice = 10*ondem_price\n",
    "    bid = ondem_price \n",
    "    spot_prices[spot_prices >= bid] = maxprice #Amplify the price spike\n",
    "    spot_prices = maxprice - spot_prices  #Price => Profits transformation\n",
    "    #Not sure we want to normalize this to the on-demand price? Hmm...\n",
    "    #Normalizing by 10*on-demand price yields returns which are monotonically *DECREASING* with risk\n",
    "    #We want increasing returns with increasing risk, so turn off the normalization\n",
    "    return spot_prices\n",
    "    \n"
   ]
  },
  {
   "cell_type": "code",
   "execution_count": 475,
   "metadata": {
    "collapsed": false
   },
   "outputs": [],
   "source": [
    "prices = get_prices_only(data[0])"
   ]
  },
  {
   "cell_type": "code",
   "execution_count": 476,
   "metadata": {
    "collapsed": false
   },
   "outputs": [],
   "source": [
    "def get_transformed_prices(d, transform=\"bid\"):\n",
    "    td = [] #List of transformed prices\n",
    "    instances = []\n",
    "    for di in d:\n",
    "        if transform==\"bid\":\n",
    "            td.append(bid_transform(di))\n",
    "        elif transform==\"plain\":\n",
    "            td.append(get_prices_only(di))\n",
    "        instances.append(di[0])\n",
    "    min_length = min([len(a) for a in td])\n",
    "\n",
    "    print min_length\n",
    "    return (instances, np.vstack([a[:min_length] for a in td]) )\n"
   ]
  },
  {
   "cell_type": "code",
   "execution_count": 477,
   "metadata": {
    "collapsed": false
   },
   "outputs": [
    {
     "name": "stdout",
     "output_type": "stream",
     "text": [
      "3755\n"
     ]
    }
   ],
   "source": [
    "(instances, dt) = get_transformed_prices(data, transform=\"bid\")\n",
    "import scipy.stats"
   ]
  },
  {
   "cell_type": "code",
   "execution_count": 478,
   "metadata": {
    "collapsed": false
   },
   "outputs": [
    {
     "data": {
      "text/plain": [
       "(10037,\n",
       " (0.56000000000000005, 55.199999999999996),\n",
       " 2.5921420643618611,\n",
       " 95.104653534713066,\n",
       " 5.202301164933274,\n",
       " 25.102575070095416)"
      ]
     },
     "execution_count": 478,
     "metadata": {},
     "output_type": "execute_result"
    }
   ],
   "source": [
    "scipy.stats.describe(data[2][2][:,1])"
   ]
  },
  {
   "cell_type": "code",
   "execution_count": null,
   "metadata": {
    "collapsed": true
   },
   "outputs": [],
   "source": []
  },
  {
   "cell_type": "code",
   "execution_count": null,
   "metadata": {
    "collapsed": false
   },
   "outputs": [],
   "source": []
  },
  {
   "cell_type": "markdown",
   "metadata": {},
   "source": [
    "## Portfolio construction starts here\n",
    "So far we have read in the spot prices, applied the transforms, and computed the covariance matrix. Now its time for the actual portfolio creation.\n"
   ]
  },
  {
   "cell_type": "code",
   "execution_count": 479,
   "metadata": {
    "collapsed": false
   },
   "outputs": [],
   "source": [
    "import cvxopt as opt\n",
    "from cvxopt import blas, solvers\n",
    "%matplotlib inline"
   ]
  },
  {
   "cell_type": "code",
   "execution_count": 480,
   "metadata": {
    "collapsed": true
   },
   "outputs": [],
   "source": [
    "solvers.options['show_progress'] = False"
   ]
  },
  {
   "cell_type": "code",
   "execution_count": 481,
   "metadata": {
    "collapsed": true
   },
   "outputs": [],
   "source": [
    "def rand_weights(n):\n",
    "    ''' Produces n random weights that sum to 1 '''\n",
    "    k = np.random.rand(n)\n",
    "    return k / sum(k)"
   ]
  },
  {
   "cell_type": "code",
   "execution_count": 482,
   "metadata": {
    "collapsed": true
   },
   "outputs": [],
   "source": [
    "num_mkts = len(instances)"
   ]
  },
  {
   "cell_type": "code",
   "execution_count": 483,
   "metadata": {
    "collapsed": false
   },
   "outputs": [
    {
     "name": "stdout",
     "output_type": "stream",
     "text": [
      "5\n"
     ]
    }
   ],
   "source": [
    "print num_mkts"
   ]
  },
  {
   "cell_type": "code",
   "execution_count": 484,
   "metadata": {
    "collapsed": true
   },
   "outputs": [],
   "source": [
    "def eval_portfolio(dt):\n",
    "    p = np.asmatrix(np.mean(dt,axis=1))\n",
    "    w = np.asmatrix(rand_weights(dt.shape[0]))\n",
    "    C = np.asmatrix(np.cov(dt))\n",
    "    \n",
    "    mu = w * p.T\n",
    "    sigma = np.sqrt(w * C * w.T)\n",
    "    print mu, sigma\n",
    "    \n",
    "    return mu, sigma"
   ]
  },
  {
   "cell_type": "code",
   "execution_count": 485,
   "metadata": {
    "collapsed": false
   },
   "outputs": [
    {
     "name": "stdout",
     "output_type": "stream",
     "text": [
      "[[ 13.20900502]] [[ 2.62671277]]\n",
      "[[ 18.83851063]] [[ 4.20975207]]\n",
      "[[ 14.08466712]] [[ 2.73516477]]\n",
      "[[ 4.20227901]] [[ 0.61631752]]\n",
      "[[ 17.77785733]] [[ 3.79432129]]\n",
      "[[ 12.62206545]] [[ 2.66473463]]\n",
      "[[ 7.85970898]] [[ 1.38661191]]\n",
      "[[ 10.92119844]] [[ 2.3120599]]\n",
      "[[ 15.14439561]] [[ 3.14005866]]\n",
      "[[ 17.214549]] [[ 3.80030519]]\n",
      "[[ 3.73499119]] [[ 0.16492734]]\n",
      "[[ 3.39762866]] [[ 0.16195662]]\n",
      "[[ 15.46019404]] [[ 3.12833303]]\n",
      "[[ 10.33794526]] [[ 1.82336042]]\n",
      "[[ 5.39068671]] [[ 0.75663325]]\n",
      "[[ 16.51383676]] [[ 3.41605739]]\n",
      "[[ 10.48397053]] [[ 1.68949151]]\n",
      "[[ 12.33855237]] [[ 2.55379275]]\n",
      "[[ 11.65141639]] [[ 2.47125258]]\n",
      "[[ 5.81175941]] [[ 0.75337193]]\n",
      "[[ 11.5496026]] [[ 2.03872199]]\n",
      "[[ 16.53113496]] [[ 3.56227713]]\n",
      "[[ 15.84161856]] [[ 3.24020878]]\n",
      "[[ 11.73210884]] [[ 2.47112508]]\n",
      "[[ 12.82080633]] [[ 2.32624813]]\n",
      "[[ 17.26271384]] [[ 3.52842316]]\n",
      "[[ 12.43247848]] [[ 2.52276494]]\n",
      "[[ 7.34045765]] [[ 1.3022204]]\n",
      "[[ 11.24829291]] [[ 2.30234431]]\n",
      "[[ 18.2900577]] [[ 4.11813556]]\n",
      "[[ 15.33153304]] [[ 3.26688704]]\n",
      "[[ 18.76843181]] [[ 3.96265529]]\n",
      "[[ 20.02099307]] [[ 4.09766203]]\n",
      "[[ 3.03887761]] [[ 0.15319952]]\n",
      "[[ 18.68750854]] [[ 4.00300367]]\n",
      "[[ 10.04763995]] [[ 1.91570029]]\n",
      "[[ 2.93942721]] [[ 0.19301674]]\n",
      "[[ 10.87043482]] [[ 2.16395104]]\n",
      "[[ 8.70791076]] [[ 1.42869468]]\n",
      "[[ 5.30180275]] [[ 0.48719846]]\n",
      "[[ 10.34989897]] [[ 1.8255257]]\n",
      "[[ 12.46962532]] [[ 2.44366931]]\n",
      "[[ 20.43852678]] [[ 4.31373586]]\n",
      "[[ 20.15319412]] [[ 4.36114303]]\n",
      "[[ 15.94811516]] [[ 3.21426816]]\n",
      "[[ 17.11624212]] [[ 3.41512331]]\n",
      "[[ 14.5916557]] [[ 2.96284341]]\n",
      "[[ 7.91902801]] [[ 1.43899599]]\n",
      "[[ 15.53384347]] [[ 3.11656183]]\n",
      "[[ 6.18703603]] [[ 0.7054521]]\n"
     ]
    }
   ],
   "source": [
    "n_portfolios = 50\n",
    "means, stds = np.column_stack([\n",
    "    eval_portfolio(dt) \n",
    "    for _ in xrange(n_portfolios)\n",
    "])\n"
   ]
  },
  {
   "cell_type": "code",
   "execution_count": 486,
   "metadata": {
    "collapsed": false
   },
   "outputs": [
    {
     "data": {
      "text/plain": [
       "<matplotlib.text.Text at 0x7f583c1f3d50>"
      ]
     },
     "execution_count": 486,
     "metadata": {},
     "output_type": "execute_result"
    },
    {
     "data": {
      "image/png": "[encoded data removed]",
      "text/plain": [
       "<matplotlib.figure.Figure at 0x7f583d7d2690>"
      ]
     },
     "metadata": {},
     "output_type": "display_data"
    }
   ],
   "source": [
    "plt.plot(stds, means, 'o', markersize=5, color='r', alpha=0.5)\n",
    "plt.xlabel('std')\n",
    "plt.ylabel('mean')\n",
    "plt.title('Mean and standard deviation of returns of randomly generated portfolios')\n"
   ]
  },
  {
   "cell_type": "code",
   "execution_count": 539,
   "metadata": {
    "collapsed": false
   },
   "outputs": [],
   "source": [
    "def optimal_portfolio(returns):\n",
    "    n = len(returns)\n",
    "    pbar = opt.matrix(np.mean(returns, axis=1))\n",
    "    \n",
    "    N = 10\n",
    "    mus = [3.5**(8.0 * t/N - 1.0) for t in range(N)]\n",
    "    #mus = [0.05+(0.05*t) for t in range(150)]\n",
    "    # Convert to cvxopt matrices\n",
    "    S = opt.matrix(np.cov(returns))\n",
    "    #returns = np.asmatrix(returns)   \n",
    "    returns = opt.matrix(returns)\n",
    "    # Create constraint matrices\n",
    "    G = -opt.matrix(np.eye(n))   # negative n x n identity matrix\n",
    "    h = opt.matrix(0.0, (n ,1))\n",
    "    A = opt.matrix(1.0, (1, n))\n",
    "    b = opt.matrix(1.0)\n",
    "    print \"S, Covariance: \", S.size, S\n",
    "    print \"Returns: \", returns.size\n",
    "    print \"pbar: \", pbar.size, pbar\n",
    "    print \"G: \", G.size\n",
    "    print \"h: \", h.size\n",
    "    print \"A: \", A.size\n",
    "    print \"b: \", b.size\n",
    "    \n",
    "    # Calculate efficient frontier weights using quadratic programming\n",
    "    portfolios=[]\n",
    "    for mu in mus:\n",
    "        try:\n",
    "            result = solvers.qp(mu*S, -pbar, G, h, A, b)['x'] \n",
    "            #Result is presumably the weights for a given mu\n",
    "            portfolios.append(result)\n",
    "        except :\n",
    "            print \"BAD MU \", mu\n",
    "            pass\n",
    "    ## CALCULATE RISKS AND RETURNS FOR FRONTIER\n",
    "    returns = [blas.dot(pbar, x) for x in portfolios]\n",
    "    risks = [np.sqrt(blas.dot(x, S*x)) for x in portfolios]\n",
    "    \n",
    "    ## CALCULATE THE 2ND DEGREE POLYNOMIAL OF THE FRONTIER CURVE\n",
    "    m1 = np.polyfit(returns, risks, 2)\n",
    "    gradients = np.gradient(returns)\n",
    "    print \"PORTFOLIOS \"\n",
    "    for p,mu,r,grad, risk in zip(portfolios,mus,returns,gradients,risks):\n",
    "        print mu, r, grad, risk, p.T\n",
    "    print \"POLYNOMIAL \", m1\n",
    "    mu_star = np.sqrt(m1[2] / m1[0])\n",
    "    # CALCULATE THE OPTIMAL PORTFOLIO\n",
    "    wt = np.zeros(n)\n",
    "    try:\n",
    "        wt = solvers.qp(opt.matrix(mu_star * S), -pbar, G, h, A, b)['x']\n",
    "    except:\n",
    "        print \"NOT ABLE TO CALCULATE WEIGHT\"\n",
    "    return np.asarray(wt), returns, risks"
   ]
  },
  {
   "cell_type": "code",
   "execution_count": 540,
   "metadata": {
    "collapsed": false
   },
   "outputs": [
    {
     "name": "stdout",
     "output_type": "stream",
     "text": [
      "S, Covariance:  (5, 5) [ 6.39e-02 -1.95e-03  5.07e-01 -1.61e-03 -5.63e-04]\n",
      "[-1.95e-03  1.16e-01 -1.35e-01  4.84e-03 -1.24e-03]\n",
      "[ 5.07e-01 -1.35e-01  1.51e+02 -4.77e-02 -5.52e-02]\n",
      "[-1.61e-03  4.84e-03 -4.77e-02  2.79e-02 -8.79e-04]\n",
      "[-5.63e-04 -1.24e-03 -5.52e-02 -8.79e-04  9.91e-02]\n",
      "\n",
      "Returns:  (5, 3755)\n",
      "pbar:  (5, 1) [ 2.04e+00]\n",
      "[ 1.66e+00]\n",
      "[ 5.13e+01]\n",
      "[ 6.09e-01]\n",
      "[ 6.42e+00]\n",
      "\n",
      "G:  (5, 5)\n",
      "h:  (5, 1)\n",
      "A:  (1, 5)\n",
      "b:  (1, 1)\n",
      "PORTFOLIOS \n",
      "0.285714285714 51.2988820226 -27.6843568216 12.2751068495 [ 6.46e-09  6.17e-09  1.00e+00  4.71e-09  4.25e-08]\n",
      "\n",
      "0.778370541551 23.614525201 -19.2699044793 4.7046253546 [ 8.82e-08  7.29e-08  3.83e-01  2.91e-08  6.17e-01]\n",
      "\n",
      "2.12051244984 12.759073064 -7.42006736602 1.75152931411 [ 8.34e-08  4.89e-08  1.41e-01  1.38e-08  8.59e-01]\n",
      "\n",
      "5.77690548382 8.77439046891 -2.72366404634 0.706385061429 [ 1.73e-09  9.69e-10  5.25e-02  1.19e-09  9.47e-01]\n",
      "\n",
      "15.7380056748 7.31174497129 -0.999782881818 0.39096582327 [ 1.24e-09  8.89e-10  1.99e-02  1.00e-09  9.80e-01]\n",
      "\n",
      "42.875 6.77482470527 -1.50847191416 0.325908822811 [ 4.94e-06  1.75e-06  7.96e-03  2.70e-08  9.92e-01]\n",
      "\n",
      "116.804229392 4.29480114297 -1.99480950846 0.185778467334 [ 2.29e-01  1.11e-01  2.46e-03  1.21e-01  5.37e-01]\n",
      "\n",
      "318.209399504 2.78520568834 -1.03135110734 0.129790049341 [ 2.37e-01  1.08e-01  6.47e-04  3.64e-01  2.91e-01]\n",
      "\n",
      "866.896879166 2.2320989283 -0.3722323647 0.120280017817 [ 2.39e-01  1.06e-01  1.83e-07  4.53e-01  2.01e-01]\n",
      "\n",
      "2361.68447657 2.04074095894 -0.191357969354 0.119018948399 [ 2.39e-01  1.06e-01  3.39e-09  4.86e-01  1.69e-01]\n",
      "\n",
      "POLYNOMIAL  [ 0.00176741  0.15987984 -0.50763134]\n",
      "NOT ABLE TO CALCULATE WEIGHT\n"
     ]
    }
   ],
   "source": [
    "weights, returns, risks = optimal_portfolio(dt)"
   ]
  },
  {
   "cell_type": "code",
   "execution_count": 532,
   "metadata": {
    "collapsed": false
   },
   "outputs": [
    {
     "data": {
      "text/plain": [
       "[<matplotlib.lines.Line2D at 0x7f583c9492d0>]"
      ]
     },
     "execution_count": 532,
     "metadata": {},
     "output_type": "execute_result"
    },
    {
     "data": {
      "image/png": "[encoded data removed]",
      "text/plain": [
       "<matplotlib.figure.Figure at 0x7f583c3dd090>"
      ]
     },
     "metadata": {},
     "output_type": "display_data"
    }
   ],
   "source": [
    "plt.plot(stds, means, 'o',alpha=0.5)\n",
    "plt.ylabel('mean')\n",
    "plt.xlabel('std')\n",
    "plt.plot(risks, returns, 'r-o')"
   ]
  },
  {
   "cell_type": "code",
   "execution_count": null,
   "metadata": {
    "collapsed": true
   },
   "outputs": [],
   "source": []
  },
  {
   "cell_type": "code",
   "execution_count": null,
   "metadata": {
    "collapsed": true
   },
   "outputs": [],
   "source": []
  },
  {
   "cell_type": "code",
   "execution_count": null,
   "metadata": {
    "collapsed": true
   },
   "outputs": [],
   "source": []
  },
  {
   "cell_type": "code",
   "execution_count": 12,
   "metadata": {
    "collapsed": false
   },
   "outputs": [],
   "source": [
    "def my_covariance(x,y):\n",
    "    \"\"\"\n",
    "    This yields similiar results to\n",
    "    pd.Series(x).cov(pd.Series(y)) \"\"\"\n",
    "    xbar = x.mean()\n",
    "    ybar = y.mean()\n",
    "    x = x-xbar\n",
    "    y = y-ybar\n",
    "    n = min(x.shape[0], y.shape[0])\n",
    "    x = x[:n-1]\n",
    "    y = y[:n-1]\n",
    "    cov = (x*y)\n",
    "    cov = np.sum(cov)/(n-1)\n",
    "    print cov\n",
    "    return cov\n"
   ]
  },
  {
   "cell_type": "code",
   "execution_count": 114,
   "metadata": {
    "collapsed": false
   },
   "outputs": [
    {
     "name": "stdout",
     "output_type": "stream",
     "text": [
      "[[ -6.4348  -6.435   -6.4349 ...,  -6.4347  -6.4351  -6.4354]\n",
      " [ -2.0676  -2.0679  -2.0676 ...,  -2.0679  -2.0654  -2.0679]\n",
      " [ -1.7281   0.      -1.733  ...,  -1.7318  -1.7313  -1.7331]\n",
      " [-54.64   -54.6365 -54.6361 ..., -54.6354 -54.6348 -54.6354]\n",
      " [  0.       0.       0.     ...,  -0.653   -0.653   -0.653 ]]\n"
     ]
    }
   ],
   "source": [
    "print dt"
   ]
  },
  {
   "cell_type": "code",
   "execution_count": 13,
   "metadata": {
    "collapsed": false
   },
   "outputs": [
    {
     "name": "stdout",
     "output_type": "stream",
     "text": [
      "-8.02333628098e-05\n"
     ]
    },
    {
     "data": {
      "text/plain": [
       "-8.0233362809846391e-05"
      ]
     },
     "execution_count": 13,
     "metadata": {},
     "output_type": "execute_result"
    }
   ],
   "source": [
    "my_covariance(x,y)"
   ]
  },
  {
   "cell_type": "code",
   "execution_count": 14,
   "metadata": {
    "collapsed": false
   },
   "outputs": [
    {
     "data": {
      "text/plain": [
       "-8.0003161504696132e-05"
      ]
     },
     "execution_count": 14,
     "metadata": {},
     "output_type": "execute_result"
    }
   ],
   "source": [
    "pd.Series(x).cov(pd.Series(y))"
   ]
  },
  {
   "cell_type": "code",
   "execution_count": 16,
   "metadata": {
    "collapsed": false
   },
   "outputs": [
    {
     "name": "stdout",
     "output_type": "stream",
     "text": [
      "({'OS': 'Linux', 'region': 'us-east-1', 'AZ': 'a', 'type': 'g2.2xlarge'}, 0.65, array([[  1.42611080e+09,   6.52000000e-02],\n",
      "       [  1.42611117e+09,   6.50000000e-02],\n",
      "       [  1.42611153e+09,   6.51000000e-02],\n",
      "       ..., \n",
      "       [  1.44108320e+09,   1.25300000e-01],\n",
      "       [  1.44108337e+09,   1.18500000e-01],\n",
      "       [  1.44108353e+09,   1.14200000e-01]]))\n"
     ]
    }
   ],
   "source": [
    "\n",
    "d0=data[0]\n",
    "d1=data[1]\n",
    "print d0"
   ]
  },
  {
   "cell_type": "code",
   "execution_count": 17,
   "metadata": {
    "collapsed": false
   },
   "outputs": [],
   "source": [
    "s0 = pd.Series(d0[2][:,1], index=d0[2][:,0])"
   ]
  },
  {
   "cell_type": "code",
   "execution_count": null,
   "metadata": {
    "collapsed": false
   },
   "outputs": [],
   "source": []
  }
 ],
 "metadata": {
  "kernelspec": {
   "display_name": "Python 2",
   "language": "python",
   "name": "python2"
  },
  "language_info": {
   "codemirror_mode": {
    "name": "ipython",
    "version": 2
   },
   "file_extension": ".py",
   "mimetype": "text/x-python",
   "name": "python",
   "nbconvert_exporter": "python",
   "pygments_lexer": "ipython2",
   "version": "2.7.6"
  }
 },
 "nbformat": 4,
 "nbformat_minor": 0
}
