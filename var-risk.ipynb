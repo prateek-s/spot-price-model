{
 "cells": [
  {
   "cell_type": "markdown",
   "metadata": {},
   "source": [
    "# Market selection by using portfolio theory"
   ]
  },
  {
   "cell_type": "code",
   "execution_count": 541,
   "metadata": {
    "collapsed": false
   },
   "outputs": [],
   "source": [
    "\n",
    "import os,sys,matplotlib,pandas,numpy,scipy,dateutil\n",
    "import pandas as pd\n",
    "import numpy as np\n",
    "from pylab import *\n",
    "from datetime import datetime, timedelta\n",
    "import time\n",
    "from statsmodels.distributions.empirical_distribution import ECDF\n",
    "import sqlite3\n",
    "import itertools, random\n",
    "import pickle\n",
    "conn = None\n",
    "use_database = False"
   ]
  },
  {
   "cell_type": "markdown",
   "metadata": {},
   "source": [
    "## Reading price data.\n",
    "Markets (also called instances in some parts of the code) are represented as dictionaries.\n",
    "We define functions for converting them to appropriate database strings if required. "
   ]
  },
  {
   "cell_type": "code",
   "execution_count": 542,
   "metadata": {
    "collapsed": true
   },
   "outputs": [],
   "source": [
    "markets = [ {'type': 'g2.2xlarge', 'region': 'us-east-1', 'AZ': 'a', 'OS': 'Linux'} ,\n",
    "                     {'type': 'c3.xlarge', 'region': 'us-east-1', 'AZ': 'a', 'OS': 'Linux'} ,\n",
    "                     {'type': 'r3.large', 'region': 'us-east-1', 'AZ': 'a', 'OS': 'Linux'} ,\n",
    "                     {'type': 'm3.medium', 'region': 'us-east-1', 'AZ': 'a', 'OS': 'Linux'} ,\n",
    "                     {'type': 'd2.8xlarge', 'region': 'us-east-1', 'AZ': 'a', 'OS': 'Linux'} ,\n",
    "            {'type': 'g2.2xlarge', 'region': 'us-east-1', 'AZ': 'b', 'OS': 'Linux'} ,\n",
    "                     {'type': 'c3.xlarge', 'region': 'us-east-1', 'AZ': 'b', 'OS': 'Linux'} ,\n",
    "                     {'type': 'r3.large', 'region': 'us-east-1', 'AZ': 'b', 'OS': 'Linux'} ,\n",
    "                     {'type': 'm3.medium', 'region': 'us-east-1', 'AZ': 'b', 'OS': 'Linux'} ,\n",
    "                     {'type': 'd2.8xlarge', 'region': 'us-east-1', 'AZ': 'b', 'OS': 'Linux'},\n",
    "            {'type': 'g2.2xlarge', 'region': 'us-east-1', 'AZ': 'e', 'OS': 'Linux'} ,\n",
    "                     {'type': 'c3.xlarge', 'region': 'us-east-1', 'AZ': 'e', 'OS': 'Linux'} ,\n",
    "                     {'type': 'r3.large', 'region': 'us-east-1', 'AZ': 'e', 'OS': 'Linux'} ,\n",
    "                     {'type': 'm3.medium', 'region': 'us-east-1', 'AZ': 'e', 'OS': 'Linux'} ,\n",
    "                     {'type': 'd2.8xlarge', 'region': 'us-east-1', 'AZ': 'e', 'OS': 'Linux'}\n",
    "           \n",
    "                     ]"
   ]
  },
  {
   "cell_type": "code",
   "execution_count": 543,
   "metadata": {
    "collapsed": true
   },
   "outputs": [],
   "source": [
    "def instance_to_MarketId(i) :\n",
    "    \"\"\" The database table names or the file names  \"\"\"\n",
    "    osname = {'Linux':'Linux/UNIX'}\n",
    "    return i['region']+i['AZ']+'-'+osname[i['OS']]+'-'+i['type']\n",
    "\n",
    "def instance_to_ondemstring(i) :\n",
    "    \"\"\" On-demand prices table uses slightly different names for instances, aargh.\n",
    "        us-east-1-Linux-c3.xlarge \n",
    "    \"\"\"\n",
    "    ondem_mktstring =  i['region']+'-'+ i['OS']+'-'+i['type']\n",
    "    return ondem_mktstring\n",
    "\n",
    "def instance_string(i):\n",
    "    return i['region']+i['AZ']+'-'+ i['OS']+'-'+i['type']"
   ]
  },
  {
   "cell_type": "code",
   "execution_count": 544,
   "metadata": {
    "collapsed": false
   },
   "outputs": [
    {
     "data": {
      "text/plain": [
       "'us-east-1a-Linux-g2.2xlarge'"
      ]
     },
     "execution_count": 544,
     "metadata": {},
     "output_type": "execute_result"
    }
   ],
   "source": [
    "#Test the instance string functions\n",
    "str(instance_string(markets[0]))"
   ]
  },
  {
   "cell_type": "code",
   "execution_count": 545,
   "metadata": {
    "collapsed": false
   },
   "outputs": [],
   "source": [
    "def init_db_connection() :\n",
    "    global conn\n",
    "    global use_database\n",
    "    if use_database:\n",
    "        conn = sqlite3.connect('/home/prateeks/spot_prices_2015/aws.db')\n",
    "    return \n",
    "\n",
    "init_db_connection();\n"
   ]
  },
  {
   "cell_type": "code",
   "execution_count": null,
   "metadata": {
    "collapsed": false
   },
   "outputs": [],
   "source": []
  },
  {
   "cell_type": "code",
   "execution_count": 546,
   "metadata": {
    "collapsed": false
   },
   "outputs": [],
   "source": [
    "def read_data_sqlite(instance , mktstring=None, months=['201503','201504','201505','201506','201507','201508'],pickle_data=True):\n",
    "    \"\"\" Get the spot AND on-demand prices for a given instance over the months specified. \n",
    "        These 6 months are chosen to maximixe the data density, since other months have larger periods of missing data\n",
    "    \"\"\"\n",
    "    global conn\n",
    "    table_name_base='AKIAJXNAQH5WHJFPNCXA_' # '201503'\n",
    "    if mktstring == None:\n",
    "        mktstring = instance_to_MarketId(instance)\n",
    "    output=[]\n",
    "    ondem=[]\n",
    "    ondemtable = 'on_demand_price'\n",
    "    #Need to remove avail zone from mkt string argh!\n",
    "   #TODO: function for converting to the on-demand string \n",
    "    ondem_mktstring = instance_to_ondemstring(instance)\n",
    "\n",
    "    q2 = 'SELECT SpotPrice FROM {} WHERE MarketId=\\'{}\\' ;'.format(ondemtable, ondem_mktstring)\n",
    "    d2 = conn.execute(q2)\n",
    "    ondem = d2.fetchall()\n",
    "    print instance, \"ONDEM PRICE \", ondem, ondem_mktstring\n",
    "    \n",
    "    for month in months :\n",
    "        table_name = table_name_base+month\n",
    "        query='SELECT Timestamp, SpotPrice FROM {} WHERE MarketId=\\'{}\\' ;'.format(table_name, mktstring)\n",
    "        #print query\n",
    "        d = conn.execute(query)\n",
    "        output.extend(d.fetchall())\n",
    "    if pickle_data is True :\n",
    "        fname = instance_string(instance)+'.pickle'\n",
    "        with open(fname, 'w') as f :\n",
    "            pickle.dump((instance, output, ondem[0][0]), f)\n",
    "    return output, ondem[0][0]\n"
   ]
  },
  {
   "cell_type": "code",
   "execution_count": 547,
   "metadata": {
    "collapsed": false
   },
   "outputs": [],
   "source": [
    "def get_spot_data(markets, from_pickle=False):\n",
    "    \"\"\"\n",
    "    Markets is a list of market/instance objects. \n",
    "    Return [(mkt,on-demprice,[(t,spot-price)])]\n",
    "    \"\"\"\n",
    "    global conn\n",
    "    data = []\n",
    "    \n",
    "    if from_pickle is False:\n",
    "        init_db_connection()\n",
    "        #c3.xlarge seems volatile\n",
    "        for i in markets :\n",
    "            ts, ondem = read_data_sqlite(i)\n",
    "            spot = [(time.mktime(dateutil.parser.parse(t).timetuple()), float(f)) for (t,f) in ts]\n",
    "            nspot = np.array(spot)\n",
    "            data.append((i, float(ondem), nspot))\n",
    "    else : \n",
    "        #Read all the pickle files from the directory and call get_pickled_data\n",
    "        for file in os.listdir('.'):\n",
    "            if file.endswith(\".pickle\") :\n",
    "                with open(file,'r') as f:\n",
    "                    (i, ts, ondem) = get_picked_data(f)\n",
    "                    spot = [(time.mktime(dateutil.parser.parse(t).timetuple()), float(f)) for (t,f) in ts]\n",
    "                    nspot = np.array(spot)\n",
    "                    data.append((i, float(ondem), nspot))\n",
    "\n",
    "    return data\n"
   ]
  },
  {
   "cell_type": "code",
   "execution_count": 548,
   "metadata": {
    "collapsed": false
   },
   "outputs": [],
   "source": [
    "def get_picked_data(f):\n",
    "    \"\"\" Get pickled data from a file instead of the database. \n",
    "        Return (instance, ts, ondem) tuple. \"\"\"\n",
    "    (instance, ts, ondem) = pickle.load(f)\n",
    "    return (instance, ts, ondem)\n",
    "    "
   ]
  },
  {
   "cell_type": "markdown",
   "metadata": {},
   "source": [
    "## Data processing\n",
    "After getting spot price and on-demand price data from either the pickled objects or the database, we do some post-processing of the prices.\n",
    "\n",
    "\n"
   ]
  },
  {
   "cell_type": "code",
   "execution_count": 549,
   "metadata": {
    "collapsed": false
   },
   "outputs": [],
   "source": [
    "data = get_spot_data(markets, from_pickle=True)"
   ]
  },
  {
   "cell_type": "code",
   "execution_count": 550,
   "metadata": {
    "collapsed": false
   },
   "outputs": [],
   "source": [
    "def get_prices_only(d, normalized=False, interpolate=False):\n",
    "    \"\"\" For a given 3-tuple, return an array of prices. Strip the timestamps\n",
    "    \"\"\"\n",
    "    ondem_price = d[1]\n",
    "    spot_prices = d[2][:,1]\n",
    "    if interpolate :\n",
    "        spot_prices = interpolate_prices(d)\n",
    "    if normalized:\n",
    "        return spot_prices/ondem_price  #time, price\n",
    "    else :\n",
    "        return spot_prices\n",
    "    \n",
    "#normalized_price(data[0])"
   ]
  },
  {
   "cell_type": "code",
   "execution_count": 551,
   "metadata": {
    "collapsed": true
   },
   "outputs": [],
   "source": [
    "def interpolate_prices(d, duration='5min'):\n",
    "    \"\"\" Large gaps exist in many traces. Do some interpolation to obtain a uniform trace\n",
    "    \"\"\"\n",
    "    spot_prices = d[2][:,1]\n",
    "    timestamps = d[2][:,0]\n",
    "    tdindex = pd.to_datetime(timestamps, unit='s') #Unit=s makes it parse the unix timestamps\n",
    "    ms = pd.Series(spot_prices, index=tdindex)\n",
    "    mdf = pd.DataFrame(ms,columns=[\"price\"])\n",
    "    \n",
    "    mdf = mdf.resample(duration,fill_method='pad')\n",
    "    return mdf['price']"
   ]
  },
  {
   "cell_type": "code",
   "execution_count": 552,
   "metadata": {
    "collapsed": false
   },
   "outputs": [],
   "source": [
    "def bid_transform(d,interpolate=False):\n",
    "    \"\"\"Given a bid, execute some transformation over the prices.\"\"\"\n",
    "    ondem_price = d[1]\n",
    "    spot_prices = d[2][:,1]\n",
    "    if interpolate:\n",
    "        spot_prices = interpolate_prices(d)\n",
    "    \n",
    "    maxprice = 10*ondem_price\n",
    "    bid = ondem_price \n",
    "    spot_prices[spot_prices >= bid] = maxprice #Amplify the price spike\n",
    "    spot_prices = maxprice - spot_prices  #Price => Profits transformation\n",
    "    #Not sure we want to normalize this to the on-demand price? Hmm...\n",
    "    #Normalizing by 10*on-demand price yields returns which are monotonically *DECREASING* with risk\n",
    "    #We want increasing returns with increasing risk, so turn off the normalization\n",
    "    return spot_prices\n",
    "    \n"
   ]
  },
  {
   "cell_type": "code",
   "execution_count": 553,
   "metadata": {
    "collapsed": false
   },
   "outputs": [],
   "source": [
    "def get_transformed_prices(d, interpolate=True, transform=\"bid\"):\n",
    "    td = [] #List of transformed prices\n",
    "    instances = []\n",
    "\n",
    "    for di in d:\n",
    "        if transform==\"bid\":\n",
    "            td.append(bid_transform(di,interpolate))\n",
    "        elif transform==\"plain\":\n",
    "            td.append(get_prices_only(di,interpolate))\n",
    "        instances.append(di[0])\n",
    "    min_length = min([len(a) for a in td])\n",
    "\n",
    "    return (instances, np.vstack([a[:min_length] for a in td]) )\n"
   ]
  },
  {
   "cell_type": "code",
   "execution_count": 554,
   "metadata": {
    "collapsed": false
   },
   "outputs": [],
   "source": [
    "(instances, dt) = get_transformed_prices(data, transform=\"bid\")\n",
    "import scipy.stats"
   ]
  },
  {
   "cell_type": "code",
   "execution_count": 555,
   "metadata": {
    "collapsed": false
   },
   "outputs": [
    {
     "data": {
      "text/plain": [
       "(48994,\n",
       " (0.032099999999999997, 2.1000000000000001),\n",
       " 0.15087856880434339,\n",
       " 0.076725969678061057,\n",
       " 2.575952995737853,\n",
       " 5.251621313270784)"
      ]
     },
     "execution_count": 555,
     "metadata": {},
     "output_type": "execute_result"
    }
   ],
   "source": [
    "scipy.stats.describe(data[2][2][:,1])"
   ]
  },
  {
   "cell_type": "markdown",
   "metadata": {},
   "source": [
    "## Portfolio construction\n",
    "So far we have read in the spot prices, applied the transforms, and computed the covariance matrix. Now its time for the actual portfolio creation.\n"
   ]
  },
  {
   "cell_type": "code",
   "execution_count": 556,
   "metadata": {
    "collapsed": false
   },
   "outputs": [],
   "source": [
    "import cvxopt as opt\n",
    "from cvxopt import blas, solvers\n",
    "%matplotlib inline"
   ]
  },
  {
   "cell_type": "code",
   "execution_count": 557,
   "metadata": {
    "collapsed": true
   },
   "outputs": [],
   "source": [
    "solvers.options['show_progress'] = False"
   ]
  },
  {
   "cell_type": "code",
   "execution_count": 558,
   "metadata": {
    "collapsed": true
   },
   "outputs": [],
   "source": [
    "def rand_weights(n):\n",
    "    ''' Produces n random weights that sum to 1 '''\n",
    "    k = np.random.rand(n)\n",
    "    return k / sum(k)"
   ]
  },
  {
   "cell_type": "code",
   "execution_count": 559,
   "metadata": {
    "collapsed": true
   },
   "outputs": [],
   "source": [
    "num_mkts = len(instances)"
   ]
  },
  {
   "cell_type": "markdown",
   "metadata": {
    "collapsed": false
   },
   "source": [
    "Now determine on which markets we want to run the portfolio analysis. By default, we do it on ALL the markets we just read data about"
   ]
  },
  {
   "cell_type": "code",
   "execution_count": 560,
   "metadata": {
    "collapsed": true
   },
   "outputs": [],
   "source": [
    "#dt=dt[3:10]\n",
    "dt=dt"
   ]
  },
  {
   "cell_type": "code",
   "execution_count": 561,
   "metadata": {
    "collapsed": true
   },
   "outputs": [],
   "source": [
    "def eval_portfolio(dt):\n",
    "    p = np.asmatrix(np.mean(dt,axis=1))\n",
    "    w = np.asmatrix(rand_weights(dt.shape[0]))\n",
    "    C = np.asmatrix(np.cov(dt))\n",
    "    \n",
    "    mu = w * p.T\n",
    "    sigma = np.sqrt(w * C * w.T)\n",
    "    print mu, sigma\n",
    "    \n",
    "    return mu, sigma"
   ]
  },
  {
   "cell_type": "code",
   "execution_count": 562,
   "metadata": {
    "collapsed": false
   },
   "outputs": [],
   "source": [
    "def eval_n_portfolios(dt, n_portfolios=250):\n",
    "    n_portfolios = 50\n",
    "    return np.column_stack([\n",
    "        eval_portfolio(dt) \n",
    "        for _ in xrange(n_portfolios)\n",
    "        ])\n"
   ]
  },
  {
   "cell_type": "code",
   "execution_count": 563,
   "metadata": {
    "collapsed": false
   },
   "outputs": [
    {
     "name": "stdout",
     "output_type": "stream",
     "text": [
      "[[ 12.91862003]] [[ 2.23847312]]\n",
      "[[ 13.70150301]] [[ 2.20229041]]\n",
      "[[ 10.64355215]] [[ 1.87305188]]\n",
      "[[ 10.4435207]] [[ 2.12109406]]\n",
      "[[ 16.18228898]] [[ 2.99122889]]\n",
      "[[ 13.56730104]] [[ 2.0630679]]\n",
      "[[ 6.55169314]] [[ 0.8731162]]\n",
      "[[ 7.38457475]] [[ 1.01117897]]\n",
      "[[ 12.82481146]] [[ 2.12164231]]\n",
      "[[ 12.08778978]] [[ 1.88610992]]\n",
      "[[ 17.03857602]] [[ 2.83202747]]\n",
      "[[ 11.49771826]] [[ 1.84097801]]\n",
      "[[ 10.75976242]] [[ 2.02860868]]\n",
      "[[ 9.77125457]] [[ 1.26284049]]\n",
      "[[ 8.65328814]] [[ 1.21105509]]\n",
      "[[ 10.00458077]] [[ 1.49096568]]\n",
      "[[ 13.1338433]] [[ 2.03794871]]\n",
      "[[ 19.87890312]] [[ 3.50333517]]\n",
      "[[ 10.8696803]] [[ 1.97660838]]\n",
      "[[ 8.38497873]] [[ 1.50586916]]\n",
      "[[ 11.77164808]] [[ 2.45951006]]\n",
      "[[ 12.67611496]] [[ 2.17368958]]\n",
      "[[ 6.31587064]] [[ 1.22139118]]\n",
      "[[ 15.29626646]] [[ 2.34825915]]\n",
      "[[ 16.99744896]] [[ 3.01165827]]\n",
      "[[ 10.21998332]] [[ 2.12112103]]\n",
      "[[ 12.33453283]] [[ 2.07792812]]\n",
      "[[ 13.17662176]] [[ 1.86443899]]\n",
      "[[ 6.85354702]] [[ 1.09242125]]\n",
      "[[ 8.30834477]] [[ 1.70597161]]\n",
      "[[ 13.63303328]] [[ 2.65200829]]\n",
      "[[ 15.7911703]] [[ 3.35518595]]\n",
      "[[ 12.88197859]] [[ 2.30399271]]\n",
      "[[ 17.14431769]] [[ 2.92525434]]\n",
      "[[ 6.88709456]] [[ 1.05577303]]\n",
      "[[ 14.65156133]] [[ 2.31673867]]\n",
      "[[ 9.31330259]] [[ 1.75785727]]\n",
      "[[ 12.74652697]] [[ 2.00532123]]\n",
      "[[ 16.74356593]] [[ 2.74591715]]\n",
      "[[ 10.39774125]] [[ 1.69623363]]\n",
      "[[ 11.66507437]] [[ 1.72511181]]\n",
      "[[ 11.05633669]] [[ 1.53246037]]\n",
      "[[ 13.19780673]] [[ 2.37616468]]\n",
      "[[ 14.20589287]] [[ 2.50815846]]\n",
      "[[ 8.80240096]] [[ 1.87539941]]\n",
      "[[ 12.82564809]] [[ 2.20954161]]\n",
      "[[ 15.67059613]] [[ 2.47729001]]\n",
      "[[ 12.86959102]] [[ 2.42572471]]\n",
      "[[ 13.45846792]] [[ 2.5599813]]\n",
      "[[ 16.7493088]] [[ 3.06025534]]\n"
     ]
    }
   ],
   "source": [
    "means, stds = eval_n_portfolios(dt)"
   ]
  },
  {
   "cell_type": "code",
   "execution_count": 564,
   "metadata": {
    "collapsed": false
   },
   "outputs": [
    {
     "data": {
      "text/plain": [
       "<matplotlib.text.Text at 0x7f583b5ad5d0>"
      ]
     },
     "execution_count": 564,
     "metadata": {},
     "output_type": "execute_result"
    },
    {
     "data": {
      "image/png": "[encoded data removed]",
      "text/plain": [
       "<matplotlib.figure.Figure at 0x7f583c4c08d0>"
      ]
     },
     "metadata": {},
     "output_type": "display_data"
    }
   ],
   "source": [
    "plt.plot(stds, means, 'o', markersize=5, alpha=0.5)\n",
    "plt.xlabel('std')\n",
    "plt.ylabel('mean')\n",
    "plt.title('Mean and standard deviation of returns of randomly generated portfolios')\n"
   ]
  },
  {
   "cell_type": "markdown",
   "metadata": {},
   "source": [
    "## Finding the efficient frontier\n",
    "\n",
    "We are essentially trying to solve:\n",
    "\n",
    "$\\newcommand{\\ones}{{\\bf 1}}\\begin{array}{ll}\\mbox{minimize}   & -\\bar p^T x + \\mu x^T S x \\\\\\mbox{subject to} & \\ones^T x = 1, \\quad x \\succeq 0\\end{array}$\n",
    "\n",
    "Minimize alpha \\* Risk - Returns . $\\alpha$ controlls how risk averse we want to be. $\\alpha=0$ indicates we don't care about risk at all. \n",
    "\n",
    "\n",
    "Resources:\n",
    "http://blog.quantopian.com/markowitz-portfolio-optimization-2/\n",
    "http://cvxopt.org/userguide/coneprog.html#quadratic-programming\n",
    "http://cvxopt.org/examples/book/portfolio.html\n"
   ]
  },
  {
   "cell_type": "code",
   "execution_count": 629,
   "metadata": {
    "collapsed": false
   },
   "outputs": [],
   "source": [
    "def optimal_portfolio(returns):\n",
    "    n = len(returns)\n",
    "    pbar = opt.matrix(np.mean(returns, axis=1))\n",
    "    \n",
    "    N = 10\n",
    "    mus = [5.8**(5.0 * t/N - 1.0) for t in range(N)]\n",
    "    mus = [0.0]+mus\n",
    "    #mus = [t/1.22 for t in range(N)]\n",
    "    #mus = [0.05+(0.05*t) for t in range(150)]\n",
    "    # Convert to cvxopt matrices\n",
    "    S = opt.matrix(np.cov(returns))\n",
    "    #returns = np.asmatrix(returns)   \n",
    "    returns = opt.matrix(returns)\n",
    "    # Create constraint matrices\n",
    "    G = -opt.matrix(np.eye(n))   # negative n x n identity matrix\n",
    "    h = opt.matrix(0.0, (n ,1))\n",
    "    A = opt.matrix(1.0, (1, n))\n",
    "    b = opt.matrix(1.0)\n",
    "    print \"S, Covariance: \", S.size, S\n",
    "    print \"Returns: \", returns.size\n",
    "    print \"pbar: \", pbar.size, pbar.T\n",
    "    print \"G: \", G.size\n",
    "    print \"h: \", h.size\n",
    "    print \"A: \", A.size\n",
    "    print \"b: \", b.size\n",
    "    \n",
    "    # Calculate efficient frontier weights using quadratic programming\n",
    "    portfolios=[]\n",
    "    for mu in mus:\n",
    "        try:\n",
    "            result = solvers.qp(mu*S, -pbar, G, h, A, b)['x'] \n",
    "            #Result is presumably the weights for a given mu\n",
    "            portfolios.append(result)\n",
    "        except :\n",
    "            print \"BAD MU \", mu\n",
    "            pass\n",
    "    ## CALCULATE RISKS AND RETURNS FOR FRONTIER\n",
    "    returns = [blas.dot(pbar, x) for x in portfolios]\n",
    "    risks = [np.sqrt(blas.dot(x, S*x)) for x in portfolios]\n",
    "    \n",
    "    ## CALCULATE THE 2ND DEGREE POLYNOMIAL OF THE FRONTIER CURVE\n",
    "    m1 = np.polyfit(returns, risks, 2)\n",
    "    gradients = np.gradient(returns)\n",
    "    print \"mu, grad, r, risk, portfolios\"\n",
    "    for p,mu,r,grad, risk in zip(portfolios,mus,returns,gradients,risks):\n",
    "        s = get_market_weights(p)\n",
    "        print \"%0.2f %0.2f %0.2f %0.2f -> %s\" % (mu,grad, r, risk,s)\n",
    "    print \"POLYNOMIAL \", m1\n",
    "    #mu_star = np.sqrt(m1[2] / m1[0])\n",
    "    #This doesnt work because the slope values are negative\n",
    "    #No negatively sloped lines will be tangential to the curves we get\n",
    "    # CALCULATE THE OPTIMAL PORTFOLIO\n",
    "    wt = np.zeros(n)\n",
    "    try:\n",
    "        mu_star = 10.0\n",
    "        wt = solvers.qp(opt.matrix(mu_star * S), -pbar, G, h, A, b)['x']\n",
    "        print \"TANGENTIAL WT\"\n",
    "        print get_market_weights(np.array(wt))\n",
    "    except:\n",
    "        print \"NOT ABLE TO CALCULATE OPTIMUM WEIGHTS\"\n",
    "    return np.asarray(wt), returns, risks"
   ]
  },
  {
   "cell_type": "code",
   "execution_count": 630,
   "metadata": {
    "collapsed": false
   },
   "outputs": [
    {
     "name": "stdout",
     "output_type": "stream",
     "text": [
      "S, Covariance:  (15, 15) [ 1.81e-02 -2.08e-03  9.78e-03  1.14e-03 -5.15e-04  1.83e-03  8.34e-03 ... ]\n",
      "[-2.08e-03  4.44e+00 -3.16e-01  8.20e-02 -5.12e-03 -2.74e-01 -3.52e-02 ... ]\n",
      "[ 9.78e-03 -3.16e-01  7.80e-01 -1.05e-02  1.33e-01  1.19e-01  4.34e-02 ... ]\n",
      "[ 1.14e-03  8.20e-02 -1.05e-02  3.32e-01  9.73e-02 -2.32e-03 -1.13e-02 ... ]\n",
      "[-5.15e-04 -5.12e-03  1.33e-01  9.73e-02  4.03e-01  3.52e-02 -1.26e-02 ... ]\n",
      "[ 1.83e-03 -2.74e-01  1.19e-01 -2.32e-03  3.52e-02  1.03e-01  1.61e-02 ... ]\n",
      "[ 8.34e-03 -3.52e-02  4.34e-02 -1.13e-02 -1.26e-02  1.61e-02  1.27e-01 ... ]\n",
      "[-2.54e-02 -3.85e-02  3.08e-01  8.66e-01  6.94e-01  3.66e-01 -1.41e-01 ... ]\n",
      "[ 1.74e-01  1.06e+01 -1.27e+00 -2.35e-01 -9.15e-01 -3.82e-02  3.72e-01 ... ]\n",
      "[-2.15e-02  1.49e+01 -2.41e+00  4.13e-01 -3.08e-01 -1.77e+00 -3.08e-01 ... ]\n",
      "[-7.59e-06  1.60e-03 -3.45e-04  8.62e-06 -6.31e-05 -3.41e-04 -7.17e-05 ... ]\n",
      "[-3.75e-04 -6.08e-02  5.19e-02  3.78e-02  9.05e-02  2.47e-02 -7.44e-03 ... ]\n",
      "[ 1.60e-03 -2.79e-01  1.16e-01 -4.61e-04  3.96e-02  9.54e-02  1.49e-02 ... ]\n",
      "[-8.16e-04  2.16e-02  2.96e-02 -1.26e-02  2.57e-02  1.55e-02 -6.20e-03 ... ]\n",
      "[ 1.62e-03  4.36e-01  5.95e-03  1.14e-02  5.26e-02 -2.32e-02 -2.00e-03 ... ]\n",
      "\n",
      "Returns:  (15, 44166)\n",
      "pbar:  (15, 1) [ 2.05e+00  5.62e+00  1.56e+00  1.51e+00  1.45e+00  2.63e-01  2.00e+00 ... ]\n",
      "\n",
      "G:  (15, 15)\n",
      "h:  (15, 1)\n",
      "A:  (1, 15)\n",
      "b:  (1, 1)\n",
      "mu, grad, r, risk, portfolios\n",
      "0.00 -1.03 52.43 10.32 -> a-d2.8xlarge: 0.999999892155, \n",
      "0.17 -0.61 51.40 8.28 -> a-d2.8xlarge: 0.69581498756, b-d2.8xlarge: 0.0857806503018, e-d2.8xlarge: 0.21840436376, \n",
      "0.42 -7.41 51.20 8.18 -> a-d2.8xlarge: 0.650469570222, b-d2.8xlarge: 0.12023116485, e-d2.8xlarge: 0.22929753814, \n",
      "1.00 -16.13 36.58 5.53 -> a-d2.8xlarge: 0.430689776861, b-d2.8xlarge: 0.0877717048632, e-d2.8xlarge: 0.156532513288, e-g2.2xlarge: 0.320554639828, \n",
      "2.41 -12.48 18.94 2.36 -> a-d2.8xlarge: 0.180872033097, b-d2.8xlarge: 0.0378262101474, e-d2.8xlarge: 0.0628679172456, e-g2.2xlarge: 0.453080724274, a-g2.2xlarge: 0.265352977052, \n",
      "5.80 -5.44 11.61 1.12 -> a-d2.8xlarge: 0.0771399602926, b-d2.8xlarge: 0.0170878351208, e-d2.8xlarge: 0.0239722186841, e-g2.2xlarge: 0.507777065868, a-g2.2xlarge: 0.37402294086, \n",
      "13.97 -3.47 8.06 0.66 -> b-c3.xlarge: 0.0700301224726, e-c3.xlarge: 0.0466978743353, a-d2.8xlarge: 0.0337447027072, e-g2.2xlarge: 0.467076653152, a-g2.2xlarge: 0.366015349636, \n",
      "33.64 -2.41 4.66 0.30 -> b-c3.xlarge: 0.543094365946, e-c3.xlarge: 0.0638185420082, a-d2.8xlarge: 0.0143060941484, e-g2.2xlarge: 0.209761371293, a-g2.2xlarge: 0.162385177189, \n",
      "81.02 -1.39 3.23 0.17 -> b-c3.xlarge: 0.720595028321, e-c3.xlarge: 0.0704805030112, b-r3.large: 0.0177547419566, e-g2.2xlarge: 0.102313251423, a-g2.2xlarge: 0.07732724833, \n",
      "195.11 -1.03 1.88 0.08 -> b-c3.xlarge: 0.378046348328, e-c3.xlarge: 0.0369576914041, e-m3.medium: 0.484665688725, b-r3.large: 0.0130937961197, e-g2.2xlarge: 0.0450346943973, a-g2.2xlarge: 0.0335860535282, \n",
      "469.89 -0.71 1.17 0.03 -> b-c3.xlarge: 0.157127138241, e-c3.xlarge: 0.0156261351806, e-m3.medium: 0.785650169507, e-g2.2xlarge: 0.0187642204674, a-g2.2xlarge: 0.0138888547299, \n",
      "POLYNOMIAL  [ 0.00157156  0.0948662  -0.13533057]\n",
      "TANGENTIAL WT\n",
      "a-d2.8xlarge: wt    0.046204\n",
      "Name: 7, dtype: float64, b-d2.8xlarge: wt    0.010903\n",
      "Name: 8, dtype: float64, e-d2.8xlarge: wt    0.012372\n",
      "Name: 9, dtype: float64, e-g2.2xlarge: wt    0.524089\n",
      "Name: 13, dtype: float64, a-g2.2xlarge: wt    0.406431\n",
      "Name: 14, dtype: float64, \n"
     ]
    }
   ],
   "source": [
    "weights, returns, risks = optimal_portfolio(dt)"
   ]
  },
  {
   "cell_type": "code",
   "execution_count": 624,
   "metadata": {
    "collapsed": false,
    "scrolled": false
   },
   "outputs": [
    {
     "data": {
      "image/png": "[encoded data removed]",
      "text/plain": [
       "<matplotlib.figure.Figure at 0x7f583bd15f90>"
      ]
     },
     "metadata": {},
     "output_type": "display_data"
    }
   ],
   "source": [
    "plt.plot(stds, means, 'o',alpha=0.5,label=\"Random portfolios\")\n",
    "plt.ylabel('Expected Returns')\n",
    "plt.xlabel('Standard Deviation (Risk)')\n",
    "plt.plot(risks, returns, marker='o',color='r',label=\"Efficient Frontier\")\n",
    "plt.ylim(ymin=-2)\n",
    "plt.legend(loc='best')\n",
    "plt.savefig(\"15mkts.pdf\")"
   ]
  },
  {
   "cell_type": "code",
   "execution_count": 610,
   "metadata": {
    "collapsed": false
   },
   "outputs": [],
   "source": [
    "def get_market_weights(p):\n",
    "    #s = np.array(p.T)[0]\n",
    "    s = p\n",
    "    df = pd.DataFrame(zip(s,instances),columns=['wt','market'])\n",
    "    df = df[df['wt']>0.01]\n",
    "    outlist = []\n",
    "    outstring = ''\n",
    "    for index, row in df.iterrows():\n",
    "        outlist.append( (simple_mkt_string(row['market']), row['wt'] ) )\n",
    "        outstring = outstring + simple_mkt_string(row['market']) +\": \"+ str(row['wt']) +\", \"\n",
    "    return outstring\n",
    "\n",
    "def simple_mkt_string(i):\n",
    "    return i['AZ']+'-'+i['type']"
   ]
  },
  {
   "cell_type": "code",
   "execution_count": 611,
   "metadata": {
    "collapsed": false
   },
   "outputs": [
    {
     "data": {
      "text/plain": [
       "'b-g2.2xlarge: 1, a-c3.xlarge: 2, a-r3.large: 3, e-r3.large: 4, b-m3.medium: 5, e-c3.xlarge: 6, a-d2.8xlarge: 7, b-d2.8xlarge: 8, e-d2.8xlarge: 9, e-m3.medium: 10, b-r3.large: 11, a-m3.medium: 12, e-g2.2xlarge: 13, a-g2.2xlarge: 14, '"
      ]
     },
     "execution_count": 611,
     "metadata": {},
     "output_type": "execute_result"
    }
   ],
   "source": [
    "get_market_weights(np.arange(0,len(instances)))"
   ]
  },
  {
   "cell_type": "markdown",
   "metadata": {},
   "source": [
    "## Picking the right alpha\n",
    "\n",
    "A question that persists is how to map user requirements to alpha. How to pick the right alpha?\n",
    "If you notice, the last step in the optimization is trying to find the portfolio that is tangential to the optimal frontier. The mu_star variable is the slope of this tangent. Thus, mu_star gives an indication for how much we value risk. *Probably a better term for this*\n",
    "\n",
    "A high mu_star indicates a steep slope, which means that the user is willing to take only a small amount of risk for higher rewards. Where will such a line with a large slope be tangential to the efficient frontier? At low-risk values ofcourse! Similarly, a low sloping tangent will meet the frontier curve towards the right, where the risk (and rewards) are high.\n",
    "\n",
    "Thus, the slope parameter is a good metric to capture risk averseness, and may even match resilency of applications. Highly resilient applications have high risk tolerance => lower sloped tangents => pick high risk/reward points on the right of the curve. Such points have fewer number of markets in their portfolio, as we can see from the output. \n",
    "\n",
    "Applications not resilient will tend to have higher mu, and larger number of markets.\n"
   ]
  },
  {
   "cell_type": "markdown",
   "metadata": {
    "collapsed": true
   },
   "source": [
    "# END"
   ]
  },
  {
   "cell_type": "code",
   "execution_count": 12,
   "metadata": {
    "collapsed": false
   },
   "outputs": [],
   "source": [
    "def my_covariance(x,y):\n",
    "    \"\"\"\n",
    "    This yields similiar results to\n",
    "    pd.Series(x).cov(pd.Series(y)) \"\"\"\n",
    "    xbar = x.mean()\n",
    "    ybar = y.mean()\n",
    "    x = x-xbar\n",
    "    y = y-ybar\n",
    "    n = min(x.shape[0], y.shape[0])\n",
    "    x = x[:n-1]\n",
    "    y = y[:n-1]\n",
    "    cov = (x*y)\n",
    "    cov = np.sum(cov)/(n-1)\n",
    "    print cov\n",
    "    return cov\n"
   ]
  },
  {
   "cell_type": "code",
   "execution_count": 114,
   "metadata": {
    "collapsed": false
   },
   "outputs": [
    {
     "name": "stdout",
     "output_type": "stream",
     "text": [
      "[[ -6.4348  -6.435   -6.4349 ...,  -6.4347  -6.4351  -6.4354]\n",
      " [ -2.0676  -2.0679  -2.0676 ...,  -2.0679  -2.0654  -2.0679]\n",
      " [ -1.7281   0.      -1.733  ...,  -1.7318  -1.7313  -1.7331]\n",
      " [-54.64   -54.6365 -54.6361 ..., -54.6354 -54.6348 -54.6354]\n",
      " [  0.       0.       0.     ...,  -0.653   -0.653   -0.653 ]]\n"
     ]
    }
   ],
   "source": [
    "print dt"
   ]
  },
  {
   "cell_type": "code",
   "execution_count": 13,
   "metadata": {
    "collapsed": false
   },
   "outputs": [
    {
     "name": "stdout",
     "output_type": "stream",
     "text": [
      "-8.02333628098e-05\n"
     ]
    },
    {
     "data": {
      "text/plain": [
       "-8.0233362809846391e-05"
      ]
     },
     "execution_count": 13,
     "metadata": {},
     "output_type": "execute_result"
    }
   ],
   "source": [
    "my_covariance(x,y)"
   ]
  },
  {
   "cell_type": "code",
   "execution_count": 14,
   "metadata": {
    "collapsed": false
   },
   "outputs": [
    {
     "data": {
      "text/plain": [
       "-8.0003161504696132e-05"
      ]
     },
     "execution_count": 14,
     "metadata": {},
     "output_type": "execute_result"
    }
   ],
   "source": [
    "pd.Series(x).cov(pd.Series(y))"
   ]
  },
  {
   "cell_type": "code",
   "execution_count": 16,
   "metadata": {
    "collapsed": false
   },
   "outputs": [
    {
     "name": "stdout",
     "output_type": "stream",
     "text": [
      "({'OS': 'Linux', 'region': 'us-east-1', 'AZ': 'a', 'type': 'g2.2xlarge'}, 0.65, array([[  1.42611080e+09,   6.52000000e-02],\n",
      "       [  1.42611117e+09,   6.50000000e-02],\n",
      "       [  1.42611153e+09,   6.51000000e-02],\n",
      "       ..., \n",
      "       [  1.44108320e+09,   1.25300000e-01],\n",
      "       [  1.44108337e+09,   1.18500000e-01],\n",
      "       [  1.44108353e+09,   1.14200000e-01]]))\n"
     ]
    }
   ],
   "source": [
    "\n",
    "d0=data[0]\n",
    "d1=data[1]\n",
    "print d0"
   ]
  },
  {
   "cell_type": "code",
   "execution_count": 17,
   "metadata": {
    "collapsed": false
   },
   "outputs": [],
   "source": [
    "s0 = pd.Series(d0[2][:,1], index=d0[2][:,0])"
   ]
  },
  {
   "cell_type": "code",
   "execution_count": null,
   "metadata": {
    "collapsed": false
   },
   "outputs": [],
   "source": []
  }
 ],
 "metadata": {
  "kernelspec": {
   "display_name": "Python 2",
   "language": "python",
   "name": "python2"
  },
  "language_info": {
   "codemirror_mode": {
    "name": "ipython",
    "version": 2
   },
   "file_extension": ".py",
   "mimetype": "text/x-python",
   "name": "python",
   "nbconvert_exporter": "python",
   "pygments_lexer": "ipython2",
   "version": "2.7.6"
  }
 },
 "nbformat": 4,
 "nbformat_minor": 0
}
