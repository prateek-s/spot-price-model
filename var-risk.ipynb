{
 "cells": [
  {
   "cell_type": "markdown",
   "metadata": {},
   "source": [
    "# Market selection by using portfolio theory"
   ]
  },
  {
   "cell_type": "code",
   "execution_count": 1,
   "metadata": {
    "collapsed": false
   },
   "outputs": [],
   "source": [
    "\n",
    "import os,sys,matplotlib,pandas,numpy,scipy,dateutil\n",
    "import pandas as pd\n",
    "import numpy as np\n",
    "from pylab import *\n",
    "from datetime import datetime, timedelta\n",
    "import time\n",
    "from statsmodels.distributions.empirical_distribution import ECDF\n",
    "import sqlite3\n",
    "import itertools, random\n",
    "import pickle\n",
    "conn = None\n"
   ]
  },
  {
   "cell_type": "markdown",
   "metadata": {},
   "source": [
    "## Reading price data.\n",
    "Connect to database first, and the slurp the data for the given markets "
   ]
  },
  {
   "cell_type": "code",
   "execution_count": 2,
   "metadata": {
    "collapsed": true
   },
   "outputs": [],
   "source": [
    "markets = [ {'type': 'g2.2xlarge', 'region': 'us-east-1', 'AZ': 'a', 'OS': 'Linux'} ,\n",
    "                     {'type': 'c3.xlarge', 'region': 'us-east-1', 'AZ': 'a', 'OS': 'Linux'} ,\n",
    "                     {'type': 'r3.large', 'region': 'us-east-1', 'AZ': 'a', 'OS': 'Linux'} ,\n",
    "                     {'type': 'm3.medium', 'region': 'us-east-1', 'AZ': 'a', 'OS': 'Linux'} ,\n",
    "                     {'type': 'd2.8xlarge', 'region': 'us-east-1', 'AZ': 'a', 'OS': 'Linux'}\n",
    "                     ]"
   ]
  },
  {
   "cell_type": "code",
   "execution_count": 14,
   "metadata": {
    "collapsed": false
   },
   "outputs": [
    {
     "data": {
      "text/plain": [
       "'us-east-1a-Linux-g2.2xlarge'"
      ]
     },
     "execution_count": 14,
     "metadata": {},
     "output_type": "execute_result"
    }
   ],
   "source": [
    "str(instance_string(markets[0]))"
   ]
  },
  {
   "cell_type": "code",
   "execution_count": 3,
   "metadata": {
    "collapsed": false
   },
   "outputs": [],
   "source": [
    "def init_db_connection() :\n",
    "    global conn\n",
    "    conn = sqlite3.connect('/home/prateeks/spot_prices_2015/aws.db')\n",
    "    return \n",
    "\n",
    "init_db_connection();\n"
   ]
  },
  {
   "cell_type": "code",
   "execution_count": 4,
   "metadata": {
    "collapsed": false
   },
   "outputs": [
    {
     "name": "stdout",
     "output_type": "stream",
     "text": [
      "<sqlite3.Connection object at 0x7eff2a0eece0>\n"
     ]
    }
   ],
   "source": [
    "print conn"
   ]
  },
  {
   "cell_type": "code",
   "execution_count": 5,
   "metadata": {
    "collapsed": false
   },
   "outputs": [],
   "source": [
    "def instance_to_MarketId(i) :\n",
    "    \"\"\" The database table names or the file names  \"\"\"\n",
    "    osname = {'Linux':'Linux/UNIX'}\n",
    "    return i['region']+i['AZ']+'-'+osname[i['OS']]+'-'+i['type']\n"
   ]
  },
  {
   "cell_type": "code",
   "execution_count": 13,
   "metadata": {
    "collapsed": true
   },
   "outputs": [],
   "source": [
    "def instance_string(i):\n",
    "    return i['region']+i['AZ']+'-'+ i['OS']+'-'+i['type']"
   ]
  },
  {
   "cell_type": "code",
   "execution_count": 36,
   "metadata": {
    "collapsed": false
   },
   "outputs": [],
   "source": [
    "def read_data_sqlite(instance , mktstring=None, months=['201503','201504','201505','201506','201507','201508'],pickle_data=True):\n",
    "    global conn\n",
    "    table_name_base='AKIAJXNAQH5WHJFPNCXA_' # '201503'\n",
    "    if mktstring == None:\n",
    "        mktstring = instance_to_MarketId(instance)\n",
    "    output=[]\n",
    "    ondem=[]\n",
    "    ondemtable = 'on_demand_price'\n",
    "    #Need to remove avail zone from mkt string argh!\n",
    "   #TODO: function for converting to the on-demand string \n",
    "    ondem_mktstring = mktstring.replace('a-','-')\n",
    "    ondem_mktstring = ondem_mktstring.replace('/UNIX','')\n",
    "    q2 = 'SELECT SpotPrice FROM {} WHERE MarketId=\\'{}\\' ;'.format(ondemtable, ondem_mktstring)\n",
    "    d2 = conn.execute(q2)\n",
    "    ondem = d2.fetchall()\n",
    "\n",
    "    for month in months :\n",
    "        table_name = table_name_base+month\n",
    "        query='SELECT Timestamp, SpotPrice FROM {} WHERE MarketId=\\'{}\\' ;'.format(table_name, mktstring)\n",
    "        #print query\n",
    "        d = conn.execute(query)\n",
    "        output.extend(d.fetchall())\n",
    "    if pickle_data is True :\n",
    "        fname = instance_string(instance)+'.pickle'\n",
    "        with open(fname, 'w') as f :\n",
    "            pickle.dump((instance, output, ondem[0][0]), f)\n",
    "    return output, ondem[0][0]\n"
   ]
  },
  {
   "cell_type": "code",
   "execution_count": 52,
   "metadata": {
    "collapsed": false
   },
   "outputs": [],
   "source": [
    "def get_spot_data(markets, from_pickle=False):\n",
    "    \"\"\"\n",
    "    markets is a list of dictionaries. Return [(mkt,on-demprice,[(t,spot-price)])]\n",
    "    \"\"\"\n",
    "    global conn\n",
    "    data = []\n",
    "    \n",
    "    if from_pickle is False:\n",
    "        init_db_connection()\n",
    "        #c3.xlarge seems volatile\n",
    "        for i in markets :\n",
    "            ts, ondem = read_data_sqlite(i)\n",
    "            spot = [(time.mktime(dateutil.parser.parse(t).timetuple()), float(f)) for (t,f) in ts]\n",
    "            nspot = np.array(spot)\n",
    "            data.append((i, float(ondem), nspot))\n",
    "    else : \n",
    "        #Read all the pickle files from the directory and call get_pickled_data\n",
    "        for file in os.listdir('.'):\n",
    "            if file.endswith(\".pickle\") :\n",
    "                with open(file,'r') as f:\n",
    "                    (i, ts, ondem) = get_picked_data(f)\n",
    "                    spot = [(time.mktime(dateutil.parser.parse(t).timetuple()), float(f)) for (t,f) in ts]\n",
    "                    nspot = np.array(spot)\n",
    "                    data.append((i, float(ondem), nspot))\n",
    "\n",
    "    return data\n"
   ]
  },
  {
   "cell_type": "code",
   "execution_count": 53,
   "metadata": {
    "collapsed": false
   },
   "outputs": [],
   "source": [
    "def get_picked_data(f):\n",
    "    \"\"\" Get pickled data from a file. Return (instance, ts, ondem) tuple. \"\"\"\n",
    "    (instance, ts, ondem) = pickle.load(f)\n",
    "    return (instance, ts, ondem)\n",
    "    "
   ]
  },
  {
   "cell_type": "code",
   "execution_count": null,
   "metadata": {
    "collapsed": false
   },
   "outputs": [],
   "source": []
  },
  {
   "cell_type": "code",
   "execution_count": 54,
   "metadata": {
    "collapsed": false
   },
   "outputs": [
    {
     "name": "stdout",
     "output_type": "stream",
     "text": [
      "all-cdf.py               time_series_1.ipynb\r\n",
      "Bidding_1.ipynb          Untitled0-Copy0_1.ipynb\r\n",
      "Bidding_2.ipynb          Untitled0.ipynb\r\n",
      "Correlation-Copy0.ipynb  Untitled1.ipynb\r\n",
      "Correlation.ipynb        Untitled2.ipynb\r\n",
      "ft-mechanisms.py         us-east-1a-Linux-c3.xlarge.pickle\r\n",
      "overyears.py             us-east-1a-Linux-d2.8xlarge.pickle\r\n",
      "parr_ex_price.py         us-east-1a-Linux-g2.2xlarge.pickle\r\n",
      "README.md                us-east-1a-Linux-m3.medium.pickle\r\n",
      "spike_correlation.ipynb  us-east-1a-Linux-r3.large.pickle\r\n",
      "spot_analysis.py         var-risk-Copy1.ipynb\r\n",
      "\u001b[0m\u001b[01;32mspotfail.py\u001b[0m*             var-risk.ipynb\r\n",
      "testr.R                  years.ipynb\r\n"
     ]
    }
   ],
   "source": [
    "ls"
   ]
  },
  {
   "cell_type": "code",
   "execution_count": 55,
   "metadata": {
    "collapsed": false
   },
   "outputs": [],
   "source": [
    "data = get_spot_data(markets, from_pickle=True)"
   ]
  },
  {
   "cell_type": "code",
   "execution_count": 56,
   "metadata": {
    "collapsed": false
   },
   "outputs": [],
   "source": [
    "def get_prices_only(d, normalized=False):\n",
    "    \"\"\" For a given 3-tuple, return an array of prices. Strip the timestamps\n",
    "    \"\"\"\n",
    "    ondem_price = d[1]\n",
    "    spot_prices = d[2][:,1]\n",
    "    \n",
    "    if normalized:\n",
    "        return spot_prices/ondem_price  #time, price\n",
    "    else :\n",
    "        return spot_prices\n",
    "    \n",
    "#normalized_price(data[0])"
   ]
  },
  {
   "cell_type": "code",
   "execution_count": 75,
   "metadata": {
    "collapsed": false
   },
   "outputs": [
    {
     "name": "stdout",
     "output_type": "stream",
     "text": [
      "[1 2]\n",
      "8\n"
     ]
    }
   ],
   "source": [
    "a=np.array([1,2,3,1,5,3,2,1])\n",
    "a[a>=3]=100\n",
    "print a[:2]\n",
    "print len(a)"
   ]
  },
  {
   "cell_type": "code",
   "execution_count": 161,
   "metadata": {
    "collapsed": true
   },
   "outputs": [],
   "source": [
    "def bid_transform(d):\n",
    "    \"\"\"Given a bid, execute some transformation over the prices.\"\"\"\n",
    "    ondem_price = d[1]\n",
    "    spot_prices = d[2][:,1]\n",
    "    maxprice = 10*ondem_price\n",
    "    bid = ondem_price \n",
    "    spot_prices[spot_prices >= bid] = maxprice #Amplify the price spike\n",
    "    spot_prices = (10*ondem_price) - spot_prices  #Price => Profits transformation\n",
    "    #Not sure we want to normalize this to the on-demand price? Hmm...\n",
    "    #Normalizing by 10*on-demand price yields returns which are monotonically *DECREASING* with risk\n",
    "    #We want increasing returns with increasing risk, so turn off the normalization\n",
    "    return spot_prices\n",
    "    \n"
   ]
  },
  {
   "cell_type": "code",
   "execution_count": 162,
   "metadata": {
    "collapsed": false
   },
   "outputs": [
    {
     "data": {
      "text/plain": [
       "DescribeResult(nobs=23459, minmax=(0.064100000000000004, 6.5), mean=0.26929619591627946, variance=1.079290056470753, skewness=5.816131066067971, kurtosis=31.91528783941245)"
      ]
     },
     "execution_count": 162,
     "metadata": {},
     "output_type": "execute_result"
    }
   ],
   "source": [
    "prices = get_prices_only(data[0])\n",
    "scipy.stats.describe(prices)"
   ]
  },
  {
   "cell_type": "code",
   "execution_count": 163,
   "metadata": {
    "collapsed": false
   },
   "outputs": [],
   "source": [
    "def get_transformed_prices(d):\n",
    "    td = [] #List of transformed prices\n",
    "    instances = []\n",
    "    for di in d:\n",
    "        td.append(bid_transform(di))\n",
    "        instances.append(di[0])\n",
    "    min_length = min([len(a) for a in td])\n",
    "\n",
    "    print min_length\n",
    "    return (instances, np.vstack([a[:min_length] for a in td]) )\n"
   ]
  },
  {
   "cell_type": "code",
   "execution_count": 164,
   "metadata": {
    "collapsed": false
   },
   "outputs": [
    {
     "name": "stdout",
     "output_type": "stream",
     "text": [
      "3755\n"
     ]
    }
   ],
   "source": [
    "(instances, dt) = get_transformed_prices(data)"
   ]
  },
  {
   "cell_type": "code",
   "execution_count": 165,
   "metadata": {
    "collapsed": false
   },
   "outputs": [
    {
     "data": {
      "text/plain": [
       "array([[  9.91135311e-02,  -5.62824899e-04,  -1.23815047e-03,\n",
       "         -5.52116991e-02,  -8.79229878e-04],\n",
       "       [ -5.62824899e-04,   6.39331292e-02,  -1.94758731e-03,\n",
       "          5.06789920e-01,  -1.60978451e-03],\n",
       "       [ -1.23815047e-03,  -1.94758731e-03,   1.15786561e-01,\n",
       "         -1.35159941e-01,   4.84461610e-03],\n",
       "       [ -5.52116991e-02,   5.06789920e-01,  -1.35159941e-01,\n",
       "          1.50678266e+02,  -4.77425854e-02],\n",
       "       [ -8.79229878e-04,  -1.60978451e-03,   4.84461610e-03,\n",
       "         -4.77425854e-02,   2.79078751e-02]])"
      ]
     },
     "execution_count": 165,
     "metadata": {},
     "output_type": "execute_result"
    }
   ],
   "source": [
    "np.shape(dt)\n",
    "np.cov(dt)"
   ]
  },
  {
   "cell_type": "markdown",
   "metadata": {},
   "source": [
    "## Portfolio construction starts here\n",
    "So far we have read in the spot prices, applied the transforms, and computed the covariance matrix. Now its time for the actual portfolio creation.\n"
   ]
  },
  {
   "cell_type": "code",
   "execution_count": 203,
   "metadata": {
    "collapsed": false
   },
   "outputs": [],
   "source": [
    "import cvxopt as opt\n",
    "from cvxopt import blas, solvers\n",
    "%matplotlib inline"
   ]
  },
  {
   "cell_type": "code",
   "execution_count": 204,
   "metadata": {
    "collapsed": true
   },
   "outputs": [],
   "source": [
    "solvers.options['show_progress'] = False"
   ]
  },
  {
   "cell_type": "code",
   "execution_count": 205,
   "metadata": {
    "collapsed": true
   },
   "outputs": [],
   "source": [
    "def rand_weights(n):\n",
    "    ''' Produces n random weights that sum to 1 '''\n",
    "    k = np.random.rand(n)\n",
    "    return k / sum(k)"
   ]
  },
  {
   "cell_type": "code",
   "execution_count": 206,
   "metadata": {
    "collapsed": true
   },
   "outputs": [],
   "source": [
    "num_mkts = len(instances)"
   ]
  },
  {
   "cell_type": "code",
   "execution_count": 207,
   "metadata": {
    "collapsed": false
   },
   "outputs": [
    {
     "name": "stdout",
     "output_type": "stream",
     "text": [
      "5\n"
     ]
    }
   ],
   "source": [
    "print num_mkts"
   ]
  },
  {
   "cell_type": "code",
   "execution_count": 208,
   "metadata": {
    "collapsed": false
   },
   "outputs": [
    {
     "name": "stdout",
     "output_type": "stream",
     "text": [
      "[ 0.12345509  0.1079809   0.35119969  0.10519123  0.31217308]\n"
     ]
    }
   ],
   "source": [
    "print rand_weights(num_mkts)"
   ]
  },
  {
   "cell_type": "code",
   "execution_count": 209,
   "metadata": {
    "collapsed": false
   },
   "outputs": [
    {
     "data": {
      "text/plain": [
       "array([  6.41758503,   2.03584431,   1.661829  ,  51.29888479,   0.60888451])"
      ]
     },
     "execution_count": 209,
     "metadata": {},
     "output_type": "execute_result"
    }
   ],
   "source": [
    "np.mean(dt, axis=1)"
   ]
  },
  {
   "cell_type": "code",
   "execution_count": 210,
   "metadata": {
    "collapsed": false
   },
   "outputs": [
    {
     "data": {
      "text/plain": [
       "matrix([[  6.41758503,   2.03584431,   1.661829  ,  51.29888479,\n",
       "           0.60888451]])"
      ]
     },
     "execution_count": 210,
     "metadata": {},
     "output_type": "execute_result"
    }
   ],
   "source": [
    "np.asmatrix(np.mean(dt,axis=1))"
   ]
  },
  {
   "cell_type": "code",
   "execution_count": 211,
   "metadata": {
    "collapsed": false
   },
   "outputs": [
    {
     "data": {
      "text/plain": [
       "matrix([[ 0.22525793,  0.14621614,  0.31335411,  0.12196954,  0.19320227]])"
      ]
     },
     "execution_count": 211,
     "metadata": {},
     "output_type": "execute_result"
    }
   ],
   "source": [
    "np.asmatrix(rand_weights(dt.shape[0]))"
   ]
  },
  {
   "cell_type": "code",
   "execution_count": 212,
   "metadata": {
    "collapsed": true
   },
   "outputs": [],
   "source": [
    "def eval_portfolio(dt):\n",
    "    p = np.asmatrix(np.mean(dt,axis=1))\n",
    "    w = np.asmatrix(rand_weights(dt.shape[0]))\n",
    "    C = np.asmatrix(np.cov(dt))\n",
    "    \n",
    "    mu = w * p.T\n",
    "    sigma = np.sqrt(w * C * w.T)\n",
    "    print mu, sigma\n",
    "    \n",
    "    return mu, sigma"
   ]
  },
  {
   "cell_type": "code",
   "execution_count": 213,
   "metadata": {
    "collapsed": false
   },
   "outputs": [
    {
     "name": "stdout",
     "output_type": "stream",
     "text": [
      "[[ 21.72830478]] [[ 4.59693269]]\n",
      "[[ 24.31745479]] [[ 5.47066565]]\n",
      "[[ 9.24840375]] [[ 1.8369901]]\n",
      "[[ 13.92807651]] [[ 2.97943766]]\n",
      "[[ 12.73377662]] [[ 2.4562937]]\n",
      "[[ 13.77764004]] [[ 2.67788779]]\n",
      "[[ 6.24926036]] [[ 1.16042225]]\n",
      "[[ 13.191669]] [[ 2.57352649]]\n",
      "[[ 8.55499797]] [[ 1.6115637]]\n",
      "[[ 6.69538733]] [[ 0.99160443]]\n",
      "[[ 17.58966597]] [[ 3.54584844]]\n",
      "[[ 22.89437978]] [[ 4.96654672]]\n",
      "[[ 11.87565942]] [[ 2.54474954]]\n",
      "[[ 8.26130647]] [[ 1.41649095]]\n",
      "[[ 4.88949539]] [[ 0.66006612]]\n",
      "[[ 11.05364964]] [[ 2.37368754]]\n",
      "[[ 15.89306078]] [[ 3.2490757]]\n",
      "[[ 11.99996307]] [[ 2.27500562]]\n",
      "[[ 12.17635401]] [[ 2.25182206]]\n",
      "[[ 19.17794908]] [[ 4.08386645]]\n",
      "[[ 10.61073049]] [[ 2.25479711]]\n",
      "[[ 10.01810475]] [[ 1.92494245]]\n",
      "[[ 12.50311015]] [[ 2.28361518]]\n",
      "[[ 5.63267064]] [[ 1.01447944]]\n",
      "[[ 10.97641087]] [[ 2.07583916]]\n",
      "[[ 16.99453017]] [[ 3.46004233]]\n",
      "[[ 10.55110973]] [[ 2.02607868]]\n",
      "[[ 5.96163468]] [[ 0.8668357]]\n",
      "[[ 11.19591369]] [[ 1.99345394]]\n",
      "[[ 18.29379132]] [[ 3.9146527]]\n",
      "[[ 14.51219767]] [[ 2.85559716]]\n",
      "[[ 21.99872455]] [[ 5.13221515]]\n",
      "[[ 18.98530654]] [[ 3.62797901]]\n",
      "[[ 4.03943137]] [[ 0.28355865]]\n",
      "[[ 17.9653261]] [[ 3.77142422]]\n",
      "[[ 20.74452508]] [[ 4.21650189]]\n",
      "[[ 4.72647092]] [[ 0.39051668]]\n",
      "[[ 10.14439532]] [[ 1.65630713]]\n",
      "[[ 15.49539142]] [[ 3.40583153]]\n",
      "[[ 6.93935177]] [[ 0.97127442]]\n",
      "[[ 9.48883696]] [[ 1.97929347]]\n",
      "[[ 20.45063149]] [[ 4.6147861]]\n",
      "[[ 8.08540277]] [[ 1.25211829]]\n",
      "[[ 12.08577729]] [[ 2.31744069]]\n",
      "[[ 3.49304216]] [[ 0.40311026]]\n",
      "[[ 16.92384359]] [[ 3.72553646]]\n",
      "[[ 24.04146613]] [[ 5.4673143]]\n",
      "[[ 13.984944]] [[ 3.03276208]]\n",
      "[[ 11.68045961]] [[ 2.31906858]]\n",
      "[[ 5.7070309]] [[ 0.78823199]]\n",
      "[[ 6.54808307]] [[ 1.01792649]]\n",
      "[[ 6.29678511]] [[ 1.06661197]]\n",
      "[[ 15.21409009]] [[ 2.73214653]]\n",
      "[[ 9.34540486]] [[ 1.55695323]]\n",
      "[[ 12.7312427]] [[ 2.50773149]]\n",
      "[[ 13.93927644]] [[ 3.04640957]]\n",
      "[[ 8.61553232]] [[ 1.23694422]]\n",
      "[[ 4.18123377]] [[ 0.30601186]]\n",
      "[[ 13.50907621]] [[ 2.58306563]]\n",
      "[[ 15.07626811]] [[ 3.05750677]]\n",
      "[[ 20.95088501]] [[ 4.20055617]]\n",
      "[[ 22.67688602]] [[ 4.79661016]]\n",
      "[[ 10.65343386]] [[ 1.91461183]]\n",
      "[[ 13.24061752]] [[ 2.64840475]]\n",
      "[[ 19.26290187]] [[ 4.01143131]]\n",
      "[[ 12.79033637]] [[ 2.33484361]]\n",
      "[[ 16.31263299]] [[ 3.40831369]]\n",
      "[[ 4.36483687]] [[ 0.47856963]]\n",
      "[[ 8.57074661]] [[ 1.45344863]]\n",
      "[[ 9.58925531]] [[ 1.7724221]]\n",
      "[[ 17.39040007]] [[ 3.70479852]]\n",
      "[[ 13.62478086]] [[ 2.6634304]]\n",
      "[[ 10.02749655]] [[ 2.09465679]]\n",
      "[[ 10.5593237]] [[ 2.05398562]]\n",
      "[[ 12.7861823]] [[ 2.61718839]]\n",
      "[[ 14.66117349]] [[ 3.12625423]]\n",
      "[[ 5.65505815]] [[ 1.04854846]]\n",
      "[[ 6.01401484]] [[ 0.56132878]]\n",
      "[[ 7.471509]] [[ 1.01235128]]\n",
      "[[ 15.80818426]] [[ 3.35279607]]\n",
      "[[ 12.12350718]] [[ 2.63081936]]\n",
      "[[ 8.12100258]] [[ 1.34937943]]\n",
      "[[ 18.14992872]] [[ 3.91401301]]\n",
      "[[ 7.62004116]] [[ 1.49774714]]\n",
      "[[ 11.83574703]] [[ 2.44154164]]\n",
      "[[ 11.91039438]] [[ 2.18141715]]\n",
      "[[ 9.23756403]] [[ 1.80199626]]\n",
      "[[ 12.72160558]] [[ 2.49534692]]\n",
      "[[ 16.20478424]] [[ 3.19340784]]\n",
      "[[ 24.49857147]] [[ 5.52009394]]\n",
      "[[ 8.61008375]] [[ 1.55927252]]\n",
      "[[ 10.82289247]] [[ 2.05717734]]\n",
      "[[ 16.35182681]] [[ 3.32778713]]\n",
      "[[ 14.06547453]] [[ 2.92716172]]\n",
      "[[ 33.37102417]] [[ 7.83131046]]\n",
      "[[ 10.63700719]] [[ 2.21063298]]\n",
      "[[ 15.65368921]] [[ 3.17167731]]\n",
      "[[ 16.0571987]] [[ 3.38649852]]\n",
      "[[ 17.78261682]] [[ 3.71264598]]\n",
      "[[ 19.25376258]] [[ 4.16745973]]\n"
     ]
    }
   ],
   "source": [
    "n_portfolios = 100\n",
    "means, stds = np.column_stack([\n",
    "    eval_portfolio(dt) \n",
    "    for _ in xrange(n_portfolios)\n",
    "])\n"
   ]
  },
  {
   "cell_type": "code",
   "execution_count": 214,
   "metadata": {
    "collapsed": false
   },
   "outputs": [
    {
     "data": {
      "text/plain": [
       "<matplotlib.text.Text at 0x7eff2820ca50>"
      ]
     },
     "execution_count": 214,
     "metadata": {},
     "output_type": "execute_result"
    },
    {
     "data": {
      "image/png": "[encoded data removed]",
      "text/plain": [
       "<matplotlib.figure.Figure at 0x7eff27ad1f90>"
      ]
     },
     "metadata": {},
     "output_type": "display_data"
    }
   ],
   "source": [
    "plt.plot(stds, means, 'o', markersize=5, color='r', alpha=0.5)\n",
    "plt.xlabel('std')\n",
    "plt.ylabel('mean')\n",
    "plt.title('Mean and standard deviation of returns of randomly generated portfolios')\n"
   ]
  },
  {
   "cell_type": "code",
   "execution_count": 221,
   "metadata": {
    "collapsed": true
   },
   "outputs": [],
   "source": [
    "def optimal_portfolio(returns, pbar):\n",
    "    n = len(returns)\n",
    "    returns = np.asmatrix(returns)\n",
    "    \n",
    "    N = 100\n",
    "    mus = [10**(5.0 * t/N - 1.0) for t in range(N)]\n",
    "    \n",
    "    # Convert to cvxopt matrices\n",
    "    S = opt.matrix(np.cov(returns))\n",
    "    \n",
    "    #pbar = opt.matrix(np.mean(returns, axis=1))\n",
    "     \n",
    "    # Create constraint matrices\n",
    "    G = -opt.matrix(np.eye(n))   # negative n x n identity matrix\n",
    "    h = opt.matrix(0.0, (n ,1))\n",
    "    A = opt.matrix(1.0, (1, n))\n",
    "    b = opt.matrix(1.0)\n",
    "    \n",
    "    # Calculate efficient frontier weights using quadratic programming\n",
    "    portfolios = [solvers.qp(mu*S, -pbar, G, h, A, b)['x'] \n",
    "                  for mu in mus]\n",
    "    ## CALCULATE RISKS AND RETURNS FOR FRONTIER\n",
    "    returns = [blas.dot(pbar, x) for x in portfolios]\n",
    "    risks = [np.sqrt(blas.dot(x, S*x)) for x in portfolios]\n",
    "    ## CALCULATE THE 2ND DEGREE POLYNOMIAL OF THE FRONTIER CURVE\n",
    "    m1 = np.polyfit(returns, risks, 2)\n",
    "    x1 = np.sqrt(m1[2] / m1[0])\n",
    "    # CALCULATE THE OPTIMAL PORTFOLIO\n",
    "    wt = solvers.qp(opt.matrix(x1 * S), -pbar, G, h, A, b)['x']\n",
    "    return np.asarray(wt), returns, risks"
   ]
  },
  {
   "cell_type": "code",
   "execution_count": 222,
   "metadata": {
    "collapsed": false
   },
   "outputs": [
    {
     "name": "stdout",
     "output_type": "stream",
     "text": [
      "(5, 1)\n"
     ]
    },
    {
     "ename": "ValueError",
     "evalue": "Rank(A) < p or Rank([P; A; G]) < n",
     "output_type": "error",
     "traceback": [
      "\u001b[1;31m---------------------------------------------------------------------------\u001b[0m",
      "\u001b[1;31mValueError\u001b[0m                                Traceback (most recent call last)",
      "\u001b[1;32m<ipython-input-222-8dd1cd70923c>\u001b[0m in \u001b[0;36m<module>\u001b[1;34m()\u001b[0m\n\u001b[0;32m      1\u001b[0m \u001b[0mp\u001b[0m \u001b[1;33m=\u001b[0m \u001b[0mopt\u001b[0m\u001b[1;33m.\u001b[0m\u001b[0mmatrix\u001b[0m\u001b[1;33m(\u001b[0m\u001b[0mnp\u001b[0m\u001b[1;33m.\u001b[0m\u001b[0mmean\u001b[0m\u001b[1;33m(\u001b[0m\u001b[0mdt\u001b[0m\u001b[1;33m,\u001b[0m \u001b[0maxis\u001b[0m\u001b[1;33m=\u001b[0m\u001b[1;36m1\u001b[0m\u001b[1;33m)\u001b[0m\u001b[1;33m)\u001b[0m\u001b[1;33m\u001b[0m\u001b[0m\n\u001b[0;32m      2\u001b[0m \u001b[1;32mprint\u001b[0m \u001b[0mp\u001b[0m\u001b[1;33m.\u001b[0m\u001b[0msize\u001b[0m\u001b[1;33m\u001b[0m\u001b[0m\n\u001b[1;32m----> 3\u001b[1;33m \u001b[0moptimal_portfolio\u001b[0m\u001b[1;33m(\u001b[0m\u001b[0mdt\u001b[0m\u001b[1;33m,\u001b[0m  \u001b[0mopt\u001b[0m\u001b[1;33m.\u001b[0m\u001b[0mmatrix\u001b[0m\u001b[1;33m(\u001b[0m\u001b[0mnp\u001b[0m\u001b[1;33m.\u001b[0m\u001b[0mmean\u001b[0m\u001b[1;33m(\u001b[0m\u001b[0mdt\u001b[0m\u001b[1;33m,\u001b[0m \u001b[0maxis\u001b[0m\u001b[1;33m=\u001b[0m\u001b[1;36m1\u001b[0m\u001b[1;33m)\u001b[0m\u001b[1;33m)\u001b[0m\u001b[1;33m)\u001b[0m\u001b[1;33m\u001b[0m\u001b[0m\n\u001b[0m",
      "\u001b[1;32m<ipython-input-221-4feeca5fd43d>\u001b[0m in \u001b[0;36moptimal_portfolio\u001b[1;34m(returns, pbar)\u001b[0m\n\u001b[0;32m     27\u001b[0m     \u001b[0mx1\u001b[0m \u001b[1;33m=\u001b[0m \u001b[0mnp\u001b[0m\u001b[1;33m.\u001b[0m\u001b[0msqrt\u001b[0m\u001b[1;33m(\u001b[0m\u001b[0mm1\u001b[0m\u001b[1;33m[\u001b[0m\u001b[1;36m2\u001b[0m\u001b[1;33m]\u001b[0m \u001b[1;33m/\u001b[0m \u001b[0mm1\u001b[0m\u001b[1;33m[\u001b[0m\u001b[1;36m0\u001b[0m\u001b[1;33m]\u001b[0m\u001b[1;33m)\u001b[0m\u001b[1;33m\u001b[0m\u001b[0m\n\u001b[0;32m     28\u001b[0m     \u001b[1;31m# CALCULATE THE OPTIMAL PORTFOLIO\u001b[0m\u001b[1;33m\u001b[0m\u001b[1;33m\u001b[0m\u001b[0m\n\u001b[1;32m---> 29\u001b[1;33m     \u001b[0mwt\u001b[0m \u001b[1;33m=\u001b[0m \u001b[0msolvers\u001b[0m\u001b[1;33m.\u001b[0m\u001b[0mqp\u001b[0m\u001b[1;33m(\u001b[0m\u001b[0mopt\u001b[0m\u001b[1;33m.\u001b[0m\u001b[0mmatrix\u001b[0m\u001b[1;33m(\u001b[0m\u001b[0mx1\u001b[0m \u001b[1;33m*\u001b[0m \u001b[0mS\u001b[0m\u001b[1;33m)\u001b[0m\u001b[1;33m,\u001b[0m \u001b[1;33m-\u001b[0m\u001b[0mpbar\u001b[0m\u001b[1;33m,\u001b[0m \u001b[0mG\u001b[0m\u001b[1;33m,\u001b[0m \u001b[0mh\u001b[0m\u001b[1;33m,\u001b[0m \u001b[0mA\u001b[0m\u001b[1;33m,\u001b[0m \u001b[0mb\u001b[0m\u001b[1;33m)\u001b[0m\u001b[1;33m[\u001b[0m\u001b[1;34m'x'\u001b[0m\u001b[1;33m]\u001b[0m\u001b[1;33m\u001b[0m\u001b[0m\n\u001b[0m\u001b[0;32m     30\u001b[0m     \u001b[1;32mreturn\u001b[0m \u001b[0mnp\u001b[0m\u001b[1;33m.\u001b[0m\u001b[0masarray\u001b[0m\u001b[1;33m(\u001b[0m\u001b[0mwt\u001b[0m\u001b[1;33m)\u001b[0m\u001b[1;33m,\u001b[0m \u001b[0mreturns\u001b[0m\u001b[1;33m,\u001b[0m \u001b[0mrisks\u001b[0m\u001b[1;33m\u001b[0m\u001b[0m\n",
      "\u001b[1;32m/usr/lib/python2.7/dist-packages/cvxopt/coneprog.pyc\u001b[0m in \u001b[0;36mqp\u001b[1;34m(P, q, G, h, A, b, solver, initvals)\u001b[0m\n\u001b[0;32m   4493\u001b[0m             'residual as dual infeasibility certificate': dinfres} \n\u001b[0;32m   4494\u001b[0m \u001b[1;33m\u001b[0m\u001b[0m\n\u001b[1;32m-> 4495\u001b[1;33m     \u001b[1;32mreturn\u001b[0m \u001b[0mconeqp\u001b[0m\u001b[1;33m(\u001b[0m\u001b[0mP\u001b[0m\u001b[1;33m,\u001b[0m \u001b[0mq\u001b[0m\u001b[1;33m,\u001b[0m \u001b[0mG\u001b[0m\u001b[1;33m,\u001b[0m \u001b[0mh\u001b[0m\u001b[1;33m,\u001b[0m \u001b[0mNone\u001b[0m\u001b[1;33m,\u001b[0m \u001b[0mA\u001b[0m\u001b[1;33m,\u001b[0m  \u001b[0mb\u001b[0m\u001b[1;33m,\u001b[0m \u001b[0minitvals\u001b[0m\u001b[1;33m)\u001b[0m\u001b[1;33m\u001b[0m\u001b[0m\n\u001b[0m",
      "\u001b[1;32m/usr/lib/python2.7/dist-packages/cvxopt/coneprog.pyc\u001b[0m in \u001b[0;36mconeqp\u001b[1;34m(P, q, G, h, dims, A, b, initvals, kktsolver, xnewcopy, xdot, xaxpy, xscal, ynewcopy, ydot, yaxpy, yscal)\u001b[0m\n\u001b[0;32m   2079\u001b[0m         \u001b[1;32mtry\u001b[0m\u001b[1;33m:\u001b[0m \u001b[0mf\u001b[0m \u001b[1;33m=\u001b[0m \u001b[0mkktsolver\u001b[0m\u001b[1;33m(\u001b[0m\u001b[0mW\u001b[0m\u001b[1;33m)\u001b[0m\u001b[1;33m\u001b[0m\u001b[0m\n\u001b[0;32m   2080\u001b[0m         \u001b[1;32mexcept\u001b[0m \u001b[0mArithmeticError\u001b[0m\u001b[1;33m:\u001b[0m\u001b[1;33m\u001b[0m\u001b[0m\n\u001b[1;32m-> 2081\u001b[1;33m             \u001b[1;32mraise\u001b[0m \u001b[0mValueError\u001b[0m\u001b[1;33m(\u001b[0m\u001b[1;34m\"Rank(A) < p or Rank([P; A; G]) < n\"\u001b[0m\u001b[1;33m)\u001b[0m\u001b[1;33m\u001b[0m\u001b[0m\n\u001b[0m\u001b[0;32m   2082\u001b[0m \u001b[1;33m\u001b[0m\u001b[0m\n\u001b[0;32m   2083\u001b[0m \u001b[1;33m\u001b[0m\u001b[0m\n",
      "\u001b[1;31mValueError\u001b[0m: Rank(A) < p or Rank([P; A; G]) < n"
     ]
    }
   ],
   "source": [
    "p = opt.matrix(np.mean(dt, axis=1))\n",
    "print p.size\n",
    "optimal_portfolio(dt,  opt.matrix(np.mean(dt, axis=1)))"
   ]
  },
  {
   "cell_type": "code",
   "execution_count": 217,
   "metadata": {
    "collapsed": false
   },
   "outputs": [
    {
     "ename": "TypeError",
     "evalue": "error converting array",
     "output_type": "error",
     "traceback": [
      "\u001b[1;31m---------------------------------------------------------------------------\u001b[0m",
      "\u001b[1;31mTypeError\u001b[0m                                 Traceback (most recent call last)",
      "\u001b[1;32m<ipython-input-217-8b61995658b2>\u001b[0m in \u001b[0;36m<module>\u001b[1;34m()\u001b[0m\n\u001b[1;32m----> 1\u001b[1;33m \u001b[0mweights\u001b[0m\u001b[1;33m,\u001b[0m \u001b[0mreturns\u001b[0m\u001b[1;33m,\u001b[0m \u001b[0mrisks\u001b[0m \u001b[1;33m=\u001b[0m \u001b[0moptimal_portfolio\u001b[0m\u001b[1;33m(\u001b[0m\u001b[0mdt\u001b[0m\u001b[1;33m)\u001b[0m\u001b[1;33m\u001b[0m\u001b[0m\n\u001b[0m",
      "\u001b[1;32m<ipython-input-215-edcde68a4316>\u001b[0m in \u001b[0;36moptimal_portfolio\u001b[1;34m(returns)\u001b[0m\n\u001b[0;32m      9\u001b[0m     \u001b[0mS\u001b[0m \u001b[1;33m=\u001b[0m \u001b[0mopt\u001b[0m\u001b[1;33m.\u001b[0m\u001b[0mmatrix\u001b[0m\u001b[1;33m(\u001b[0m\u001b[0mnp\u001b[0m\u001b[1;33m.\u001b[0m\u001b[0mcov\u001b[0m\u001b[1;33m(\u001b[0m\u001b[0mreturns\u001b[0m\u001b[1;33m)\u001b[0m\u001b[1;33m)\u001b[0m\u001b[1;33m\u001b[0m\u001b[0m\n\u001b[0;32m     10\u001b[0m \u001b[1;33m\u001b[0m\u001b[0m\n\u001b[1;32m---> 11\u001b[1;33m     \u001b[0mpbar\u001b[0m \u001b[1;33m=\u001b[0m \u001b[0mopt\u001b[0m\u001b[1;33m.\u001b[0m\u001b[0mmatrix\u001b[0m\u001b[1;33m(\u001b[0m\u001b[0mnp\u001b[0m\u001b[1;33m.\u001b[0m\u001b[0mmean\u001b[0m\u001b[1;33m(\u001b[0m\u001b[0mreturns\u001b[0m\u001b[1;33m,\u001b[0m \u001b[0maxis\u001b[0m\u001b[1;33m=\u001b[0m\u001b[1;36m1\u001b[0m\u001b[1;33m)\u001b[0m\u001b[1;33m)\u001b[0m\u001b[1;33m\u001b[0m\u001b[0m\n\u001b[0m\u001b[0;32m     12\u001b[0m     \u001b[1;32mreturn\u001b[0m \u001b[0mpbar\u001b[0m\u001b[1;33m.\u001b[0m\u001b[0msize\u001b[0m\u001b[1;33m\u001b[0m\u001b[0m\n\u001b[0;32m     13\u001b[0m     \u001b[1;31m# Create constraint matrices\u001b[0m\u001b[1;33m\u001b[0m\u001b[1;33m\u001b[0m\u001b[0m\n",
      "\u001b[1;31mTypeError\u001b[0m: error converting array"
     ]
    }
   ],
   "source": [
    "weights, returns, risks = optimal_portfolio(dt)"
   ]
  },
  {
   "cell_type": "code",
   "execution_count": 186,
   "metadata": {
    "collapsed": false
   },
   "outputs": [
    {
     "ename": "TypeError",
     "evalue": "error converting array",
     "output_type": "error",
     "traceback": [
      "\u001b[1;31m---------------------------------------------------------------------------\u001b[0m",
      "\u001b[1;31mTypeError\u001b[0m                                 Traceback (most recent call last)",
      "\u001b[1;32m<ipython-input-186-1eadb0438b85>\u001b[0m in \u001b[0;36m<module>\u001b[1;34m()\u001b[0m\n\u001b[1;32m----> 1\u001b[1;33m \u001b[0mweights\u001b[0m\u001b[1;33m,\u001b[0m \u001b[0mreturns\u001b[0m\u001b[1;33m,\u001b[0m \u001b[0mrisks\u001b[0m \u001b[1;33m=\u001b[0m \u001b[0moptimal_portfolio\u001b[0m\u001b[1;33m(\u001b[0m\u001b[0mdt\u001b[0m\u001b[1;33m)\u001b[0m\u001b[1;33m\u001b[0m\u001b[0m\n\u001b[0m\u001b[0;32m      2\u001b[0m \u001b[1;33m\u001b[0m\u001b[0m\n\u001b[0;32m      3\u001b[0m \u001b[0mplt\u001b[0m\u001b[1;33m.\u001b[0m\u001b[0mplot\u001b[0m\u001b[1;33m(\u001b[0m\u001b[0mstds\u001b[0m\u001b[1;33m,\u001b[0m \u001b[0mmeans\u001b[0m\u001b[1;33m,\u001b[0m \u001b[1;34m'o'\u001b[0m\u001b[1;33m)\u001b[0m\u001b[1;33m\u001b[0m\u001b[0m\n\u001b[0;32m      4\u001b[0m \u001b[0mplt\u001b[0m\u001b[1;33m.\u001b[0m\u001b[0mylabel\u001b[0m\u001b[1;33m(\u001b[0m\u001b[1;34m'mean'\u001b[0m\u001b[1;33m)\u001b[0m\u001b[1;33m\u001b[0m\u001b[0m\n\u001b[0;32m      5\u001b[0m \u001b[0mplt\u001b[0m\u001b[1;33m.\u001b[0m\u001b[0mxlabel\u001b[0m\u001b[1;33m(\u001b[0m\u001b[1;34m'std'\u001b[0m\u001b[1;33m)\u001b[0m\u001b[1;33m\u001b[0m\u001b[0m\n",
      "\u001b[1;32m<ipython-input-180-c2fb64316434>\u001b[0m in \u001b[0;36moptimal_portfolio\u001b[1;34m(returns)\u001b[0m\n\u001b[0;32m      8\u001b[0m     \u001b[1;31m# Convert to cvxopt matrices\u001b[0m\u001b[1;33m\u001b[0m\u001b[1;33m\u001b[0m\u001b[0m\n\u001b[0;32m      9\u001b[0m     \u001b[0mS\u001b[0m \u001b[1;33m=\u001b[0m \u001b[0mopt\u001b[0m\u001b[1;33m.\u001b[0m\u001b[0mmatrix\u001b[0m\u001b[1;33m(\u001b[0m\u001b[0mnp\u001b[0m\u001b[1;33m.\u001b[0m\u001b[0mcov\u001b[0m\u001b[1;33m(\u001b[0m\u001b[0mreturns\u001b[0m\u001b[1;33m)\u001b[0m\u001b[1;33m)\u001b[0m\u001b[1;33m\u001b[0m\u001b[0m\n\u001b[1;32m---> 10\u001b[1;33m     \u001b[0mpbar\u001b[0m \u001b[1;33m=\u001b[0m \u001b[0mopt\u001b[0m\u001b[1;33m.\u001b[0m\u001b[0mmatrix\u001b[0m\u001b[1;33m(\u001b[0m\u001b[0mnp\u001b[0m\u001b[1;33m.\u001b[0m\u001b[0mmean\u001b[0m\u001b[1;33m(\u001b[0m\u001b[0mreturns\u001b[0m\u001b[1;33m,\u001b[0m \u001b[0maxis\u001b[0m\u001b[1;33m=\u001b[0m\u001b[1;36m0\u001b[0m\u001b[1;33m)\u001b[0m\u001b[1;33m)\u001b[0m\u001b[1;33m\u001b[0m\u001b[0m\n\u001b[0m\u001b[0;32m     11\u001b[0m \u001b[1;33m\u001b[0m\u001b[0m\n\u001b[0;32m     12\u001b[0m     \u001b[1;31m# Create constraint matrices\u001b[0m\u001b[1;33m\u001b[0m\u001b[1;33m\u001b[0m\u001b[0m\n",
      "\u001b[1;31mTypeError\u001b[0m: error converting array"
     ]
    }
   ],
   "source": [
    "plt.plot(stds, means, 'o')\n",
    "plt.ylabel('mean')\n",
    "plt.xlabel('std')\n",
    "plt.plot(risks, returns, 'y-o')"
   ]
  },
  {
   "cell_type": "code",
   "execution_count": null,
   "metadata": {
    "collapsed": true
   },
   "outputs": [],
   "source": []
  },
  {
   "cell_type": "code",
   "execution_count": null,
   "metadata": {
    "collapsed": true
   },
   "outputs": [],
   "source": []
  },
  {
   "cell_type": "code",
   "execution_count": null,
   "metadata": {
    "collapsed": true
   },
   "outputs": [],
   "source": []
  },
  {
   "cell_type": "code",
   "execution_count": null,
   "metadata": {
    "collapsed": true
   },
   "outputs": [],
   "source": []
  },
  {
   "cell_type": "code",
   "execution_count": 12,
   "metadata": {
    "collapsed": false
   },
   "outputs": [],
   "source": [
    "def my_covariance(x,y):\n",
    "    \"\"\"\n",
    "    This yields similiar results to\n",
    "    pd.Series(x).cov(pd.Series(y)) \"\"\"\n",
    "    xbar = x.mean()\n",
    "    ybar = y.mean()\n",
    "    x = x-xbar\n",
    "    y = y-ybar\n",
    "    n = min(x.shape[0], y.shape[0])\n",
    "    x = x[:n-1]\n",
    "    y = y[:n-1]\n",
    "    cov = (x*y)\n",
    "    cov = np.sum(cov)/(n-1)\n",
    "    print cov\n",
    "    return cov\n"
   ]
  },
  {
   "cell_type": "code",
   "execution_count": 114,
   "metadata": {
    "collapsed": false
   },
   "outputs": [
    {
     "name": "stdout",
     "output_type": "stream",
     "text": [
      "[[ -6.4348  -6.435   -6.4349 ...,  -6.4347  -6.4351  -6.4354]\n",
      " [ -2.0676  -2.0679  -2.0676 ...,  -2.0679  -2.0654  -2.0679]\n",
      " [ -1.7281   0.      -1.733  ...,  -1.7318  -1.7313  -1.7331]\n",
      " [-54.64   -54.6365 -54.6361 ..., -54.6354 -54.6348 -54.6354]\n",
      " [  0.       0.       0.     ...,  -0.653   -0.653   -0.653 ]]\n"
     ]
    }
   ],
   "source": [
    "print dt"
   ]
  },
  {
   "cell_type": "code",
   "execution_count": 13,
   "metadata": {
    "collapsed": false
   },
   "outputs": [
    {
     "name": "stdout",
     "output_type": "stream",
     "text": [
      "-8.02333628098e-05\n"
     ]
    },
    {
     "data": {
      "text/plain": [
       "-8.0233362809846391e-05"
      ]
     },
     "execution_count": 13,
     "metadata": {},
     "output_type": "execute_result"
    }
   ],
   "source": [
    "my_covariance(x,y)"
   ]
  },
  {
   "cell_type": "code",
   "execution_count": 14,
   "metadata": {
    "collapsed": false
   },
   "outputs": [
    {
     "data": {
      "text/plain": [
       "-8.0003161504696132e-05"
      ]
     },
     "execution_count": 14,
     "metadata": {},
     "output_type": "execute_result"
    }
   ],
   "source": [
    "pd.Series(x).cov(pd.Series(y))"
   ]
  },
  {
   "cell_type": "code",
   "execution_count": 16,
   "metadata": {
    "collapsed": false
   },
   "outputs": [
    {
     "name": "stdout",
     "output_type": "stream",
     "text": [
      "({'OS': 'Linux', 'region': 'us-east-1', 'AZ': 'a', 'type': 'g2.2xlarge'}, 0.65, array([[  1.42611080e+09,   6.52000000e-02],\n",
      "       [  1.42611117e+09,   6.50000000e-02],\n",
      "       [  1.42611153e+09,   6.51000000e-02],\n",
      "       ..., \n",
      "       [  1.44108320e+09,   1.25300000e-01],\n",
      "       [  1.44108337e+09,   1.18500000e-01],\n",
      "       [  1.44108353e+09,   1.14200000e-01]]))\n"
     ]
    }
   ],
   "source": [
    "\n",
    "d0=data[0]\n",
    "d1=data[1]\n",
    "print d0"
   ]
  },
  {
   "cell_type": "code",
   "execution_count": 17,
   "metadata": {
    "collapsed": false
   },
   "outputs": [],
   "source": [
    "s0 = pd.Series(d0[2][:,1], index=d0[2][:,0])"
   ]
  },
  {
   "cell_type": "code",
   "execution_count": null,
   "metadata": {
    "collapsed": false
   },
   "outputs": [],
   "source": []
  }
 ],
 "metadata": {
  "kernelspec": {
   "display_name": "Python 2",
   "language": "python",
   "name": "python2"
  },
  "language_info": {
   "codemirror_mode": {
    "name": "ipython",
    "version": 2
   },
   "file_extension": ".py",
   "mimetype": "text/x-python",
   "name": "python",
   "nbconvert_exporter": "python",
   "pygments_lexer": "ipython2",
   "version": "2.7.11+"
  }
 },
 "nbformat": 4,
 "nbformat_minor": 0
}
