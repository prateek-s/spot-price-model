{
 "cells": [
  {
   "cell_type": "markdown",
   "metadata": {},
   "source": [
    "# Market selection by using portfolio theory"
   ]
  },
  {
   "cell_type": "code",
   "execution_count": 313,
   "metadata": {
    "collapsed": false
   },
   "outputs": [],
   "source": [
    "\n",
    "import os,sys,matplotlib,pandas,numpy,scipy,dateutil\n",
    "import pandas as pd\n",
    "import numpy as np\n",
    "from pylab import *\n",
    "from datetime import datetime, timedelta\n",
    "import time\n",
    "from statsmodels.distributions.empirical_distribution import ECDF\n",
    "import sqlite3\n",
    "import itertools, random\n",
    "import pickle\n",
    "conn = None\n",
    "use_database = False"
   ]
  },
  {
   "cell_type": "markdown",
   "metadata": {},
   "source": [
    "## Reading price data.\n",
    "Markets (also called instances in some parts of the code) are represented as dictionaries.\n",
    "We define functions for converting them to appropriate database strings if required. "
   ]
  },
  {
   "cell_type": "code",
   "execution_count": 383,
   "metadata": {
    "collapsed": true
   },
   "outputs": [],
   "source": [
    "markets = [ {'type': 'g2.2xlarge', 'region': 'us-east-1', 'AZ': 'a', 'OS': 'Linux'} ,\n",
    "                     {'type': 'c3.xlarge', 'region': 'us-east-1', 'AZ': 'a', 'OS': 'Linux'} ,\n",
    "                     {'type': 'r3.large', 'region': 'us-east-1', 'AZ': 'a', 'OS': 'Linux'} ,\n",
    "                     {'type': 'm3.medium', 'region': 'us-east-1', 'AZ': 'a', 'OS': 'Linux'} ,\n",
    "                     {'type': 'd2.8xlarge', 'region': 'us-east-1', 'AZ': 'a', 'OS': 'Linux'} ,\n",
    "            {'type': 'g2.2xlarge', 'region': 'us-east-1', 'AZ': 'b', 'OS': 'Linux'} ,\n",
    "                     {'type': 'c3.xlarge', 'region': 'us-east-1', 'AZ': 'b', 'OS': 'Linux'} ,\n",
    "                     {'type': 'r3.large', 'region': 'us-east-1', 'AZ': 'b', 'OS': 'Linux'} ,\n",
    "                     {'type': 'm3.medium', 'region': 'us-east-1', 'AZ': 'b', 'OS': 'Linux'} ,\n",
    "                     {'type': 'd2.8xlarge', 'region': 'us-east-1', 'AZ': 'b', 'OS': 'Linux'},\n",
    "            {'type': 'g2.2xlarge', 'region': 'us-east-1', 'AZ': 'e', 'OS': 'Linux'} ,\n",
    "                     {'type': 'c3.xlarge', 'region': 'us-east-1', 'AZ': 'e', 'OS': 'Linux'} ,\n",
    "                     {'type': 'r3.large', 'region': 'us-east-1', 'AZ': 'e', 'OS': 'Linux'} ,\n",
    "                     {'type': 'm3.medium', 'region': 'us-east-1', 'AZ': 'e', 'OS': 'Linux'} ,\n",
    "                     {'type': 'd2.8xlarge', 'region': 'us-east-1', 'AZ': 'e', 'OS': 'Linux'}\n",
    "           \n",
    "                     ]"
   ]
  },
  {
   "cell_type": "code",
   "execution_count": 384,
   "metadata": {
    "collapsed": true
   },
   "outputs": [],
   "source": [
    "def instance_to_MarketId(i) :\n",
    "    \"\"\" The database table names or the file names  \"\"\"\n",
    "    osname = {'Linux':'Linux/UNIX'}\n",
    "    return i['region']+i['AZ']+'-'+osname[i['OS']]+'-'+i['type']\n",
    "\n",
    "def instance_to_ondemstring(i) :\n",
    "    \"\"\" On-demand prices table uses slightly different names for instances, aargh.\n",
    "        us-east-1-Linux-c3.xlarge \n",
    "    \"\"\"\n",
    "    ondem_mktstring =  i['region']+'-'+ i['OS']+'-'+i['type']\n",
    "    return ondem_mktstring\n",
    "\n",
    "def instance_string(i):\n",
    "    return i['region']+i['AZ']+'-'+ i['OS']+'-'+i['type']"
   ]
  },
  {
   "cell_type": "code",
   "execution_count": 385,
   "metadata": {
    "collapsed": false
   },
   "outputs": [
    {
     "data": {
      "text/plain": [
       "'us-east-1a-Linux-g2.2xlarge'"
      ]
     },
     "execution_count": 385,
     "metadata": {},
     "output_type": "execute_result"
    }
   ],
   "source": [
    "#Test the instance string functions\n",
    "str(instance_string(markets[0]))"
   ]
  },
  {
   "cell_type": "code",
   "execution_count": 386,
   "metadata": {
    "collapsed": false
   },
   "outputs": [],
   "source": [
    "def init_db_connection() :\n",
    "    global conn\n",
    "    global use_database\n",
    "    if use_database:\n",
    "        conn = sqlite3.connect('/home/prateeks/spot_prices_2015/aws.db')\n",
    "    return \n",
    "\n",
    "init_db_connection();\n"
   ]
  },
  {
   "cell_type": "code",
   "execution_count": null,
   "metadata": {
    "collapsed": false
   },
   "outputs": [],
   "source": []
  },
  {
   "cell_type": "code",
   "execution_count": 387,
   "metadata": {
    "collapsed": false
   },
   "outputs": [],
   "source": [
    "def read_data_sqlite(instance , mktstring=None, months=['201503','201504','201505','201506','201507','201508'],pickle_data=True):\n",
    "    \"\"\" Get the spot AND on-demand prices for a given instance over the months specified. \n",
    "        These 6 months are chosen to maximixe the data density, since other months have larger periods of missing data\n",
    "    \"\"\"\n",
    "    global conn\n",
    "    table_name_base='AKIAJXNAQH5WHJFPNCXA_' # '201503'\n",
    "    if mktstring == None:\n",
    "        mktstring = instance_to_MarketId(instance)\n",
    "    output=[]\n",
    "    ondem=[]\n",
    "    ondemtable = 'on_demand_price'\n",
    "    #Need to remove avail zone from mkt string argh!\n",
    "   #TODO: function for converting to the on-demand string \n",
    "    ondem_mktstring = instance_to_ondemstring(instance)\n",
    "\n",
    "    q2 = 'SELECT SpotPrice FROM {} WHERE MarketId=\\'{}\\' ;'.format(ondemtable, ondem_mktstring)\n",
    "    d2 = conn.execute(q2)\n",
    "    ondem = d2.fetchall()\n",
    "    print instance, \"ONDEM PRICE \", ondem, ondem_mktstring\n",
    "    \n",
    "    for month in months :\n",
    "        table_name = table_name_base+month\n",
    "        query='SELECT Timestamp, SpotPrice FROM {} WHERE MarketId=\\'{}\\' ;'.format(table_name, mktstring)\n",
    "        #print query\n",
    "        d = conn.execute(query)\n",
    "        output.extend(d.fetchall())\n",
    "    if pickle_data is True :\n",
    "        fname = instance_string(instance)+'.pickle'\n",
    "        with open(fname, 'w') as f :\n",
    "            pickle.dump((instance, output, ondem[0][0]), f)\n",
    "    return output, ondem[0][0]\n"
   ]
  },
  {
   "cell_type": "code",
   "execution_count": 388,
   "metadata": {
    "collapsed": false
   },
   "outputs": [],
   "source": [
    "def get_spot_data(markets, from_pickle=False):\n",
    "    \"\"\"\n",
    "    Markets is a list of market/instance objects. \n",
    "    Return [(mkt,on-demprice,[(t,spot-price)])]\n",
    "    \"\"\"\n",
    "    global conn\n",
    "    data = []\n",
    "    \n",
    "    if from_pickle is False:\n",
    "        init_db_connection()\n",
    "        #c3.xlarge seems volatile\n",
    "        for i in markets :\n",
    "            ts, ondem = read_data_sqlite(i)\n",
    "            spot = [(time.mktime(dateutil.parser.parse(t).timetuple()), float(f)) for (t,f) in ts]\n",
    "            nspot = np.array(spot)\n",
    "            data.append((i, float(ondem), nspot))\n",
    "    else : \n",
    "        #Read all the pickle files from the directory and call get_pickled_data\n",
    "        for file in os.listdir('.'):\n",
    "            if file.endswith(\".pickle\") :\n",
    "                with open(file,'r') as f:\n",
    "                    (i, ts, ondem) = get_picked_data(f)\n",
    "                    spot = [(time.mktime(dateutil.parser.parse(t).timetuple()), float(f)) for (t,f) in ts]\n",
    "                    nspot = np.array(spot)\n",
    "                    data.append((i, float(ondem), nspot))\n",
    "\n",
    "    return data\n"
   ]
  },
  {
   "cell_type": "code",
   "execution_count": 389,
   "metadata": {
    "collapsed": false
   },
   "outputs": [],
   "source": [
    "def get_picked_data(f):\n",
    "    \"\"\" Get pickled data from a file instead of the database. \n",
    "        Return (instance, ts, ondem) tuple. \"\"\"\n",
    "    (instance, ts, ondem) = pickle.load(f)\n",
    "    return (instance, ts, ondem)\n",
    "    "
   ]
  },
  {
   "cell_type": "markdown",
   "metadata": {},
   "source": [
    "## Data processing\n",
    "After getting spot price and on-demand price data from either the pickled objects or the database, we do some post-processing of the prices.\n",
    "\n",
    "\n"
   ]
  },
  {
   "cell_type": "code",
   "execution_count": 390,
   "metadata": {
    "collapsed": false
   },
   "outputs": [],
   "source": [
    "data = get_spot_data(markets, from_pickle=True)"
   ]
  },
  {
   "cell_type": "code",
   "execution_count": 391,
   "metadata": {
    "collapsed": false
   },
   "outputs": [],
   "source": [
    "def get_prices_only(d, normalized=False, interpolate=False):\n",
    "    \"\"\" For a given 3-tuple, return an array of prices. Strip the timestamps\n",
    "    \"\"\"\n",
    "    ondem_price = d[1]\n",
    "    spot_prices = d[2][:,1]\n",
    "    if interpolate :\n",
    "        spot_prices = interpolate_prices(d)\n",
    "    if normalized:\n",
    "        return spot_prices/ondem_price  #time, price\n",
    "    else :\n",
    "        return spot_prices\n",
    "    \n",
    "#normalized_price(data[0])"
   ]
  },
  {
   "cell_type": "code",
   "execution_count": 392,
   "metadata": {
    "collapsed": true
   },
   "outputs": [],
   "source": [
    "def interpolate_prices(d, duration='5min'):\n",
    "    \"\"\" Large gaps exist in many traces. Do some interpolation to obtain a uniform trace\n",
    "    \"\"\"\n",
    "    spot_prices = d[2][:,1]\n",
    "    timestamps = d[2][:,0]\n",
    "    tdindex = pd.to_datetime(timestamps, unit='s') #Unit=s makes it parse the unix timestamps\n",
    "    ms = pd.Series(spot_prices, index=tdindex)\n",
    "    mdf = pd.DataFrame(ms,columns=[\"price\"])\n",
    "    \n",
    "    mdf = mdf.resample(duration,fill_method='pad')\n",
    "    return mdf['price']"
   ]
  },
  {
   "cell_type": "code",
   "execution_count": 393,
   "metadata": {
    "collapsed": false
   },
   "outputs": [],
   "source": [
    "def bid_transform(d,interpolate=False):\n",
    "    \"\"\"Given a bid, execute some transformation over the prices.\"\"\"\n",
    "    ondem_price = d[1]\n",
    "    spot_prices = d[2][:,1]\n",
    "    if interpolate:\n",
    "        spot_prices = interpolate_prices(d)\n",
    "    \n",
    "    maxprice = 10*ondem_price\n",
    "    bid = ondem_price \n",
    "    spot_prices[spot_prices >= bid] = maxprice #Amplify the price spike\n",
    "    spot_prices = maxprice - spot_prices  #Price => Profits transformation\n",
    "    #Not sure we want to normalize this to the on-demand price? Hmm...\n",
    "    #Normalizing by 10*on-demand price yields returns which are monotonically *DECREASING* with risk\n",
    "    #We want increasing returns with increasing risk, so turn off the normalization\n",
    "    return spot_prices\n",
    "    \n"
   ]
  },
  {
   "cell_type": "code",
   "execution_count": 394,
   "metadata": {
    "collapsed": false
   },
   "outputs": [],
   "source": [
    "def get_transformed_prices(d, interpolate=True, transform=\"bid\"):\n",
    "    td = [] #List of transformed prices\n",
    "    instances = []\n",
    "\n",
    "    for di in d:\n",
    "        if transform==\"bid\":\n",
    "            td.append(bid_transform(di,interpolate))\n",
    "        elif transform==\"plain\":\n",
    "            td.append(get_prices_only(di,interpolate))\n",
    "        instances.append(di[0])\n",
    "    min_length = min([len(a) for a in td])\n",
    "\n",
    "    return (instances, np.vstack([a[:min_length] for a in td]) )\n"
   ]
  },
  {
   "cell_type": "code",
   "execution_count": 395,
   "metadata": {
    "collapsed": false
   },
   "outputs": [],
   "source": [
    "(instances, dt) = get_transformed_prices(data, transform=\"bid\")\n",
    "import scipy.stats"
   ]
  },
  {
   "cell_type": "code",
   "execution_count": 396,
   "metadata": {
    "collapsed": false
   },
   "outputs": [
    {
     "data": {
      "text/plain": [
       "DescribeResult(nobs=48994, minmax=(0.032099999999999997, 2.1000000000000001), mean=0.15087856880434339, variance=0.076725969678061057, skewness=2.575952995737853, kurtosis=5.251621313270782)"
      ]
     },
     "execution_count": 396,
     "metadata": {},
     "output_type": "execute_result"
    }
   ],
   "source": [
    "scipy.stats.describe(data[2][2][:,1])"
   ]
  },
  {
   "cell_type": "markdown",
   "metadata": {},
   "source": [
    "## Portfolio construction starts here\n",
    "So far we have read in the spot prices, applied the transforms, and computed the covariance matrix. Now its time for the actual portfolio creation.\n"
   ]
  },
  {
   "cell_type": "code",
   "execution_count": 397,
   "metadata": {
    "collapsed": false
   },
   "outputs": [],
   "source": [
    "import cvxopt as opt\n",
    "from cvxopt import blas, solvers\n",
    "%matplotlib inline"
   ]
  },
  {
   "cell_type": "code",
   "execution_count": 398,
   "metadata": {
    "collapsed": true
   },
   "outputs": [],
   "source": [
    "solvers.options['show_progress'] = False"
   ]
  },
  {
   "cell_type": "code",
   "execution_count": 399,
   "metadata": {
    "collapsed": true
   },
   "outputs": [],
   "source": [
    "def rand_weights(n):\n",
    "    ''' Produces n random weights that sum to 1 '''\n",
    "    k = np.random.rand(n)\n",
    "    return k / sum(k)"
   ]
  },
  {
   "cell_type": "code",
   "execution_count": 400,
   "metadata": {
    "collapsed": true
   },
   "outputs": [],
   "source": [
    "num_mkts = len(instances)"
   ]
  },
  {
   "cell_type": "markdown",
   "metadata": {
    "collapsed": false
   },
   "source": [
    "Now determine on which markets we want to run the portfolio analysis. By default, we do it on ALL the markets we just read data about"
   ]
  },
  {
   "cell_type": "code",
   "execution_count": 401,
   "metadata": {
    "collapsed": true
   },
   "outputs": [],
   "source": [
    "#dt=dt[3:10]\n",
    "dt=dt"
   ]
  },
  {
   "cell_type": "code",
   "execution_count": 402,
   "metadata": {
    "collapsed": true
   },
   "outputs": [],
   "source": [
    "def eval_portfolio(dt):\n",
    "    p = np.asmatrix(np.mean(dt,axis=1))\n",
    "    w = np.asmatrix(rand_weights(dt.shape[0]))\n",
    "    C = np.asmatrix(np.cov(dt))\n",
    "    \n",
    "    mu = w * p.T\n",
    "    sigma = np.sqrt(w * C * w.T)\n",
    "    print mu, sigma\n",
    "    \n",
    "    return mu, sigma"
   ]
  },
  {
   "cell_type": "code",
   "execution_count": 403,
   "metadata": {
    "collapsed": false
   },
   "outputs": [],
   "source": [
    "def eval_n_portfolios(dt, n_portfolios=250):\n",
    "    n_portfolios = 250\n",
    "    return np.column_stack([\n",
    "        eval_portfolio(dt) \n",
    "        for _ in xrange(n_portfolios)\n",
    "        ])\n"
   ]
  },
  {
   "cell_type": "code",
   "execution_count": 404,
   "metadata": {
    "collapsed": false
   },
   "outputs": [
    {
     "name": "stdout",
     "output_type": "stream",
     "text": [
      "[[ 14.18818446]] [[ 2.81186779]]\n",
      "[[ 11.81812271]] [[ 1.84617529]]\n",
      "[[ 8.77851569]] [[ 1.26002906]]\n",
      "[[ 9.93576803]] [[ 1.48289414]]\n",
      "[[ 13.28441435]] [[ 2.07398931]]\n",
      "[[ 9.28230022]] [[ 1.26562743]]\n",
      "[[ 18.32050387]] [[ 2.85450659]]\n",
      "[[ 13.44686094]] [[ 2.19845699]]\n",
      "[[ 14.89241788]] [[ 2.53119941]]\n",
      "[[ 14.38432573]] [[ 2.66389427]]\n",
      "[[ 14.90567432]] [[ 2.59596141]]\n",
      "[[ 17.32348358]] [[ 2.91493335]]\n",
      "[[ 9.59819397]] [[ 1.28197491]]\n",
      "[[ 11.35014449]] [[ 2.23747511]]\n",
      "[[ 14.00636692]] [[ 2.44904136]]\n",
      "[[ 10.2900263]] [[ 1.84875762]]\n",
      "[[ 12.98372984]] [[ 1.91109805]]\n",
      "[[ 13.87993787]] [[ 2.26919431]]\n",
      "[[ 8.0496691]] [[ 1.89688749]]\n",
      "[[ 9.82429266]] [[ 2.12690505]]\n",
      "[[ 14.37450118]] [[ 2.4024194]]\n",
      "[[ 12.81369177]] [[ 3.14974828]]\n",
      "[[ 15.50805439]] [[ 2.74957705]]\n",
      "[[ 8.27789103]] [[ 1.41280252]]\n",
      "[[ 13.9501206]] [[ 2.54351848]]\n",
      "[[ 12.79471494]] [[ 2.5852711]]\n",
      "[[ 11.88812814]] [[ 1.72515956]]\n",
      "[[ 6.16864463]] [[ 0.76444584]]\n",
      "[[ 9.91651397]] [[ 1.60175588]]\n",
      "[[ 7.57276841]] [[ 1.06044341]]\n",
      "[[ 12.03261699]] [[ 2.0365559]]\n",
      "[[ 15.11588607]] [[ 2.72209351]]\n",
      "[[ 16.66854228]] [[ 2.93176524]]\n",
      "[[ 12.25074079]] [[ 2.2214752]]\n",
      "[[ 12.56462817]] [[ 2.0139634]]\n",
      "[[ 12.37612015]] [[ 2.31929446]]\n",
      "[[ 14.5509124]] [[ 3.03159289]]\n",
      "[[ 14.710619]] [[ 2.63329751]]\n",
      "[[ 15.01011987]] [[ 2.49845434]]\n",
      "[[ 12.01932487]] [[ 1.82655427]]\n",
      "[[ 17.54063084]] [[ 3.04145688]]\n",
      "[[ 10.57351471]] [[ 2.23177775]]\n",
      "[[ 7.8065506]] [[ 1.28695318]]\n",
      "[[ 15.10068157]] [[ 2.32673628]]\n",
      "[[ 10.06403269]] [[ 1.96535626]]\n",
      "[[ 12.51827032]] [[ 2.48959411]]\n",
      "[[ 12.50656916]] [[ 2.25860878]]\n",
      "[[ 14.87254501]] [[ 2.47237939]]\n",
      "[[ 10.28644351]] [[ 1.69432375]]\n",
      "[[ 13.65920518]] [[ 2.06502982]]\n",
      "[[ 16.5356505]] [[ 3.00858452]]\n",
      "[[ 11.38632699]] [[ 1.6020357]]\n",
      "[[ 16.69291185]] [[ 3.36908515]]\n",
      "[[ 12.47933431]] [[ 1.87038562]]\n",
      "[[ 14.58293568]] [[ 3.32535914]]\n",
      "[[ 11.4402474]] [[ 2.75224332]]\n",
      "[[ 12.47548878]] [[ 1.92662521]]\n",
      "[[ 9.79262912]] [[ 2.16391004]]\n",
      "[[ 12.123107]] [[ 1.64878551]]\n",
      "[[ 15.91216422]] [[ 2.78127994]]\n",
      "[[ 12.82053241]] [[ 2.31847561]]\n",
      "[[ 7.52935252]] [[ 1.76812778]]\n",
      "[[ 15.80572209]] [[ 2.96216218]]\n",
      "[[ 10.63309729]] [[ 1.65385094]]\n",
      "[[ 15.57960617]] [[ 2.55980297]]\n",
      "[[ 8.79068041]] [[ 1.50476832]]\n",
      "[[ 8.0871093]] [[ 1.76629921]]\n",
      "[[ 8.75754139]] [[ 1.17221564]]\n",
      "[[ 11.31401188]] [[ 2.18936634]]\n",
      "[[ 9.5401101]] [[ 1.67914923]]\n",
      "[[ 9.78605723]] [[ 1.5386693]]\n",
      "[[ 13.80810807]] [[ 2.09621074]]\n",
      "[[ 13.53083146]] [[ 2.68974831]]\n",
      "[[ 8.48764791]] [[ 1.18885932]]\n",
      "[[ 10.23115126]] [[ 1.74759075]]\n",
      "[[ 13.32320681]] [[ 2.11636052]]\n",
      "[[ 12.78632728]] [[ 2.03754398]]\n",
      "[[ 13.52818831]] [[ 2.54341608]]\n",
      "[[ 7.24795278]] [[ 1.19058499]]\n",
      "[[ 14.66307487]] [[ 2.87383545]]\n",
      "[[ 9.48980078]] [[ 1.79160102]]\n",
      "[[ 6.63074387]] [[ 0.9714746]]\n",
      "[[ 14.59610493]] [[ 3.1617788]]\n",
      "[[ 14.02682474]] [[ 3.04454726]]\n",
      "[[ 14.0471126]] [[ 2.14135374]]\n",
      "[[ 7.98634626]] [[ 1.14335891]]\n",
      "[[ 6.66033829]] [[ 0.87703074]]\n",
      "[[ 13.37692289]] [[ 2.27543433]]\n",
      "[[ 13.65992633]] [[ 2.17832101]]\n",
      "[[ 14.92119555]] [[ 2.9181807]]\n",
      "[[ 7.00307715]] [[ 1.00312464]]\n",
      "[[ 14.15028077]] [[ 2.87511286]]\n",
      "[[ 12.21655439]] [[ 3.05223903]]\n",
      "[[ 13.75294832]] [[ 2.45963658]]\n",
      "[[ 11.77168423]] [[ 2.29181612]]\n",
      "[[ 13.8075555]] [[ 2.13669948]]\n",
      "[[ 12.21049151]] [[ 1.81739061]]\n",
      "[[ 16.57687091]] [[ 2.47835004]]\n",
      "[[ 12.70167457]] [[ 2.23727197]]\n",
      "[[ 8.44166851]] [[ 1.22557974]]\n",
      "[[ 15.29172973]] [[ 3.05930116]]\n",
      "[[ 10.86148111]] [[ 2.23197142]]\n",
      "[[ 12.09424895]] [[ 2.38747788]]\n",
      "[[ 8.11765023]] [[ 1.5247868]]\n",
      "[[ 10.8936234]] [[ 2.52208222]]\n",
      "[[ 8.13775956]] [[ 1.67335978]]\n",
      "[[ 8.33441113]] [[ 1.25829603]]\n",
      "[[ 9.45904383]] [[ 1.33437578]]\n",
      "[[ 15.48824138]] [[ 2.78602753]]\n",
      "[[ 14.30570415]] [[ 2.27767674]]\n",
      "[[ 8.79860055]] [[ 1.28594103]]\n",
      "[[ 13.16656733]] [[ 2.08401661]]\n",
      "[[ 13.20975459]] [[ 2.45257003]]\n",
      "[[ 17.89637004]] [[ 3.20378205]]\n",
      "[[ 10.23658116]] [[ 1.51960863]]\n",
      "[[ 8.58659118]] [[ 1.407843]]\n",
      "[[ 11.27526413]] [[ 2.20708218]]\n",
      "[[ 17.12121939]] [[ 2.74931818]]\n",
      "[[ 9.02401179]] [[ 1.1717978]]\n",
      "[[ 10.81680927]] [[ 1.51223869]]\n",
      "[[ 12.29335059]] [[ 1.81131464]]\n",
      "[[ 11.50635738]] [[ 1.84304728]]\n",
      "[[ 12.56238793]] [[ 2.68923725]]\n",
      "[[ 12.01794543]] [[ 2.23149076]]\n",
      "[[ 14.11162686]] [[ 2.40481611]]\n",
      "[[ 8.10024657]] [[ 1.21151308]]\n",
      "[[ 11.68844745]] [[ 2.2147442]]\n",
      "[[ 14.69953263]] [[ 2.54097397]]\n",
      "[[ 10.88061334]] [[ 1.95641883]]\n",
      "[[ 13.65088961]] [[ 2.44962392]]\n",
      "[[ 9.45362134]] [[ 2.22796688]]\n",
      "[[ 12.83857064]] [[ 2.20774652]]\n",
      "[[ 10.12165204]] [[ 1.41012611]]\n",
      "[[ 13.50608775]] [[ 2.21850394]]\n",
      "[[ 16.03201154]] [[ 3.38549343]]\n",
      "[[ 9.85847875]] [[ 1.85529406]]\n",
      "[[ 13.50155961]] [[ 2.71624568]]\n",
      "[[ 8.81629778]] [[ 1.26446571]]\n",
      "[[ 13.60797463]] [[ 2.21677449]]\n",
      "[[ 13.16727513]] [[ 1.96786692]]\n",
      "[[ 13.01176649]] [[ 2.09788304]]\n",
      "[[ 15.48731664]] [[ 2.73041808]]\n",
      "[[ 12.12712178]] [[ 1.68603538]]\n",
      "[[ 10.3461446]] [[ 2.7018911]]\n",
      "[[ 12.11430717]] [[ 2.29101727]]\n",
      "[[ 10.13194229]] [[ 1.43575859]]\n",
      "[[ 9.74186418]] [[ 1.32212788]]\n",
      "[[ 14.66369365]] [[ 2.71116312]]\n",
      "[[ 13.19664323]] [[ 2.55027908]]\n",
      "[[ 14.88209196]] [[ 2.71463167]]\n",
      "[[ 15.5776233]] [[ 3.53558193]]\n",
      "[[ 9.94921169]] [[ 1.42897749]]\n",
      "[[ 10.45735577]] [[ 1.42781868]]\n",
      "[[ 10.90755499]] [[ 1.98270303]]\n",
      "[[ 16.48220123]] [[ 3.24171813]]\n",
      "[[ 16.48577029]] [[ 2.96764738]]\n",
      "[[ 11.46629655]] [[ 1.62063325]]\n",
      "[[ 14.64055349]] [[ 2.52281049]]\n",
      "[[ 10.90995578]] [[ 1.86715296]]\n",
      "[[ 13.49123973]] [[ 2.3744228]]\n",
      "[[ 10.66502898]] [[ 1.79238093]]\n",
      "[[ 9.42073748]] [[ 1.89902405]]\n",
      "[[ 11.14209541]] [[ 1.96244592]]\n",
      "[[ 9.18253959]] [[ 1.31273878]]\n",
      "[[ 11.1027287]] [[ 1.92596267]]\n",
      "[[ 5.59267422]] [[ 0.91146738]]\n",
      "[[ 12.12031823]] [[ 2.15346044]]\n",
      "[[ 14.4025292]] [[ 2.63156026]]\n",
      "[[ 13.20831372]] [[ 2.36723496]]\n",
      "[[ 5.94742345]] [[ 1.04673298]]\n",
      "[[ 11.98406636]] [[ 1.92476795]]\n",
      "[[ 7.25844869]] [[ 1.64100479]]\n",
      "[[ 7.12745407]] [[ 1.02857051]]\n",
      "[[ 13.6283576]] [[ 2.93191513]]\n",
      "[[ 13.3921287]] [[ 2.94189458]]\n",
      "[[ 9.84822681]] [[ 1.69154308]]\n",
      "[[ 12.18302053]] [[ 2.14899643]]\n",
      "[[ 13.44058767]] [[ 2.2900842]]\n",
      "[[ 9.24137903]] [[ 1.19939746]]\n",
      "[[ 16.34843258]] [[ 2.91663533]]\n",
      "[[ 17.1806046]] [[ 2.72743601]]\n",
      "[[ 12.96879279]] [[ 1.9406827]]\n",
      "[[ 4.79633665]] [[ 0.58520462]]\n",
      "[[ 15.36028608]] [[ 2.41674372]]\n",
      "[[ 9.64858552]] [[ 1.28546848]]\n",
      "[[ 17.9069983]] [[ 4.18495678]]\n",
      "[[ 16.98098338]] [[ 2.76463434]]\n",
      "[[ 11.31686597]] [[ 2.1486706]]\n",
      "[[ 10.23696092]] [[ 2.00850333]]\n",
      "[[ 16.75676341]] [[ 2.74903681]]\n",
      "[[ 14.24660474]] [[ 2.577384]]\n",
      "[[ 14.48897387]] [[ 2.27234835]]\n",
      "[[ 12.34133629]] [[ 1.76535573]]\n",
      "[[ 12.0228847]] [[ 1.93895185]]\n",
      "[[ 7.91785309]] [[ 1.36371734]]\n",
      "[[ 11.3490846]] [[ 1.96454027]]\n",
      "[[ 13.32708251]] [[ 2.09048799]]\n",
      "[[ 9.4431846]] [[ 2.04099571]]\n",
      "[[ 5.55801032]] [[ 0.99564618]]\n",
      "[[ 14.32928335]] [[ 2.39026042]]\n",
      "[[ 9.71662735]] [[ 1.62586267]]\n",
      "[[ 13.21794188]] [[ 2.22502534]]\n",
      "[[ 8.28475754]] [[ 1.13263542]]\n",
      "[[ 10.22306176]] [[ 2.2008294]]\n",
      "[[ 11.3803868]] [[ 1.70498001]]\n",
      "[[ 11.73205902]] [[ 2.35346812]]\n",
      "[[ 11.76301624]] [[ 1.69406063]]\n",
      "[[ 9.13488608]] [[ 1.98597751]]\n",
      "[[ 11.5258783]] [[ 2.14141204]]\n",
      "[[ 14.42992132]] [[ 2.39399774]]\n",
      "[[ 15.02882313]] [[ 2.54220881]]\n",
      "[[ 13.3494969]] [[ 2.04648374]]\n",
      "[[ 12.67980497]] [[ 2.32693733]]\n",
      "[[ 9.7328607]] [[ 1.907095]]\n",
      "[[ 17.25982824]] [[ 3.05735894]]\n",
      "[[ 13.46026545]] [[ 1.9118495]]\n",
      "[[ 8.52268208]] [[ 1.31167321]]\n",
      "[[ 12.27020235]] [[ 2.86422778]]\n",
      "[[ 8.77655243]] [[ 1.23138309]]\n",
      "[[ 11.38191498]] [[ 2.20827738]]\n",
      "[[ 15.72121073]] [[ 2.437718]]\n",
      "[[ 9.7844344]] [[ 1.52070344]]\n",
      "[[ 7.10352457]] [[ 1.27881626]]\n",
      "[[ 15.38238456]] [[ 2.51135069]]\n",
      "[[ 12.93959019]] [[ 2.73957049]]\n",
      "[[ 11.71097157]] [[ 1.81398348]]\n",
      "[[ 13.79581556]] [[ 1.97920168]]\n",
      "[[ 9.93802831]] [[ 1.93694513]]\n",
      "[[ 11.81608126]] [[ 1.67686517]]\n",
      "[[ 15.97903835]] [[ 2.68157159]]\n",
      "[[ 17.27168688]] [[ 3.32098126]]\n",
      "[[ 16.65661039]] [[ 3.60291237]]\n",
      "[[ 14.44878788]] [[ 3.43649296]]\n",
      "[[ 10.10513342]] [[ 1.71590536]]\n",
      "[[ 10.33694376]] [[ 1.54740509]]\n",
      "[[ 11.34921135]] [[ 2.09244516]]\n",
      "[[ 16.25699682]] [[ 2.80825258]]\n",
      "[[ 10.39573771]] [[ 1.8902531]]\n",
      "[[ 10.90067954]] [[ 1.80261484]]\n",
      "[[ 13.08560249]] [[ 1.96436264]]\n",
      "[[ 13.95464164]] [[ 2.4337536]]\n",
      "[[ 14.48124487]] [[ 2.56947396]]\n",
      "[[ 9.2859377]] [[ 2.0702202]]\n",
      "[[ 7.37153394]] [[ 0.95664771]]\n",
      "[[ 14.09570958]] [[ 2.15201398]]\n",
      "[[ 13.88780025]] [[ 2.26208486]]\n",
      "[[ 13.21265949]] [[ 2.07588761]]\n",
      "[[ 16.29999883]] [[ 2.83319681]]\n",
      "[[ 9.75417144]] [[ 1.52104546]]\n",
      "[[ 11.33406351]] [[ 1.71098734]]\n"
     ]
    }
   ],
   "source": [
    "means, stds = eval_n_portfolios(dt)"
   ]
  },
  {
   "cell_type": "code",
   "execution_count": 405,
   "metadata": {
    "collapsed": false
   },
   "outputs": [
    {
     "data": {
      "text/plain": [
       "<matplotlib.text.Text at 0x7ff3dc067c90>"
      ]
     },
     "execution_count": 405,
     "metadata": {},
     "output_type": "execute_result"
    },
    {
     "data": {
      "image/png": "[encoded data removed]",
      "text/plain": [
       "<matplotlib.figure.Figure at 0x7ff3dcd1c590>"
      ]
     },
     "metadata": {},
     "output_type": "display_data"
    }
   ],
   "source": [
    "plt.plot(stds, means, 'o', markersize=5, alpha=0.5)\n",
    "plt.xlabel('std')\n",
    "plt.ylabel('mean')\n",
    "plt.title('Mean and standard deviation of returns of randomly generated portfolios')\n"
   ]
  },
  {
   "cell_type": "code",
   "execution_count": 476,
   "metadata": {
    "collapsed": false
   },
   "outputs": [],
   "source": [
    "def optimal_portfolio(returns):\n",
    "    n = len(returns)\n",
    "    pbar = opt.matrix(np.mean(returns, axis=1))\n",
    "    \n",
    "    N = 40\n",
    "    mus = [5.8**(5.0 * t/N - 1.0) for t in range(N)]\n",
    "    #mus = [t/1.22 for t in range(N)]\n",
    "    #mus = [0.05+(0.05*t) for t in range(150)]\n",
    "    # Convert to cvxopt matrices\n",
    "    S = opt.matrix(np.cov(returns))\n",
    "    #returns = np.asmatrix(returns)   \n",
    "    returns = opt.matrix(returns)\n",
    "    # Create constraint matrices\n",
    "    G = -opt.matrix(np.eye(n))   # negative n x n identity matrix\n",
    "    h = opt.matrix(0.0, (n ,1))\n",
    "    A = opt.matrix(1.0, (1, n))\n",
    "    b = opt.matrix(1.0)\n",
    "    print \"S, Covariance: \", S.size, S\n",
    "    print \"Returns: \", returns.size\n",
    "    print \"pbar: \", pbar.size, pbar.T\n",
    "    print \"G: \", G.size\n",
    "    print \"h: \", h.size\n",
    "    print \"A: \", A.size\n",
    "    print \"b: \", b.size\n",
    "    \n",
    "    # Calculate efficient frontier weights using quadratic programming\n",
    "    portfolios=[]\n",
    "    for mu in mus:\n",
    "        try:\n",
    "            result = solvers.qp(mu*S, -pbar, G, h, A, b)['x'] \n",
    "            #Result is presumably the weights for a given mu\n",
    "            portfolios.append(result)\n",
    "        except :\n",
    "            print \"BAD MU \", mu\n",
    "            pass\n",
    "    ## CALCULATE RISKS AND RETURNS FOR FRONTIER\n",
    "    returns = [blas.dot(pbar, x) for x in portfolios]\n",
    "    risks = [np.sqrt(blas.dot(x, S*x)) for x in portfolios]\n",
    "    \n",
    "    ## CALCULATE THE 2ND DEGREE POLYNOMIAL OF THE FRONTIER CURVE\n",
    "    m1 = np.polyfit(returns, risks, 2)\n",
    "    gradients = np.gradient(returns)\n",
    "    print \"mu, grad, r, risk, portfolios\"\n",
    "    for p,mu,r,grad, risk in zip(portfolios,mus,returns,gradients,risks):\n",
    "        #s = get_market_weights(p)\n",
    "        s = ''\n",
    "        print \"%0.2f %0.2f %0.2f %0.2f %s\" % (mu,grad, r, risk,s)\n",
    "    print \"POLYNOMIAL \", m1\n",
    "    mu_star = np.sqrt(m1[2] / m1[0])\n",
    "    # CALCULATE THE OPTIMAL PORTFOLIO\n",
    "    wt = np.zeros(n)\n",
    "    try:\n",
    "        wt = solvers.qp(opt.matrix(mu_star * S), -pbar, G, h, A, b)['x']\n",
    "    except:\n",
    "        print \"NOT ABLE TO CALCULATE OPTIMUM WEIGHTS\"\n",
    "    return np.asarray(wt), returns, risks"
   ]
  },
  {
   "cell_type": "code",
   "execution_count": 475,
   "metadata": {
    "collapsed": false,
    "scrolled": false
   },
   "outputs": [
    {
     "name": "stdout",
     "output_type": "stream",
     "text": [
      "S, Covariance:  (15, 15) [ 7.57e-01  1.57e-04  5.95e-03  5.26e-02  4.36e-01 -2.70e-01 -6.44e-04 ... ]\n",
      "[ 1.57e-04  1.72e-06 -3.45e-04 -6.31e-05  1.60e-03  2.65e-03 -5.62e-06 ... ]\n",
      "[ 5.95e-03 -3.45e-04  7.80e-01  1.33e-01 -3.16e-01 -1.27e+00  5.19e-02 ... ]\n",
      "[ 5.26e-02 -6.31e-05  1.33e-01  4.03e-01 -5.12e-03 -9.15e-01  9.05e-02 ... ]\n",
      "[ 4.36e-01  1.60e-03 -3.16e-01 -5.12e-03  4.44e+00  1.06e+01 -6.08e-02 ... ]\n",
      "[-2.70e-01  2.65e-03 -1.27e+00 -9.15e-01  1.06e+01  3.22e+02 -8.65e-01 ... ]\n",
      "[-6.44e-04 -5.62e-06  5.19e-02  9.05e-02 -6.08e-02 -8.65e-01  2.47e-01 ... ]\n",
      "[-2.32e-02 -3.41e-04  1.19e-01  3.52e-02 -2.74e-01 -3.82e-02  2.47e-02 ... ]\n",
      "[ 1.14e-02  8.62e-06 -1.05e-02  9.73e-02  8.20e-02 -2.35e-01  3.78e-02 ... ]\n",
      "[-2.00e-03 -7.17e-05  4.34e-02 -1.26e-02 -3.52e-02  3.72e-01 -7.44e-03 ... ]\n",
      "[-1.95e-01 -1.33e-03  3.08e-01  6.94e-01 -3.85e-02  6.18e+00  8.97e-01 ... ]\n",
      "[ 1.62e-03 -7.59e-06  9.78e-03 -5.15e-04 -2.08e-03  1.74e-01 -3.75e-04 ... ]\n",
      "[-2.59e-02 -3.28e-04  1.16e-01  3.96e-02 -2.79e-01 -1.32e-01  3.36e-02 ... ]\n",
      "[ 4.22e-02 -5.20e-05  2.96e-02  2.57e-02  2.16e-02 -1.03e-01  5.34e-03 ... ]\n",
      "[ 2.13e+00  9.87e-03 -2.41e+00 -3.08e-01  1.49e+01  6.83e+01 -6.55e-01 ... ]\n",
      "\n",
      "Returns:  (15, 44166)\n",
      "pbar:  (15, 1) [ 6.30e+00  6.61e-01  1.56e+00  1.45e+00  5.62e+00  4.77e+01  1.57e+00 ... ]\n",
      "\n",
      "G:  (15, 15)\n",
      "h:  (15, 1)\n",
      "A:  (1, 15)\n",
      "b:  (1, 1)\n",
      "mu, grad, r, risk, portfolios\n",
      "0.17 -0.07 51.40 8.28 [ 0.09  0.7   0.22]\n",
      "0.21 -0.06 51.33 8.24 [ 0.1   0.68  0.22]\n",
      "0.27 -0.05 51.28 8.21 [ 0.11  0.67  0.23]\n",
      "0.33 -0.04 51.24 8.19 [ 0.11  0.66  0.23]\n",
      "0.42 -0.03 51.20 8.18 [ 0.12  0.65  0.23]\n",
      "0.52 -0.02 51.18 8.18 [ 0.13  0.64  0.23]\n",
      "0.64 -3.62 51.15 8.17 [ 0.13  0.64  0.23]\n",
      "0.80 -7.29 43.93 6.86 [ 0.11  0.54  0.16  0.19]\n",
      "1.00 -6.65 36.58 5.53 [ 0.09  0.43  0.32  0.16]\n",
      "1.25 -5.36 30.63 4.45 [ 0.09  0.07  0.35  0.37  0.12]\n",
      "1.55 -4.31 25.85 3.59 [ 0.16  0.06  0.28  0.4   0.1 ]\n",
      "1.93 -3.46 22.02 2.90 [ 0.22  0.05  0.22  0.43  0.08]\n",
      "2.41 -2.77 18.94 2.36 [ 0.27  0.04  0.18  0.45  0.06]\n",
      "3.00 -2.23 16.47 1.93 [ 0.3   0.03  0.15  0.47  0.05]\n",
      "3.74 -1.79 14.48 1.59 [ 0.33  0.03  0.12  0.49  0.04]\n",
      "4.66 -1.44 12.89 1.32 [ 0.36  0.02  0.1   0.5   0.03]\n",
      "5.80 -1.15 11.61 1.12 [ 0.37  0.02  0.08  0.51  0.02]\n",
      "7.23 -0.92 10.58 0.97 [ 0.39  0.01  0.06  0.52  0.02]\n",
      "9.00 -0.74 9.76 0.85 [ 0.4   0.01  0.05  0.52  0.01]\n",
      "11.21 -0.85 9.10 0.77 [ 0.41  0.04  0.53  0.01]\n",
      "13.97 -1.09 8.06 0.66 [ 0.37  0.05  0.03  0.07  0.47]\n",
      "17.40 -1.03 6.92 0.53 [ 0.3   0.05  0.03  0.23  0.38]\n",
      "21.68 -0.83 6.00 0.43 [ 0.24  0.06  0.02  0.36  0.31]\n",
      "27.00 -0.67 5.26 0.36 [ 0.2   0.06  0.02  0.46  0.25]\n",
      "33.64 -0.53 4.66 0.30 [ 0.16  0.06  0.01  0.54  0.21]\n",
      "41.91 -0.43 4.19 0.25 [ 0.13  0.07  0.01  0.61  0.17]\n",
      "52.21 -0.35 3.81 0.21 [ 0.11  0.07  0.66  0.14]\n",
      "65.03 -0.29 3.49 0.19 [ 0.09  0.07  0.7   0.12]\n",
      "81.02 -0.24 3.23 0.17 [ 0.08  0.02  0.07  0.72  0.1 ]\n",
      "100.92 -0.34 3.01 0.15 [ 0.07  0.03  0.07  0.73  0.09]\n",
      "125.73 -0.42 2.55 0.12 [ 0.05  0.2   0.02  0.06  0.59  0.07]\n",
      "156.62 -0.34 2.18 0.10 [ 0.04  0.36  0.02  0.05  0.47  0.06]\n",
      "195.11 -0.27 1.88 0.08 [ 0.03  0.48  0.01  0.04  0.38  0.05]\n",
      "243.06 -0.22 1.64 0.06 [ 0.03  0.59  0.01  0.03  0.3   0.04]\n",
      "302.79 -0.17 1.44 0.05 [ 0.02  0.67  0.02  0.24  0.03]\n",
      "377.20 -0.14 1.29 0.04 [ 0.02  0.73  0.02  0.2   0.02]\n",
      "469.89 -0.11 1.17 0.03 [ 0.01  0.79  0.02  0.16  0.02]\n",
      "585.36 -0.09 1.07 0.03 [ 0.01  0.83  0.01  0.13  0.02]\n",
      "729.21 -0.07 0.99 0.02 [ 0.86  0.01  0.1   0.01]\n",
      "908.41 -0.06 0.92 0.02 [ 0.89  0.08]\n",
      "POLYNOMIAL  [ 0.00096117  0.11574322 -0.2078105 ]\n",
      "NOT ABLE TO CALCULATE OPTIMUM WEIGHTS\n"
     ]
    }
   ],
   "source": [
    "\n",
    "\n",
    "weights, returns, risks = optimal_portfolio(dt)"
   ]
  },
  {
   "cell_type": "code",
   "execution_count": 473,
   "metadata": {
    "collapsed": false,
    "scrolled": true
   },
   "outputs": [
    {
     "data": {
      "image/png": "[encoded data removed]",
      "text/plain": [
       "<matplotlib.figure.Figure at 0x7ff3c756f510>"
      ]
     },
     "metadata": {},
     "output_type": "display_data"
    }
   ],
   "source": [
    "plt.plot(stds, means, 'o',alpha=0.5,label=\"Random portfolio\")\n",
    "plt.ylabel('Expected Returns')\n",
    "plt.xlabel('Standard Deviation (Risk)')\n",
    "plt.plot(risks, returns, 'r-o',label=\"Efficient Frontier\")\n",
    "plt.legend(loc='best')\n",
    "plt.savefig(\"15mkts.pdf\")"
   ]
  },
  {
   "cell_type": "code",
   "execution_count": 480,
   "metadata": {
    "collapsed": false
   },
   "outputs": [],
   "source": [
    "def get_market_weights(p):\n",
    "    #s = np.array(p.T)[0]\n",
    "    s = p\n",
    "    series = pd.Series(s)\n",
    "    instan = pd.Series(instances)\n",
    "    df = pd.DataFrame([instan,series])\n",
    "    print df\n",
    "    #s[s<0.01]=0.0\n",
    "    #s=s[s != 0.0]\n",
    "    #s = np.array_str(s, precision=2)\n"
   ]
  },
  {
   "cell_type": "code",
   "execution_count": 481,
   "metadata": {
    "collapsed": false
   },
   "outputs": [
    {
     "name": "stdout",
     "output_type": "stream",
     "text": [
      "                                                  0   \\\n",
      "0  {u'type': u'g2.2xlarge', u'region': u'us-east-...   \n",
      "1                                                  0   \n",
      "\n",
      "                                                  1   \\\n",
      "0  {u'type': u'm3.medium', u'region': u'us-east-1...   \n",
      "1                                                  1   \n",
      "\n",
      "                                                  2   \\\n",
      "0  {u'type': u'c3.xlarge', u'region': u'us-east-1...   \n",
      "1                                                  2   \n",
      "\n",
      "                                                  3   \\\n",
      "0  {u'type': u'r3.large', u'region': u'us-east-1'...   \n",
      "1                                                  3   \n",
      "\n",
      "                                                  4   \\\n",
      "0  {u'type': u'g2.2xlarge', u'region': u'us-east-...   \n",
      "1                                                  4   \n",
      "\n",
      "                                                  5   \\\n",
      "0  {u'type': u'd2.8xlarge', u'region': u'us-east-...   \n",
      "1                                                  5   \n",
      "\n",
      "                                                  6   \\\n",
      "0  {u'type': u'r3.large', u'region': u'us-east-1'...   \n",
      "1                                                  6   \n",
      "\n",
      "                                                  7   \\\n",
      "0  {u'type': u'm3.medium', u'region': u'us-east-1...   \n",
      "1                                                  7   \n",
      "\n",
      "                                                  8   \\\n",
      "0  {u'type': u'r3.large', u'region': u'us-east-1'...   \n",
      "1                                                  8   \n",
      "\n",
      "                                                  9   \\\n",
      "0  {u'type': u'c3.xlarge', u'region': u'us-east-1...   \n",
      "1                                                  9   \n",
      "\n",
      "                                                  10  \\\n",
      "0  {u'type': u'd2.8xlarge', u'region': u'us-east-...   \n",
      "1                                                 10   \n",
      "\n",
      "                                                  11  \\\n",
      "0  {u'type': u'c3.xlarge', u'region': u'us-east-1...   \n",
      "1                                                 11   \n",
      "\n",
      "                                                  12  \\\n",
      "0  {u'type': u'm3.medium', u'region': u'us-east-1...   \n",
      "1                                                 12   \n",
      "\n",
      "                                                  13  \\\n",
      "0  {u'type': u'g2.2xlarge', u'region': u'us-east-...   \n",
      "1                                                 13   \n",
      "\n",
      "                                                  14  \n",
      "0  {u'type': u'd2.8xlarge', u'region': u'us-east-...  \n",
      "1                                                 14  \n"
     ]
    }
   ],
   "source": [
    "get_market_weights(np.arange(0,len(instances)))"
   ]
  },
  {
   "cell_type": "markdown",
   "metadata": {
    "collapsed": true
   },
   "source": [
    "# END"
   ]
  },
  {
   "cell_type": "code",
   "execution_count": 12,
   "metadata": {
    "collapsed": false
   },
   "outputs": [],
   "source": [
    "def my_covariance(x,y):\n",
    "    \"\"\"\n",
    "    This yields similiar results to\n",
    "    pd.Series(x).cov(pd.Series(y)) \"\"\"\n",
    "    xbar = x.mean()\n",
    "    ybar = y.mean()\n",
    "    x = x-xbar\n",
    "    y = y-ybar\n",
    "    n = min(x.shape[0], y.shape[0])\n",
    "    x = x[:n-1]\n",
    "    y = y[:n-1]\n",
    "    cov = (x*y)\n",
    "    cov = np.sum(cov)/(n-1)\n",
    "    print cov\n",
    "    return cov\n"
   ]
  },
  {
   "cell_type": "code",
   "execution_count": 114,
   "metadata": {
    "collapsed": false
   },
   "outputs": [
    {
     "name": "stdout",
     "output_type": "stream",
     "text": [
      "[[ -6.4348  -6.435   -6.4349 ...,  -6.4347  -6.4351  -6.4354]\n",
      " [ -2.0676  -2.0679  -2.0676 ...,  -2.0679  -2.0654  -2.0679]\n",
      " [ -1.7281   0.      -1.733  ...,  -1.7318  -1.7313  -1.7331]\n",
      " [-54.64   -54.6365 -54.6361 ..., -54.6354 -54.6348 -54.6354]\n",
      " [  0.       0.       0.     ...,  -0.653   -0.653   -0.653 ]]\n"
     ]
    }
   ],
   "source": [
    "print dt"
   ]
  },
  {
   "cell_type": "code",
   "execution_count": 13,
   "metadata": {
    "collapsed": false
   },
   "outputs": [
    {
     "name": "stdout",
     "output_type": "stream",
     "text": [
      "-8.02333628098e-05\n"
     ]
    },
    {
     "data": {
      "text/plain": [
       "-8.0233362809846391e-05"
      ]
     },
     "execution_count": 13,
     "metadata": {},
     "output_type": "execute_result"
    }
   ],
   "source": [
    "my_covariance(x,y)"
   ]
  },
  {
   "cell_type": "code",
   "execution_count": 14,
   "metadata": {
    "collapsed": false
   },
   "outputs": [
    {
     "data": {
      "text/plain": [
       "-8.0003161504696132e-05"
      ]
     },
     "execution_count": 14,
     "metadata": {},
     "output_type": "execute_result"
    }
   ],
   "source": [
    "pd.Series(x).cov(pd.Series(y))"
   ]
  },
  {
   "cell_type": "code",
   "execution_count": 16,
   "metadata": {
    "collapsed": false
   },
   "outputs": [
    {
     "name": "stdout",
     "output_type": "stream",
     "text": [
      "({'OS': 'Linux', 'region': 'us-east-1', 'AZ': 'a', 'type': 'g2.2xlarge'}, 0.65, array([[  1.42611080e+09,   6.52000000e-02],\n",
      "       [  1.42611117e+09,   6.50000000e-02],\n",
      "       [  1.42611153e+09,   6.51000000e-02],\n",
      "       ..., \n",
      "       [  1.44108320e+09,   1.25300000e-01],\n",
      "       [  1.44108337e+09,   1.18500000e-01],\n",
      "       [  1.44108353e+09,   1.14200000e-01]]))\n"
     ]
    }
   ],
   "source": [
    "\n",
    "d0=data[0]\n",
    "d1=data[1]\n",
    "print d0"
   ]
  },
  {
   "cell_type": "code",
   "execution_count": 17,
   "metadata": {
    "collapsed": false
   },
   "outputs": [],
   "source": [
    "s0 = pd.Series(d0[2][:,1], index=d0[2][:,0])"
   ]
  },
  {
   "cell_type": "code",
   "execution_count": null,
   "metadata": {
    "collapsed": false
   },
   "outputs": [],
   "source": []
  }
 ],
 "metadata": {
  "kernelspec": {
   "display_name": "Python 2",
   "language": "python",
   "name": "python2"
  },
  "language_info": {
   "codemirror_mode": {
    "name": "ipython",
    "version": 2
   },
   "file_extension": ".py",
   "mimetype": "text/x-python",
   "name": "python",
   "nbconvert_exporter": "python",
   "pygments_lexer": "ipython2",
   "version": "2.7.11+"
  }
 },
 "nbformat": 4,
 "nbformat_minor": 0
}
