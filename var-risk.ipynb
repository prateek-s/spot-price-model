{
 "cells": [
  {
   "cell_type": "markdown",
   "metadata": {},
   "source": [
    "# Market selection by using portfolio theory"
   ]
  },
  {
   "cell_type": "code",
   "execution_count": 82,
   "metadata": {
    "collapsed": false
   },
   "outputs": [],
   "source": [
    "\n",
    "import os,sys,matplotlib,pandas,numpy,scipy,dateutil\n",
    "import pandas as pd\n",
    "import numpy as np\n",
    "from pylab import *\n",
    "from datetime import datetime, timedelta\n",
    "import time\n",
    "from statsmodels.distributions.empirical_distribution import ECDF\n",
    "import sqlite3\n",
    "import itertools, random\n",
    "import pickle\n",
    "conn = None\n"
   ]
  },
  {
   "cell_type": "markdown",
   "metadata": {},
   "source": [
    "## Reading price data.\n",
    "Connect to database first, and the slurp the data for the given markets "
   ]
  },
  {
   "cell_type": "code",
   "execution_count": 83,
   "metadata": {
    "collapsed": true
   },
   "outputs": [],
   "source": [
    "markets = [ {'type': 'g2.2xlarge', 'region': 'us-east-1', 'AZ': 'a', 'OS': 'Linux'} ,\n",
    "                     {'type': 'c3.xlarge', 'region': 'us-east-1', 'AZ': 'a', 'OS': 'Linux'} ,\n",
    "                     {'type': 'r3.large', 'region': 'us-east-1', 'AZ': 'a', 'OS': 'Linux'} ,\n",
    "                     {'type': 'm3.medium', 'region': 'us-east-1', 'AZ': 'a', 'OS': 'Linux'} ,\n",
    "                     {'type': 'd2.8xlarge', 'region': 'us-east-1', 'AZ': 'a', 'OS': 'Linux'}\n",
    "                     ]"
   ]
  },
  {
   "cell_type": "code",
   "execution_count": 84,
   "metadata": {
    "collapsed": true
   },
   "outputs": [],
   "source": [
    "def instance_to_MarketId(i) :\n",
    "    \"\"\" The database table names or the file names  \"\"\"\n",
    "    osname = {'Linux':'Linux/UNIX'}\n",
    "    return i['region']+i['AZ']+'-'+osname[i['OS']]+'-'+i['type']\n",
    "\n",
    "def instance_string(i):\n",
    "    return i['region']+i['AZ']+'-'+ i['OS']+'-'+i['type']"
   ]
  },
  {
   "cell_type": "code",
   "execution_count": 85,
   "metadata": {
    "collapsed": false
   },
   "outputs": [
    {
     "data": {
      "text/plain": [
       "'us-east-1a-Linux-g2.2xlarge'"
      ]
     },
     "execution_count": 85,
     "metadata": {},
     "output_type": "execute_result"
    }
   ],
   "source": [
    "#Test the instance string functions\n",
    "str(instance_string(markets[0]))"
   ]
  },
  {
   "cell_type": "code",
   "execution_count": 86,
   "metadata": {
    "collapsed": false
   },
   "outputs": [],
   "source": [
    "def init_db_connection() :\n",
    "    global conn\n",
    "    conn = sqlite3.connect('/home/prateeks/spot_prices_2015/aws.db')\n",
    "    return \n",
    "\n",
    "init_db_connection();\n"
   ]
  },
  {
   "cell_type": "code",
   "execution_count": 87,
   "metadata": {
    "collapsed": false
   },
   "outputs": [
    {
     "name": "stdout",
     "output_type": "stream",
     "text": [
      "<sqlite3.Connection object at 0x7ff3ddc45030>\n"
     ]
    }
   ],
   "source": [
    "print conn"
   ]
  },
  {
   "cell_type": "code",
   "execution_count": 88,
   "metadata": {
    "collapsed": false
   },
   "outputs": [],
   "source": [
    "def read_data_sqlite(instance , mktstring=None, months=['201503','201504','201505','201506','201507','201508'],pickle_data=True):\n",
    "    \"\"\" Get the spot AND on-demand prices for a given instance over the months specified. \n",
    "        These 6 months are chosen to maximixe the data density, since other months have larger periods of missing data\n",
    "    \"\"\"\n",
    "    global conn\n",
    "    table_name_base='AKIAJXNAQH5WHJFPNCXA_' # '201503'\n",
    "    if mktstring == None:\n",
    "        mktstring = instance_to_MarketId(instance)\n",
    "    output=[]\n",
    "    ondem=[]\n",
    "    ondemtable = 'on_demand_price'\n",
    "    #Need to remove avail zone from mkt string argh!\n",
    "   #TODO: function for converting to the on-demand string \n",
    "    ondem_mktstring = mktstring.replace('a-','-')\n",
    "    ondem_mktstring = ondem_mktstring.replace('/UNIX','')\n",
    "    q2 = 'SELECT SpotPrice FROM {} WHERE MarketId=\\'{}\\' ;'.format(ondemtable, ondem_mktstring)\n",
    "    d2 = conn.execute(q2)\n",
    "    ondem = d2.fetchall()\n",
    "\n",
    "    for month in months :\n",
    "        table_name = table_name_base+month\n",
    "        query='SELECT Timestamp, SpotPrice FROM {} WHERE MarketId=\\'{}\\' ;'.format(table_name, mktstring)\n",
    "        #print query\n",
    "        d = conn.execute(query)\n",
    "        output.extend(d.fetchall())\n",
    "    if pickle_data is True :\n",
    "        fname = instance_string(instance)+'.pickle'\n",
    "        with open(fname, 'w') as f :\n",
    "            pickle.dump((instance, output, ondem[0][0]), f)\n",
    "    return output, ondem[0][0]\n"
   ]
  },
  {
   "cell_type": "code",
   "execution_count": 89,
   "metadata": {
    "collapsed": false
   },
   "outputs": [],
   "source": [
    "def get_spot_data(markets, from_pickle=False):\n",
    "    \"\"\"\n",
    "    Markets is a list of market/instance objects. \n",
    "    Return [(mkt,on-demprice,[(t,spot-price)])]\n",
    "    \"\"\"\n",
    "    global conn\n",
    "    data = []\n",
    "    \n",
    "    if from_pickle is False:\n",
    "        init_db_connection()\n",
    "        #c3.xlarge seems volatile\n",
    "        for i in markets :\n",
    "            ts, ondem = read_data_sqlite(i)\n",
    "            spot = [(time.mktime(dateutil.parser.parse(t).timetuple()), float(f)) for (t,f) in ts]\n",
    "            nspot = np.array(spot)\n",
    "            data.append((i, float(ondem), nspot))\n",
    "    else : \n",
    "        #Read all the pickle files from the directory and call get_pickled_data\n",
    "        for file in os.listdir('.'):\n",
    "            if file.endswith(\".pickle\") :\n",
    "                with open(file,'r') as f:\n",
    "                    (i, ts, ondem) = get_picked_data(f)\n",
    "                    spot = [(time.mktime(dateutil.parser.parse(t).timetuple()), float(f)) for (t,f) in ts]\n",
    "                    nspot = np.array(spot)\n",
    "                    data.append((i, float(ondem), nspot))\n",
    "\n",
    "    return data\n"
   ]
  },
  {
   "cell_type": "code",
   "execution_count": 90,
   "metadata": {
    "collapsed": false
   },
   "outputs": [],
   "source": [
    "def get_picked_data(f):\n",
    "    \"\"\" Get pickled data from a file instead of the database. \n",
    "        Return (instance, ts, ondem) tuple. \"\"\"\n",
    "    (instance, ts, ondem) = pickle.load(f)\n",
    "    return (instance, ts, ondem)\n",
    "    "
   ]
  },
  {
   "cell_type": "code",
   "execution_count": null,
   "metadata": {
    "collapsed": false
   },
   "outputs": [],
   "source": []
  },
  {
   "cell_type": "code",
   "execution_count": 91,
   "metadata": {
    "collapsed": false
   },
   "outputs": [
    {
     "name": "stdout",
     "output_type": "stream",
     "text": [
      "all-cdf.py               time_series_1.ipynb\r\n",
      "Bidding_1.ipynb          Untitled0-Copy0_1.ipynb\r\n",
      "Bidding_2.ipynb          Untitled0.ipynb\r\n",
      "Correlation-Copy0.ipynb  Untitled1.ipynb\r\n",
      "Correlation.ipynb        Untitled2.ipynb\r\n",
      "cvtest.py                us-east-1a-Linux-c3.xlarge.pickle\r\n",
      "ft-mechanisms.py         us-east-1a-Linux-d2.8xlarge.pickle\r\n",
      "overyears.py             us-east-1a-Linux-g2.2xlarge.pickle\r\n",
      "parr_ex_price.py         us-east-1a-Linux-m3.medium.pickle\r\n",
      "README.md                us-east-1a-Linux-r3.large.pickle\r\n",
      "spike_correlation.ipynb  var-risk-Copy1.ipynb\r\n",
      "spot_analysis.py         var-risk.ipynb\r\n",
      "\u001b[0m\u001b[01;32mspotfail.py\u001b[0m*             years.ipynb\r\n",
      "testr.R\r\n"
     ]
    }
   ],
   "source": [
    "ls"
   ]
  },
  {
   "cell_type": "code",
   "execution_count": 92,
   "metadata": {
    "collapsed": false
   },
   "outputs": [],
   "source": [
    "data = get_spot_data(markets, from_pickle=True)"
   ]
  },
  {
   "cell_type": "code",
   "execution_count": 18,
   "metadata": {
    "collapsed": false
   },
   "outputs": [
    {
     "data": {
      "text/plain": [
       "({'AZ': 'a', 'OS': 'Linux', 'region': 'us-east-1', 'type': 'r3.large'},\n",
       " 0.175,\n",
       " array([[  1.42611062e+09,   2.19000000e-02],\n",
       "        [  1.42611100e+09,   1.50000000e+00],\n",
       "        [  1.42611136e+09,   1.70000000e-02],\n",
       "        ..., \n",
       "        [  1.44108322e+09,   2.27000000e-02],\n",
       "        [  1.44108339e+09,   2.26000000e-02],\n",
       "        [  1.44108355e+09,   2.28000000e-02]]))"
      ]
     },
     "execution_count": 18,
     "metadata": {},
     "output_type": "execute_result"
    }
   ],
   "source": []
  },
  {
   "cell_type": "code",
   "execution_count": 102,
   "metadata": {
    "collapsed": false
   },
   "outputs": [],
   "source": [
    "def get_prices_only(d, normalized=False, interpolate=False):\n",
    "    \"\"\" For a given 3-tuple, return an array of prices. Strip the timestamps\n",
    "    \"\"\"\n",
    "    ondem_price = d[1]\n",
    "    spot_prices = d[2][:,1]\n",
    "    if interpolate :\n",
    "        spot_prices = interpolate_prices(d)\n",
    "    if normalized:\n",
    "        return spot_prices/ondem_price  #time, price\n",
    "    else :\n",
    "        return spot_prices\n",
    "    \n",
    "#normalized_price(data[0])"
   ]
  },
  {
   "cell_type": "code",
   "execution_count": 103,
   "metadata": {
    "collapsed": true
   },
   "outputs": [],
   "source": [
    "def interpolate_prices(d, duration='5min'):\n",
    "    \"\"\" Large gaps exist in many traces. Do some interpolation to obtain a uniform trace\n",
    "    \"\"\"\n",
    "    spot_prices = d[2][:,1]\n",
    "    timestamps = d[2][:,0]\n",
    "    tdindex = pd.to_datetime(timestamps, unit='s') #Unit=s makes it parse the unix timestamps\n",
    "    ms = pd.Series(spot_prices, index=tdindex)\n",
    "    mdf = pd.DataFrame(ms,columns=[\"price\"] )\n",
    "    \n",
    "    mdf = mdf.resample(duration,fill_method='pad')\n",
    "    print mdf.describe()\n",
    "    print mdf\n",
    "    return mdf['price']\n",
    "    \n",
    "    \n",
    "\n",
    "    "
   ]
  },
  {
   "cell_type": "code",
   "execution_count": null,
   "metadata": {
    "collapsed": false
   },
   "outputs": [],
   "source": [
    "\n"
   ]
  },
  {
   "cell_type": "code",
   "execution_count": null,
   "metadata": {
    "collapsed": false
   },
   "outputs": [],
   "source": []
  },
  {
   "cell_type": "code",
   "execution_count": 105,
   "metadata": {
    "collapsed": false
   },
   "outputs": [],
   "source": [
    "def bid_transform(d,interpolate=False):\n",
    "    \"\"\"Given a bid, execute some transformation over the prices.\"\"\"\n",
    "    ondem_price = d[1]\n",
    "    spot_prices = d[2][:,1]\n",
    "    if interpolate:\n",
    "        spot_prices = interpolate_prices(d)\n",
    "    \n",
    "    maxprice = 10*ondem_price\n",
    "    bid = ondem_price \n",
    "    spot_prices[spot_prices >= bid] = maxprice #Amplify the price spike\n",
    "    spot_prices = maxprice - spot_prices  #Price => Profits transformation\n",
    "    #Not sure we want to normalize this to the on-demand price? Hmm...\n",
    "    #Normalizing by 10*on-demand price yields returns which are monotonically *DECREASING* with risk\n",
    "    #We want increasing returns with increasing risk, so turn off the normalization\n",
    "    return spot_prices\n",
    "    \n"
   ]
  },
  {
   "cell_type": "code",
   "execution_count": 106,
   "metadata": {
    "collapsed": false
   },
   "outputs": [],
   "source": [
    "prices = get_prices_only(data[0])"
   ]
  },
  {
   "cell_type": "code",
   "execution_count": 107,
   "metadata": {
    "collapsed": false
   },
   "outputs": [],
   "source": [
    "def get_transformed_prices(d, interpolate=True, transform=\"bid\"):\n",
    "    td = [] #List of transformed prices\n",
    "    instances = []\n",
    "\n",
    "    for di in d:\n",
    "        if transform==\"bid\":\n",
    "            td.append(bid_transform(di,interpolate))\n",
    "        elif transform==\"plain\":\n",
    "            td.append(get_prices_only(di,interpolate))\n",
    "        instances.append(di[0])\n",
    "    min_length = min([len(a) for a in td])\n",
    "\n",
    "    print min_length\n",
    "    return (instances, np.vstack([a[:min_length] for a in td]) )\n"
   ]
  },
  {
   "cell_type": "code",
   "execution_count": 108,
   "metadata": {
    "collapsed": false
   },
   "outputs": [
    {
     "name": "stdout",
     "output_type": "stream",
     "text": [
      "              price\n",
      "count  49910.000000\n",
      "mean       0.291593\n",
      "std        0.903105\n",
      "min        0.064100\n",
      "25%        0.065000\n",
      "50%        0.072100\n",
      "75%        0.095900\n",
      "max        6.500000\n",
      "                       price\n",
      "2015-03-11 21:50:00  0.06520\n",
      "2015-03-11 21:55:00  0.06500\n",
      "2015-03-11 22:00:00  0.06500\n",
      "2015-03-11 22:05:00  0.06510\n",
      "2015-03-11 22:10:00  0.06510\n",
      "2015-03-11 22:15:00  0.06510\n",
      "2015-03-11 22:20:00  0.06530\n",
      "2015-03-11 22:25:00  0.06530\n",
      "2015-03-11 22:30:00  0.06550\n",
      "2015-03-11 22:35:00  0.06550\n",
      "2015-03-11 22:40:00  0.06550\n",
      "2015-03-11 22:45:00  0.06550\n",
      "2015-03-11 22:50:00  0.06550\n",
      "2015-03-11 22:55:00  0.06550\n",
      "2015-03-11 23:00:00  0.06550\n",
      "2015-03-11 23:05:00  0.06550\n",
      "2015-03-11 23:10:00  0.06550\n",
      "2015-03-11 23:15:00  0.06540\n",
      "2015-03-11 23:20:00  0.06510\n",
      "2015-03-11 23:25:00  0.06500\n",
      "2015-03-11 23:30:00  0.06510\n",
      "2015-03-11 23:35:00  0.06510\n",
      "2015-03-11 23:40:00  0.06510\n",
      "2015-03-11 23:45:00  0.06500\n",
      "2015-03-11 23:50:00  0.06500\n",
      "2015-03-11 23:55:00  0.06510\n",
      "2015-03-12 00:00:00  0.06510\n",
      "2015-03-12 00:05:00  0.06510\n",
      "2015-03-12 00:10:00  0.06500\n",
      "2015-03-12 00:15:00  0.06500\n",
      "...                      ...\n",
      "2015-09-01 02:30:00  0.11995\n",
      "2015-09-01 02:35:00  0.10070\n",
      "2015-09-01 02:40:00  0.15000\n",
      "2015-09-01 02:45:00  0.12120\n",
      "2015-09-01 02:50:00  0.12445\n",
      "2015-09-01 02:55:00  0.08220\n",
      "2015-09-01 03:00:00  0.10570\n",
      "2015-09-01 03:05:00  0.10230\n",
      "2015-09-01 03:10:00  0.10020\n",
      "2015-09-01 03:15:00  0.11390\n",
      "2015-09-01 03:20:00  0.11670\n",
      "2015-09-01 03:25:00  0.10840\n",
      "2015-09-01 03:30:00  0.10580\n",
      "2015-09-01 03:35:00  0.10000\n",
      "2015-09-01 03:40:00  0.14105\n",
      "2015-09-01 03:45:00  0.12670\n",
      "2015-09-01 03:50:00  0.10100\n",
      "2015-09-01 03:55:00  0.10010\n",
      "2015-09-01 04:00:00  0.11670\n",
      "2015-09-01 04:05:00  0.10630\n",
      "2015-09-01 04:10:00  0.10570\n",
      "2015-09-01 04:15:00  0.10570\n",
      "2015-09-01 04:20:00  0.10750\n",
      "2015-09-01 04:25:00  0.12965\n",
      "2015-09-01 04:30:00  0.10940\n",
      "2015-09-01 04:35:00  0.12860\n",
      "2015-09-01 04:40:00  0.12750\n",
      "2015-09-01 04:45:00  0.11915\n",
      "2015-09-01 04:50:00  0.12735\n",
      "2015-09-01 04:55:00  0.11635\n",
      "\n",
      "[49910 rows x 1 columns]\n",
      "              price\n",
      "count  49910.000000\n",
      "mean       0.183607\n",
      "std        0.305707\n",
      "min        0.032100\n",
      "25%        0.033900\n",
      "50%        0.038300\n",
      "75%        0.066050\n",
      "max        2.100000\n",
      "                       price\n",
      "2015-03-11 21:50:00  0.03240\n",
      "2015-03-11 21:55:00  0.03210\n",
      "2015-03-11 22:00:00  0.03225\n",
      "2015-03-11 22:05:00  0.03240\n",
      "2015-03-11 22:10:00  0.03220\n",
      "2015-03-11 22:15:00  0.03220\n",
      "2015-03-11 22:20:00  0.03210\n",
      "2015-03-11 22:25:00  0.03220\n",
      "2015-03-11 22:30:00  0.03220\n",
      "2015-03-11 22:35:00  0.03230\n",
      "2015-03-11 22:40:00  0.03220\n",
      "2015-03-11 22:45:00  0.03220\n",
      "2015-03-11 22:50:00  0.03220\n",
      "2015-03-11 22:55:00  0.03220\n",
      "2015-03-11 23:00:00  0.03210\n",
      "2015-03-11 23:05:00  0.03220\n",
      "2015-03-11 23:10:00  0.03220\n",
      "2015-03-11 23:15:00  0.03230\n",
      "2015-03-11 23:20:00  0.03220\n",
      "2015-03-11 23:25:00  0.03220\n",
      "2015-03-11 23:30:00  0.03210\n",
      "2015-03-11 23:35:00  0.03220\n",
      "2015-03-11 23:40:00  0.03220\n",
      "2015-03-11 23:45:00  0.03230\n",
      "2015-03-11 23:50:00  0.03220\n",
      "2015-03-11 23:55:00  0.03220\n",
      "2015-03-12 00:00:00  0.03210\n",
      "2015-03-12 00:05:00  0.03220\n",
      "2015-03-12 00:10:00  0.03230\n",
      "2015-03-12 00:15:00  0.03220\n",
      "...                      ...\n",
      "2015-09-01 02:30:00  0.04635\n",
      "2015-09-01 02:35:00  0.04520\n",
      "2015-09-01 02:40:00  0.04595\n",
      "2015-09-01 02:45:00  0.04580\n",
      "2015-09-01 02:50:00  0.04640\n",
      "2015-09-01 02:55:00  0.04620\n",
      "2015-09-01 03:00:00  0.04720\n",
      "2015-09-01 03:05:00  0.04670\n",
      "2015-09-01 03:10:00  0.04650\n",
      "2015-09-01 03:15:00  0.04550\n",
      "2015-09-01 03:20:00  0.04550\n",
      "2015-09-01 03:25:00  0.04460\n",
      "2015-09-01 03:30:00  0.04300\n",
      "2015-09-01 03:35:00  0.04200\n",
      "2015-09-01 03:40:00  0.04150\n",
      "2015-09-01 03:45:00  0.04240\n",
      "2015-09-01 03:50:00  0.04175\n",
      "2015-09-01 03:55:00  0.04190\n",
      "2015-09-01 04:00:00  0.04320\n",
      "2015-09-01 04:05:00  0.04505\n",
      "2015-09-01 04:10:00  0.04495\n",
      "2015-09-01 04:15:00  0.04520\n",
      "2015-09-01 04:20:00  0.04510\n",
      "2015-09-01 04:25:00  0.04500\n",
      "2015-09-01 04:30:00  0.04400\n",
      "2015-09-01 04:35:00  0.04510\n",
      "2015-09-01 04:40:00  0.04500\n",
      "2015-09-01 04:45:00  0.04450\n",
      "2015-09-01 04:50:00  0.04480\n",
      "2015-09-01 04:55:00  0.04570\n",
      "\n",
      "[49910 rows x 1 columns]\n",
      "              price\n",
      "count  49910.000000\n",
      "mean       0.164188\n",
      "std        0.423282\n",
      "min        0.016000\n",
      "25%        0.016700\n",
      "50%        0.019100\n",
      "75%        0.027000\n",
      "max        1.537500\n",
      "                       price\n",
      "2015-03-11 21:50:00  0.02190\n",
      "2015-03-11 21:55:00  1.50000\n",
      "2015-03-11 22:00:00  0.01700\n",
      "2015-03-11 22:05:00  0.01660\n",
      "2015-03-11 22:10:00  0.01640\n",
      "2015-03-11 22:15:00  0.01640\n",
      "2015-03-11 22:20:00  0.01640\n",
      "2015-03-11 22:25:00  0.01630\n",
      "2015-03-11 22:30:00  0.01630\n",
      "2015-03-11 22:35:00  1.50000\n",
      "2015-03-11 22:40:00  1.50000\n",
      "2015-03-11 22:45:00  1.50000\n",
      "2015-03-11 22:50:00  1.50000\n",
      "2015-03-11 22:55:00  1.50000\n",
      "2015-03-11 23:00:00  1.50000\n",
      "2015-03-11 23:05:00  1.50000\n",
      "2015-03-11 23:10:00  1.50000\n",
      "2015-03-11 23:15:00  1.50000\n",
      "2015-03-11 23:20:00  1.50000\n",
      "2015-03-11 23:25:00  1.50000\n",
      "2015-03-11 23:30:00  1.50000\n",
      "2015-03-11 23:35:00  1.50000\n",
      "2015-03-11 23:40:00  1.50000\n",
      "2015-03-11 23:45:00  1.50000\n",
      "2015-03-11 23:50:00  1.50000\n",
      "2015-03-11 23:55:00  1.50000\n",
      "2015-03-12 00:00:00  1.50000\n",
      "2015-03-12 00:05:00  1.50000\n",
      "2015-03-12 00:10:00  1.50000\n",
      "2015-03-12 00:15:00  1.50000\n",
      "...                      ...\n",
      "2015-09-01 02:30:00  0.02165\n",
      "2015-09-01 02:35:00  0.02190\n",
      "2015-09-01 02:40:00  0.02280\n",
      "2015-09-01 02:45:00  0.02290\n",
      "2015-09-01 02:50:00  0.02305\n",
      "2015-09-01 02:55:00  0.02120\n",
      "2015-09-01 03:00:00  0.02300\n",
      "2015-09-01 03:05:00  0.02370\n",
      "2015-09-01 03:10:00  0.02200\n",
      "2015-09-01 03:15:00  0.02230\n",
      "2015-09-01 03:20:00  0.02100\n",
      "2015-09-01 03:25:00  0.02270\n",
      "2015-09-01 03:30:00  0.02525\n",
      "2015-09-01 03:35:00  0.02525\n",
      "2015-09-01 03:40:00  0.02405\n",
      "2015-09-01 03:45:00  0.02550\n",
      "2015-09-01 03:50:00  0.02370\n",
      "2015-09-01 03:55:00  0.02310\n",
      "2015-09-01 04:00:00  0.02210\n",
      "2015-09-01 04:05:00  0.02180\n",
      "2015-09-01 04:10:00  0.02255\n",
      "2015-09-01 04:15:00  0.02300\n",
      "2015-09-01 04:20:00  0.02280\n",
      "2015-09-01 04:25:00  0.02280\n",
      "2015-09-01 04:30:00  0.02275\n",
      "2015-09-01 04:35:00  0.02275\n",
      "2015-09-01 04:40:00  0.02260\n",
      "2015-09-01 04:45:00  0.02230\n",
      "2015-09-01 04:50:00  0.02255\n",
      "2015-09-01 04:55:00  0.02270\n",
      "\n",
      "[49910 rows x 1 columns]\n",
      "              price\n",
      "count  44273.000000\n",
      "mean       1.044056\n",
      "std        1.628928\n",
      "min        0.560000\n",
      "25%        0.587700\n",
      "50%        0.648600\n",
      "75%        0.800000\n",
      "max       10.500000\n",
      "                       price\n",
      "2015-03-31 11:35:00  0.56000\n",
      "2015-03-31 11:40:00  0.56000\n",
      "2015-03-31 11:45:00  0.56000\n",
      "2015-03-31 11:50:00  0.56000\n",
      "2015-03-31 11:55:00  0.56000\n",
      "2015-03-31 12:00:00  0.56000\n",
      "2015-03-31 12:05:00  0.56000\n",
      "2015-03-31 12:10:00  0.56000\n",
      "2015-03-31 12:15:00  0.56000\n",
      "2015-03-31 12:20:00  0.56000\n",
      "2015-03-31 12:25:00  0.56000\n",
      "2015-03-31 12:30:00  0.56000\n",
      "2015-03-31 12:35:00  0.56000\n",
      "2015-03-31 12:40:00  0.56000\n",
      "2015-03-31 12:45:00  0.56000\n",
      "2015-03-31 12:50:00  0.56000\n",
      "2015-03-31 12:55:00  0.56000\n",
      "2015-03-31 13:00:00  0.56000\n",
      "2015-03-31 13:05:00  0.56000\n",
      "2015-03-31 13:10:00  0.56000\n",
      "2015-03-31 13:15:00  0.56000\n",
      "2015-03-31 13:20:00  0.56000\n",
      "2015-03-31 13:25:00  0.56000\n",
      "2015-03-31 13:30:00  0.56000\n",
      "2015-03-31 13:35:00  0.56000\n",
      "2015-03-31 13:40:00  0.56000\n",
      "2015-03-31 13:45:00  0.56000\n",
      "2015-03-31 13:50:00  0.56000\n",
      "2015-03-31 13:55:00  0.56000\n",
      "2015-03-31 14:00:00  0.56000\n",
      "...                      ...\n",
      "2015-09-01 02:30:00  0.62170\n",
      "2015-09-01 02:35:00  0.69920\n",
      "2015-09-01 02:40:00  0.76995\n",
      "2015-09-01 02:45:00  0.61970\n",
      "2015-09-01 02:50:00  0.59630\n",
      "2015-09-01 02:55:00  0.60730\n",
      "2015-09-01 03:00:00  0.59400\n",
      "2015-09-01 03:05:00  0.59400\n",
      "2015-09-01 03:10:00  0.59400\n",
      "2015-09-01 03:15:00  0.60200\n",
      "2015-09-01 03:20:00  0.60200\n",
      "2015-09-01 03:25:00  0.60200\n",
      "2015-09-01 03:30:00  0.59800\n",
      "2015-09-01 03:35:00  0.62200\n",
      "2015-09-01 03:40:00  0.61950\n",
      "2015-09-01 03:45:00  0.60745\n",
      "2015-09-01 03:50:00  0.61510\n",
      "2015-09-01 03:55:00  0.61970\n",
      "2015-09-01 04:00:00  0.63565\n",
      "2015-09-01 04:05:00  0.61680\n",
      "2015-09-01 04:10:00  0.58700\n",
      "2015-09-01 04:15:00  0.59320\n",
      "2015-09-01 04:20:00  0.60940\n",
      "2015-09-01 04:25:00  0.59400\n",
      "2015-09-01 04:30:00  0.59400\n",
      "2015-09-01 04:35:00  0.59400\n",
      "2015-09-01 04:40:00  0.59520\n",
      "2015-09-01 04:45:00  0.59980\n",
      "2015-09-01 04:50:00  0.60730\n",
      "2015-09-01 04:55:00  0.59760\n",
      "\n",
      "[44273 rows x 1 columns]\n",
      "              price\n",
      "count  49827.000000\n",
      "mean       0.198801\n",
      "std        0.259136\n",
      "min        0.008100\n",
      "25%        0.010000\n",
      "50%        0.113100\n",
      "75%        0.300000\n",
      "max        0.700000\n",
      "                      price\n",
      "2015-03-11 15:30:00  0.1131\n",
      "2015-03-11 15:35:00  0.1131\n",
      "2015-03-11 15:40:00  0.1131\n",
      "2015-03-11 15:45:00  0.1131\n",
      "2015-03-11 15:50:00  0.1131\n",
      "2015-03-11 15:55:00  0.1131\n",
      "2015-03-11 16:00:00  0.1131\n",
      "2015-03-11 16:05:00  0.1131\n",
      "2015-03-11 16:10:00  0.1131\n",
      "2015-03-11 16:15:00  0.1131\n",
      "2015-03-11 16:20:00  0.1131\n",
      "2015-03-11 16:25:00  0.1131\n",
      "2015-03-11 16:30:00  0.1131\n",
      "2015-03-11 16:35:00  0.1131\n",
      "2015-03-11 16:40:00  0.1131\n",
      "2015-03-11 16:45:00  0.1131\n",
      "2015-03-11 16:50:00  0.1131\n",
      "2015-03-11 16:55:00  0.1131\n",
      "2015-03-11 17:00:00  0.1131\n",
      "2015-03-11 17:05:00  0.1131\n",
      "2015-03-11 17:10:00  0.1131\n",
      "2015-03-11 17:15:00  0.1131\n",
      "2015-03-11 17:20:00  0.1131\n",
      "2015-03-11 17:25:00  0.1131\n",
      "2015-03-11 17:30:00  0.1131\n",
      "2015-03-11 17:35:00  0.1131\n",
      "2015-03-11 17:40:00  0.1131\n",
      "2015-03-11 17:45:00  0.1131\n",
      "2015-03-11 17:50:00  0.1131\n",
      "2015-03-11 17:55:00  0.1131\n",
      "...                     ...\n",
      "2015-08-31 13:15:00  0.0170\n",
      "2015-08-31 13:20:00  0.0170\n",
      "2015-08-31 13:25:00  0.0170\n",
      "2015-08-31 13:30:00  0.0170\n",
      "2015-08-31 13:35:00  0.0170\n",
      "2015-08-31 13:40:00  0.0170\n",
      "2015-08-31 13:45:00  0.0170\n",
      "2015-08-31 13:50:00  0.0170\n",
      "2015-08-31 13:55:00  0.0170\n",
      "2015-08-31 14:00:00  0.0170\n",
      "2015-08-31 14:05:00  0.0170\n",
      "2015-08-31 14:10:00  0.0170\n",
      "2015-08-31 14:15:00  0.0170\n",
      "2015-08-31 14:20:00  0.0170\n",
      "2015-08-31 14:25:00  0.0170\n",
      "2015-08-31 14:30:00  0.0170\n",
      "2015-08-31 14:35:00  0.0170\n",
      "2015-08-31 14:40:00  0.0170\n",
      "2015-08-31 14:45:00  0.0170\n",
      "2015-08-31 14:50:00  0.0170\n",
      "2015-08-31 14:55:00  0.0170\n",
      "2015-08-31 15:00:00  0.0170\n",
      "2015-08-31 15:05:00  0.0170\n",
      "2015-08-31 15:10:00  0.0170\n",
      "2015-08-31 15:15:00  0.0170\n",
      "2015-08-31 15:20:00  0.0170\n",
      "2015-08-31 15:25:00  0.0170\n",
      "2015-08-31 15:30:00  0.0170\n",
      "2015-08-31 15:35:00  0.0170\n",
      "2015-08-31 15:40:00  0.0170\n",
      "\n",
      "[49827 rows x 1 columns]\n",
      "44273\n"
     ]
    }
   ],
   "source": [
    "(instances, dt) = get_transformed_prices(data, transform=\"bid\")\n",
    "import scipy.stats"
   ]
  },
  {
   "cell_type": "code",
   "execution_count": 109,
   "metadata": {
    "collapsed": false
   },
   "outputs": [
    {
     "data": {
      "text/plain": [
       "DescribeResult(nobs=18661, minmax=(0.016, 1.55), mean=0.046969262097422422, variance=0.028767818682140355, skewness=8.08125609209537, kurtosis=65.67889934855386)"
      ]
     },
     "execution_count": 109,
     "metadata": {},
     "output_type": "execute_result"
    }
   ],
   "source": [
    "scipy.stats.describe(data[2][2][:,1])"
   ]
  },
  {
   "cell_type": "code",
   "execution_count": null,
   "metadata": {
    "collapsed": true
   },
   "outputs": [],
   "source": []
  },
  {
   "cell_type": "code",
   "execution_count": null,
   "metadata": {
    "collapsed": false
   },
   "outputs": [],
   "source": []
  },
  {
   "cell_type": "markdown",
   "metadata": {},
   "source": [
    "## Portfolio construction starts here\n",
    "So far we have read in the spot prices, applied the transforms, and computed the covariance matrix. Now its time for the actual portfolio creation.\n"
   ]
  },
  {
   "cell_type": "code",
   "execution_count": 110,
   "metadata": {
    "collapsed": false
   },
   "outputs": [],
   "source": [
    "import cvxopt as opt\n",
    "from cvxopt import blas, solvers\n",
    "%matplotlib inline"
   ]
  },
  {
   "cell_type": "code",
   "execution_count": 111,
   "metadata": {
    "collapsed": true
   },
   "outputs": [],
   "source": [
    "solvers.options['show_progress'] = False"
   ]
  },
  {
   "cell_type": "code",
   "execution_count": 112,
   "metadata": {
    "collapsed": true
   },
   "outputs": [],
   "source": [
    "def rand_weights(n):\n",
    "    ''' Produces n random weights that sum to 1 '''\n",
    "    k = np.random.rand(n)\n",
    "    return k / sum(k)"
   ]
  },
  {
   "cell_type": "code",
   "execution_count": 113,
   "metadata": {
    "collapsed": true
   },
   "outputs": [],
   "source": [
    "num_mkts = len(instances)"
   ]
  },
  {
   "cell_type": "code",
   "execution_count": 114,
   "metadata": {
    "collapsed": false
   },
   "outputs": [
    {
     "name": "stdout",
     "output_type": "stream",
     "text": [
      "5\n"
     ]
    }
   ],
   "source": [
    "print num_mkts"
   ]
  },
  {
   "cell_type": "code",
   "execution_count": 115,
   "metadata": {
    "collapsed": true
   },
   "outputs": [],
   "source": [
    "def eval_portfolio(dt):\n",
    "    p = np.asmatrix(np.mean(dt,axis=1))\n",
    "    w = np.asmatrix(rand_weights(dt.shape[0]))\n",
    "    C = np.asmatrix(np.cov(dt))\n",
    "    \n",
    "    mu = w * p.T\n",
    "    sigma = np.sqrt(w * C * w.T)\n",
    "    print mu, sigma\n",
    "    \n",
    "    return mu, sigma"
   ]
  },
  {
   "cell_type": "code",
   "execution_count": 116,
   "metadata": {
    "collapsed": false
   },
   "outputs": [
    {
     "name": "stdout",
     "output_type": "stream",
     "text": [
      "[[ 10.9710709]] [[ 1.99017429]]\n",
      "[[ 6.13276455]] [[ 0.80405037]]\n",
      "[[ 16.11629904]] [[ 2.80525402]]\n",
      "[[ 10.48102004]] [[ 1.57979013]]\n",
      "[[ 6.81084567]] [[ 1.24253173]]\n",
      "[[ 11.51124446]] [[ 1.97310057]]\n",
      "[[ 9.2796832]] [[ 1.59812799]]\n",
      "[[ 7.79955259]] [[ 1.18085892]]\n",
      "[[ 6.63511906]] [[ 1.09968996]]\n",
      "[[ 7.66715475]] [[ 1.37663376]]\n",
      "[[ 12.41186005]] [[ 2.18543201]]\n",
      "[[ 10.61177]] [[ 1.83735337]]\n",
      "[[ 22.47393372]] [[ 4.05005639]]\n",
      "[[ 4.77938908]] [[ 0.56059199]]\n",
      "[[ 22.28731291]] [[ 4.05617204]]\n",
      "[[ 11.29086006]] [[ 1.86716507]]\n",
      "[[ 19.18855313]] [[ 3.5449082]]\n",
      "[[ 23.36333286]] [[ 4.25004511]]\n",
      "[[ 20.27651381]] [[ 3.79132902]]\n",
      "[[ 10.34862038]] [[ 1.69348573]]\n",
      "[[ 4.30329836]] [[ 0.49020699]]\n",
      "[[ 11.98807028]] [[ 2.14023267]]\n",
      "[[ 6.33688781]] [[ 0.8405042]]\n",
      "[[ 6.67623352]] [[ 1.01062367]]\n",
      "[[ 19.45875223]] [[ 3.36529807]]\n",
      "[[ 3.34086414]] [[ 0.41757907]]\n",
      "[[ 13.22446502]] [[ 2.21882841]]\n",
      "[[ 14.93558747]] [[ 2.54052581]]\n",
      "[[ 14.15498911]] [[ 2.49504174]]\n",
      "[[ 6.83433687]] [[ 1.01412335]]\n",
      "[[ 18.59938658]] [[ 3.5699583]]\n",
      "[[ 12.32921658]] [[ 2.12173985]]\n",
      "[[ 15.60843916]] [[ 2.71664778]]\n",
      "[[ 5.43484356]] [[ 0.69216311]]\n",
      "[[ 17.40557199]] [[ 3.16219476]]\n",
      "[[ 15.22263921]] [[ 2.64780859]]\n",
      "[[ 10.68773815]] [[ 1.88843621]]\n",
      "[[ 14.94911418]] [[ 2.66218643]]\n",
      "[[ 20.36263115]] [[ 3.90745602]]\n",
      "[[ 17.46209791]] [[ 3.20627664]]\n",
      "[[ 15.75479752]] [[ 2.88526618]]\n",
      "[[ 16.10884534]] [[ 2.86852111]]\n",
      "[[ 14.851708]] [[ 2.60232458]]\n",
      "[[ 16.65771053]] [[ 3.10359543]]\n",
      "[[ 10.5943586]] [[ 1.75871429]]\n",
      "[[ 12.72070445]] [[ 2.22961706]]\n",
      "[[ 17.09459243]] [[ 2.9606899]]\n",
      "[[ 18.72235875]] [[ 3.32291986]]\n",
      "[[ 10.97199192]] [[ 1.85048658]]\n",
      "[[ 8.93504616]] [[ 1.47394673]]\n"
     ]
    }
   ],
   "source": [
    "n_portfolios = 50\n",
    "means, stds = np.column_stack([\n",
    "    eval_portfolio(dt) \n",
    "    for _ in xrange(n_portfolios)\n",
    "])\n"
   ]
  },
  {
   "cell_type": "code",
   "execution_count": 117,
   "metadata": {
    "collapsed": false
   },
   "outputs": [
    {
     "data": {
      "text/plain": [
       "<matplotlib.text.Text at 0x7ff3dda11390>"
      ]
     },
     "execution_count": 117,
     "metadata": {},
     "output_type": "execute_result"
    },
    {
     "data": {
      "image/png": "[encoded data removed]",
      "text/plain": [
       "<matplotlib.figure.Figure at 0x7ff3ddc12c90>"
      ]
     },
     "metadata": {},
     "output_type": "display_data"
    }
   ],
   "source": [
    "plt.plot(stds, means, 'o', markersize=5, color='r', alpha=0.5)\n",
    "plt.xlabel('std')\n",
    "plt.ylabel('mean')\n",
    "plt.title('Mean and standard deviation of returns of randomly generated portfolios')\n"
   ]
  },
  {
   "cell_type": "code",
   "execution_count": 118,
   "metadata": {
    "collapsed": false
   },
   "outputs": [],
   "source": [
    "def optimal_portfolio(returns):\n",
    "    n = len(returns)\n",
    "    pbar = opt.matrix(np.mean(returns, axis=1))\n",
    "    \n",
    "    N = 10\n",
    "    mus = [3.5**(8.0 * t/N - 1.0) for t in range(N)]\n",
    "    #mus = [0.05+(0.05*t) for t in range(150)]\n",
    "    # Convert to cvxopt matrices\n",
    "    S = opt.matrix(np.cov(returns))\n",
    "    #returns = np.asmatrix(returns)   \n",
    "    returns = opt.matrix(returns)\n",
    "    # Create constraint matrices\n",
    "    G = -opt.matrix(np.eye(n))   # negative n x n identity matrix\n",
    "    h = opt.matrix(0.0, (n ,1))\n",
    "    A = opt.matrix(1.0, (1, n))\n",
    "    b = opt.matrix(1.0)\n",
    "    print \"S, Covariance: \", S.size, S\n",
    "    print \"Returns: \", returns.size\n",
    "    print \"pbar: \", pbar.size, pbar\n",
    "    print \"G: \", G.size\n",
    "    print \"h: \", h.size\n",
    "    print \"A: \", A.size\n",
    "    print \"b: \", b.size\n",
    "    \n",
    "    # Calculate efficient frontier weights using quadratic programming\n",
    "    portfolios=[]\n",
    "    for mu in mus:\n",
    "        try:\n",
    "            result = solvers.qp(mu*S, -pbar, G, h, A, b)['x'] \n",
    "            #Result is presumably the weights for a given mu\n",
    "            portfolios.append(result)\n",
    "        except :\n",
    "            print \"BAD MU \", mu\n",
    "            pass\n",
    "    ## CALCULATE RISKS AND RETURNS FOR FRONTIER\n",
    "    returns = [blas.dot(pbar, x) for x in portfolios]\n",
    "    risks = [np.sqrt(blas.dot(x, S*x)) for x in portfolios]\n",
    "    \n",
    "    ## CALCULATE THE 2ND DEGREE POLYNOMIAL OF THE FRONTIER CURVE\n",
    "    m1 = np.polyfit(returns, risks, 2)\n",
    "    gradients = np.gradient(returns)\n",
    "    print \"PORTFOLIOS \"\n",
    "    for p,mu,r,grad, risk in zip(portfolios,mus,returns,gradients,risks):\n",
    "        print mu, r, grad, risk, p.T\n",
    "    print \"POLYNOMIAL \", m1\n",
    "    mu_star = np.sqrt(m1[2] / m1[0])\n",
    "    # CALCULATE THE OPTIMAL PORTFOLIO\n",
    "    wt = np.zeros(n)\n",
    "    try:\n",
    "        wt = solvers.qp(opt.matrix(mu_star * S), -pbar, G, h, A, b)['x']\n",
    "    except:\n",
    "        print \"NOT ABLE TO CALCULATE WEIGHT\"\n",
    "    return np.asarray(wt), returns, risks"
   ]
  },
  {
   "cell_type": "code",
   "execution_count": 119,
   "metadata": {
    "collapsed": false
   },
   "outputs": [
    {
     "name": "stdout",
     "output_type": "stream",
     "text": [
      "S, Covariance:  (5, 5) [ 8.50e-01 -1.59e-03  8.10e-03 -2.26e-01 -3.20e-02]\n",
      "[-1.59e-03  7.78e-01 -1.02e-02  3.10e-01  1.16e-01]\n",
      "[ 8.10e-03 -1.02e-02  3.31e-01  8.65e-01 -2.39e-04]\n",
      "[-2.26e-01  3.10e-01  8.65e-01  1.06e+02  3.24e-01]\n",
      "[-3.20e-02  1.16e-01 -2.39e-04  3.24e-01  1.01e-01]\n",
      "\n",
      "Returns:  (5, 44273)\n",
      "pbar:  (5, 1) [ 6.28e+00]\n",
      "[ 1.56e+00]\n",
      "[ 1.51e+00]\n",
      "[ 5.24e+01]\n",
      "[ 2.45e-01]\n",
      "\n",
      "G:  (5, 5)\n",
      "h:  (5, 1)\n",
      "A:  (1, 5)\n",
      "b:  (1, 1)\n",
      "PORTFOLIOS \n",
      "0.285714285714 52.4330787198 -20.2475400102 10.3079337449 [-1.25e-09 -6.55e-09 -6.57e-09  1.00e+00 -6.70e-09]\n",
      "\n",
      "0.778370541551 32.1855387096 -18.175808212 5.79030130426 [ 4.39e-01  2.09e-09  3.90e-09  5.61e-01  2.26e-09]\n",
      "\n",
      "2.12051244984 16.0814622958 -11.0076794608 2.2899103312 [ 7.88e-01  4.87e-09  3.84e-09  2.12e-01  3.48e-09]\n",
      "\n",
      "5.77690548382 10.170179788 -5.45616263584 1.19698066371 [ 9.16e-01  7.52e-07  7.18e-08  8.43e-02  6.13e-09]\n",
      "\n",
      "15.7380056748 5.16913702407 -3.84011487247 0.578445062283 [ 4.89e-01  1.04e-01  2.22e-01  2.99e-02  1.56e-01]\n",
      "\n",
      "42.875 2.48995004303 -1.8300035016 0.319176455735 [ 2.44e-01  2.64e-02  2.10e-01  9.10e-03  5.11e-01]\n",
      "\n",
      "116.804229392 1.50913002088 -0.628505846741 0.265639567728 [ 1.54e-01  1.06e-06  2.06e-01  1.47e-03  6.39e-01]\n",
      "\n",
      "318.209399504 1.23293834955 -0.174227847604 0.25908994998 [ 1.21e-01  1.08e-09  2.03e-01  5.07e-09  6.76e-01]\n",
      "\n",
      "866.896879166 1.16067432567 -0.0493950928663 0.258490131356 [ 1.10e-01  2.39e-09  2.01e-01  7.79e-09  6.90e-01]\n",
      "\n",
      "2361.68447657 1.13414816381 -0.0265261618564 0.258409198043 [ 1.05e-01  3.06e-10  2.00e-01  1.28e-09  6.94e-01]\n",
      "\n",
      "POLYNOMIAL  [ 0.0013646   0.12634076  0.01999883]\n"
     ]
    }
   ],
   "source": [
    "weights, returns, risks = optimal_portfolio(dt)"
   ]
  },
  {
   "cell_type": "code",
   "execution_count": 120,
   "metadata": {
    "collapsed": false
   },
   "outputs": [
    {
     "data": {
      "text/plain": [
       "[<matplotlib.lines.Line2D at 0x7ff3dda1c390>]"
      ]
     },
     "execution_count": 120,
     "metadata": {},
     "output_type": "execute_result"
    },
    {
     "data": {
      "image/png": "[encoded data removed]",
      "text/plain": [
       "<matplotlib.figure.Figure at 0x7ff3ddd7be10>"
      ]
     },
     "metadata": {},
     "output_type": "display_data"
    }
   ],
   "source": [
    "plt.plot(stds, means, 'o',alpha=0.5)\n",
    "plt.ylabel('mean')\n",
    "plt.xlabel('std')\n",
    "plt.plot(risks, returns, 'r-o')"
   ]
  },
  {
   "cell_type": "code",
   "execution_count": null,
   "metadata": {
    "collapsed": true
   },
   "outputs": [],
   "source": []
  },
  {
   "cell_type": "code",
   "execution_count": null,
   "metadata": {
    "collapsed": true
   },
   "outputs": [],
   "source": []
  },
  {
   "cell_type": "code",
   "execution_count": null,
   "metadata": {
    "collapsed": true
   },
   "outputs": [],
   "source": []
  },
  {
   "cell_type": "code",
   "execution_count": 12,
   "metadata": {
    "collapsed": false
   },
   "outputs": [],
   "source": [
    "def my_covariance(x,y):\n",
    "    \"\"\"\n",
    "    This yields similiar results to\n",
    "    pd.Series(x).cov(pd.Series(y)) \"\"\"\n",
    "    xbar = x.mean()\n",
    "    ybar = y.mean()\n",
    "    x = x-xbar\n",
    "    y = y-ybar\n",
    "    n = min(x.shape[0], y.shape[0])\n",
    "    x = x[:n-1]\n",
    "    y = y[:n-1]\n",
    "    cov = (x*y)\n",
    "    cov = np.sum(cov)/(n-1)\n",
    "    print cov\n",
    "    return cov\n"
   ]
  },
  {
   "cell_type": "code",
   "execution_count": 114,
   "metadata": {
    "collapsed": false
   },
   "outputs": [
    {
     "name": "stdout",
     "output_type": "stream",
     "text": [
      "[[ -6.4348  -6.435   -6.4349 ...,  -6.4347  -6.4351  -6.4354]\n",
      " [ -2.0676  -2.0679  -2.0676 ...,  -2.0679  -2.0654  -2.0679]\n",
      " [ -1.7281   0.      -1.733  ...,  -1.7318  -1.7313  -1.7331]\n",
      " [-54.64   -54.6365 -54.6361 ..., -54.6354 -54.6348 -54.6354]\n",
      " [  0.       0.       0.     ...,  -0.653   -0.653   -0.653 ]]\n"
     ]
    }
   ],
   "source": [
    "print dt"
   ]
  },
  {
   "cell_type": "code",
   "execution_count": 13,
   "metadata": {
    "collapsed": false
   },
   "outputs": [
    {
     "name": "stdout",
     "output_type": "stream",
     "text": [
      "-8.02333628098e-05\n"
     ]
    },
    {
     "data": {
      "text/plain": [
       "-8.0233362809846391e-05"
      ]
     },
     "execution_count": 13,
     "metadata": {},
     "output_type": "execute_result"
    }
   ],
   "source": [
    "my_covariance(x,y)"
   ]
  },
  {
   "cell_type": "code",
   "execution_count": 14,
   "metadata": {
    "collapsed": false
   },
   "outputs": [
    {
     "data": {
      "text/plain": [
       "-8.0003161504696132e-05"
      ]
     },
     "execution_count": 14,
     "metadata": {},
     "output_type": "execute_result"
    }
   ],
   "source": [
    "pd.Series(x).cov(pd.Series(y))"
   ]
  },
  {
   "cell_type": "code",
   "execution_count": 16,
   "metadata": {
    "collapsed": false
   },
   "outputs": [
    {
     "name": "stdout",
     "output_type": "stream",
     "text": [
      "({'OS': 'Linux', 'region': 'us-east-1', 'AZ': 'a', 'type': 'g2.2xlarge'}, 0.65, array([[  1.42611080e+09,   6.52000000e-02],\n",
      "       [  1.42611117e+09,   6.50000000e-02],\n",
      "       [  1.42611153e+09,   6.51000000e-02],\n",
      "       ..., \n",
      "       [  1.44108320e+09,   1.25300000e-01],\n",
      "       [  1.44108337e+09,   1.18500000e-01],\n",
      "       [  1.44108353e+09,   1.14200000e-01]]))\n"
     ]
    }
   ],
   "source": [
    "\n",
    "d0=data[0]\n",
    "d1=data[1]\n",
    "print d0"
   ]
  },
  {
   "cell_type": "code",
   "execution_count": 17,
   "metadata": {
    "collapsed": false
   },
   "outputs": [],
   "source": [
    "s0 = pd.Series(d0[2][:,1], index=d0[2][:,0])"
   ]
  },
  {
   "cell_type": "code",
   "execution_count": null,
   "metadata": {
    "collapsed": false
   },
   "outputs": [],
   "source": []
  }
 ],
 "metadata": {
  "kernelspec": {
   "display_name": "Python 2",
   "language": "python",
   "name": "python2"
  },
  "language_info": {
   "codemirror_mode": {
    "name": "ipython",
    "version": 2
   },
   "file_extension": ".py",
   "mimetype": "text/x-python",
   "name": "python",
   "nbconvert_exporter": "python",
   "pygments_lexer": "ipython2",
   "version": "2.7.11+"
  }
 },
 "nbformat": 4,
 "nbformat_minor": 0
}
