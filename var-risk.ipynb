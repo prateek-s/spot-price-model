{
 "cells": [
  {
   "cell_type": "markdown",
   "metadata": {},
   "source": [
    "# Market selection by using portfolio theory"
   ]
  },
  {
   "cell_type": "code",
   "execution_count": 361,
   "metadata": {
    "collapsed": false
   },
   "outputs": [],
   "source": [
    "\n",
    "import os,sys,matplotlib,pandas,numpy,scipy,dateutil\n",
    "import pandas as pd\n",
    "import numpy as np\n",
    "from pylab import *\n",
    "from datetime import datetime, timedelta\n",
    "import time\n",
    "from statsmodels.distributions.empirical_distribution import ECDF\n",
    "import sqlite3\n",
    "import itertools, random\n",
    "import pickle\n",
    "conn = None\n"
   ]
  },
  {
   "cell_type": "markdown",
   "metadata": {},
   "source": [
    "## Reading price data.\n",
    "Connect to database first, and the slurp the data for the given markets "
   ]
  },
  {
   "cell_type": "code",
   "execution_count": 362,
   "metadata": {
    "collapsed": true
   },
   "outputs": [],
   "source": [
    "markets = [ {'type': 'g2.2xlarge', 'region': 'us-east-1', 'AZ': 'a', 'OS': 'Linux'} ,\n",
    "                     {'type': 'c3.xlarge', 'region': 'us-east-1', 'AZ': 'a', 'OS': 'Linux'} ,\n",
    "                     {'type': 'r3.large', 'region': 'us-east-1', 'AZ': 'a', 'OS': 'Linux'} ,\n",
    "                     {'type': 'm3.medium', 'region': 'us-east-1', 'AZ': 'a', 'OS': 'Linux'} ,\n",
    "                     {'type': 'd2.8xlarge', 'region': 'us-east-1', 'AZ': 'a', 'OS': 'Linux'}\n",
    "                     ]"
   ]
  },
  {
   "cell_type": "code",
   "execution_count": 363,
   "metadata": {
    "collapsed": false
   },
   "outputs": [
    {
     "data": {
      "text/plain": [
       "'us-east-1a-Linux-g2.2xlarge'"
      ]
     },
     "execution_count": 363,
     "metadata": {},
     "output_type": "execute_result"
    }
   ],
   "source": [
    "str(instance_string(markets[0]))"
   ]
  },
  {
   "cell_type": "code",
   "execution_count": 364,
   "metadata": {
    "collapsed": false
   },
   "outputs": [
    {
     "ename": "OperationalError",
     "evalue": "unable to open database file",
     "output_type": "error",
     "traceback": [
      "\u001b[0;31m---------------------------------------------------------------------------\u001b[0m",
      "\u001b[0;31mOperationalError\u001b[0m                          Traceback (most recent call last)",
      "\u001b[0;32m<ipython-input-364-f40c9d464758>\u001b[0m in \u001b[0;36m<module>\u001b[0;34m()\u001b[0m\n\u001b[1;32m      4\u001b[0m     \u001b[0;32mreturn\u001b[0m\u001b[0;34m\u001b[0m\u001b[0m\n\u001b[1;32m      5\u001b[0m \u001b[0;34m\u001b[0m\u001b[0m\n\u001b[0;32m----> 6\u001b[0;31m \u001b[0minit_db_connection\u001b[0m\u001b[0;34m(\u001b[0m\u001b[0;34m)\u001b[0m\u001b[0;34m;\u001b[0m\u001b[0;34m\u001b[0m\u001b[0m\n\u001b[0m",
      "\u001b[0;32m<ipython-input-364-f40c9d464758>\u001b[0m in \u001b[0;36minit_db_connection\u001b[0;34m()\u001b[0m\n\u001b[1;32m      1\u001b[0m \u001b[0;32mdef\u001b[0m \u001b[0minit_db_connection\u001b[0m\u001b[0;34m(\u001b[0m\u001b[0;34m)\u001b[0m \u001b[0;34m:\u001b[0m\u001b[0;34m\u001b[0m\u001b[0m\n\u001b[1;32m      2\u001b[0m     \u001b[0;32mglobal\u001b[0m \u001b[0mconn\u001b[0m\u001b[0;34m\u001b[0m\u001b[0m\n\u001b[0;32m----> 3\u001b[0;31m     \u001b[0mconn\u001b[0m \u001b[0;34m=\u001b[0m \u001b[0msqlite3\u001b[0m\u001b[0;34m.\u001b[0m\u001b[0mconnect\u001b[0m\u001b[0;34m(\u001b[0m\u001b[0;34m'/home/prateeks/spot_prices_2015/aws.db'\u001b[0m\u001b[0;34m)\u001b[0m\u001b[0;34m\u001b[0m\u001b[0m\n\u001b[0m\u001b[1;32m      4\u001b[0m     \u001b[0;32mreturn\u001b[0m\u001b[0;34m\u001b[0m\u001b[0m\n\u001b[1;32m      5\u001b[0m \u001b[0;34m\u001b[0m\u001b[0m\n",
      "\u001b[0;31mOperationalError\u001b[0m: unable to open database file"
     ]
    }
   ],
   "source": [
    "def init_db_connection() :\n",
    "    global conn\n",
    "    conn = sqlite3.connect('/home/prateeks/spot_prices_2015/aws.db')\n",
    "    return \n",
    "\n",
    "init_db_connection();\n"
   ]
  },
  {
   "cell_type": "code",
   "execution_count": 365,
   "metadata": {
    "collapsed": false
   },
   "outputs": [
    {
     "name": "stdout",
     "output_type": "stream",
     "text": [
      "None\n"
     ]
    }
   ],
   "source": [
    "print conn"
   ]
  },
  {
   "cell_type": "code",
   "execution_count": 366,
   "metadata": {
    "collapsed": false
   },
   "outputs": [],
   "source": [
    "def instance_to_MarketId(i) :\n",
    "    \"\"\" The database table names or the file names  \"\"\"\n",
    "    osname = {'Linux':'Linux/UNIX'}\n",
    "    return i['region']+i['AZ']+'-'+osname[i['OS']]+'-'+i['type']\n"
   ]
  },
  {
   "cell_type": "code",
   "execution_count": 367,
   "metadata": {
    "collapsed": true
   },
   "outputs": [],
   "source": [
    "def instance_string(i):\n",
    "    return i['region']+i['AZ']+'-'+ i['OS']+'-'+i['type']"
   ]
  },
  {
   "cell_type": "code",
   "execution_count": 368,
   "metadata": {
    "collapsed": false
   },
   "outputs": [],
   "source": [
    "def read_data_sqlite(instance , mktstring=None, months=['201503','201504','201505','201506','201507','201508'],pickle_data=True):\n",
    "    global conn\n",
    "    table_name_base='AKIAJXNAQH5WHJFPNCXA_' # '201503'\n",
    "    if mktstring == None:\n",
    "        mktstring = instance_to_MarketId(instance)\n",
    "    output=[]\n",
    "    ondem=[]\n",
    "    ondemtable = 'on_demand_price'\n",
    "    #Need to remove avail zone from mkt string argh!\n",
    "   #TODO: function for converting to the on-demand string \n",
    "    ondem_mktstring = mktstring.replace('a-','-')\n",
    "    ondem_mktstring = ondem_mktstring.replace('/UNIX','')\n",
    "    q2 = 'SELECT SpotPrice FROM {} WHERE MarketId=\\'{}\\' ;'.format(ondemtable, ondem_mktstring)\n",
    "    d2 = conn.execute(q2)\n",
    "    ondem = d2.fetchall()\n",
    "\n",
    "    for month in months :\n",
    "        table_name = table_name_base+month\n",
    "        query='SELECT Timestamp, SpotPrice FROM {} WHERE MarketId=\\'{}\\' ;'.format(table_name, mktstring)\n",
    "        #print query\n",
    "        d = conn.execute(query)\n",
    "        output.extend(d.fetchall())\n",
    "    if pickle_data is True :\n",
    "        fname = instance_string(instance)+'.pickle'\n",
    "        with open(fname, 'w') as f :\n",
    "            pickle.dump((instance, output, ondem[0][0]), f)\n",
    "    return output, ondem[0][0]\n"
   ]
  },
  {
   "cell_type": "code",
   "execution_count": 369,
   "metadata": {
    "collapsed": false
   },
   "outputs": [],
   "source": [
    "def get_spot_data(markets, from_pickle=False):\n",
    "    \"\"\"\n",
    "    markets is a list of dictionaries. Return [(mkt,on-demprice,[(t,spot-price)])]\n",
    "    \"\"\"\n",
    "    global conn\n",
    "    data = []\n",
    "    \n",
    "    if from_pickle is False:\n",
    "        init_db_connection()\n",
    "        #c3.xlarge seems volatile\n",
    "        for i in markets :\n",
    "            ts, ondem = read_data_sqlite(i)\n",
    "            spot = [(time.mktime(dateutil.parser.parse(t).timetuple()), float(f)) for (t,f) in ts]\n",
    "            nspot = np.array(spot)\n",
    "            data.append((i, float(ondem), nspot))\n",
    "    else : \n",
    "        #Read all the pickle files from the directory and call get_pickled_data\n",
    "        for file in os.listdir('.'):\n",
    "            if file.endswith(\".pickle\") :\n",
    "                with open(file,'r') as f:\n",
    "                    (i, ts, ondem) = get_picked_data(f)\n",
    "                    spot = [(time.mktime(dateutil.parser.parse(t).timetuple()), float(f)) for (t,f) in ts]\n",
    "                    nspot = np.array(spot)\n",
    "                    data.append((i, float(ondem), nspot))\n",
    "\n",
    "    return data\n"
   ]
  },
  {
   "cell_type": "code",
   "execution_count": 370,
   "metadata": {
    "collapsed": false
   },
   "outputs": [],
   "source": [
    "def get_picked_data(f):\n",
    "    \"\"\" Get pickled data from a file. Return (instance, ts, ondem) tuple. \"\"\"\n",
    "    (instance, ts, ondem) = pickle.load(f)\n",
    "    return (instance, ts, ondem)\n",
    "    "
   ]
  },
  {
   "cell_type": "code",
   "execution_count": null,
   "metadata": {
    "collapsed": false
   },
   "outputs": [],
   "source": []
  },
  {
   "cell_type": "code",
   "execution_count": 371,
   "metadata": {
    "collapsed": false
   },
   "outputs": [
    {
     "name": "stdout",
     "output_type": "stream",
     "text": [
      "all-cdf.py               testr.R\r\n",
      "Bidding_1.ipynb          time_series_1.ipynb\r\n",
      "Bidding_2.ipynb          Untitled0-Copy0_1.ipynb\r\n",
      "Correlation-Copy0.ipynb  Untitled0.ipynb\r\n",
      "Correlation.ipynb        Untitled1.ipynb\r\n",
      "cvtest.py                Untitled2.ipynb\r\n",
      "cvtest.py~               us-east-1a-Linux-c3.xlarge.pickle\r\n",
      "ft-mechanisms.py         us-east-1a-Linux-d2.8xlarge.pickle\r\n",
      "overyears.py             us-east-1a-Linux-g2.2xlarge.pickle\r\n",
      "parr_ex_price.py         us-east-1a-Linux-m3.medium.pickle\r\n",
      "README.md                us-east-1a-Linux-r3.large.pickle\r\n",
      "spike_correlation.ipynb  var-risk.ipynb\r\n",
      "spot_analysis.py         years.ipynb\r\n",
      "\u001b[0m\u001b[01;32mspotfail.py\u001b[0m*\r\n"
     ]
    }
   ],
   "source": [
    "ls"
   ]
  },
  {
   "cell_type": "code",
   "execution_count": 372,
   "metadata": {
    "collapsed": false
   },
   "outputs": [],
   "source": [
    "data = get_spot_data(markets, from_pickle=True)"
   ]
  },
  {
   "cell_type": "code",
   "execution_count": 373,
   "metadata": {
    "collapsed": false
   },
   "outputs": [
    {
     "data": {
      "text/plain": [
       "({'AZ': 'a', 'OS': 'Linux', 'region': 'us-east-1', 'type': 'd2.8xlarge'},\n",
       " 5.52,\n",
       " array([[  1.42780176e+09,   5.60000000e-01],\n",
       "        [  1.42783420e+09,   5.63500000e-01],\n",
       "        [  1.42783820e+09,   5.63900000e-01],\n",
       "        ..., \n",
       "        [  1.44108291e+09,   6.02000000e-01],\n",
       "        [  1.44108307e+09,   6.07300000e-01],\n",
       "        [  1.44108340e+09,   5.97600000e-01]]))"
      ]
     },
     "execution_count": 373,
     "metadata": {},
     "output_type": "execute_result"
    }
   ],
   "source": [
    "data[2]"
   ]
  },
  {
   "cell_type": "code",
   "execution_count": 374,
   "metadata": {
    "collapsed": false
   },
   "outputs": [],
   "source": [
    "def get_prices_only(d, normalized=False):\n",
    "    \"\"\" For a given 3-tuple, return an array of prices. Strip the timestamps\n",
    "    \"\"\"\n",
    "    ondem_price = d[1]\n",
    "    spot_prices = d[2][:,1]\n",
    "    \n",
    "    if normalized:\n",
    "        return spot_prices/ondem_price  #time, price\n",
    "    else :\n",
    "        return spot_prices\n",
    "    \n",
    "#normalized_price(data[0])"
   ]
  },
  {
   "cell_type": "code",
   "execution_count": 375,
   "metadata": {
    "collapsed": false
   },
   "outputs": [
    {
     "data": {
      "text/plain": [
       "0.99142422038457712"
      ]
     },
     "execution_count": 375,
     "metadata": {},
     "output_type": "execute_result"
    }
   ],
   "source": [
    "np.mean(get_prices_only(data[2]))"
   ]
  },
  {
   "cell_type": "code",
   "execution_count": 419,
   "metadata": {
    "collapsed": true
   },
   "outputs": [],
   "source": [
    "def bid_transform(d):\n",
    "    \"\"\"Given a bid, execute some transformation over the prices.\"\"\"\n",
    "    ondem_price = d[1]\n",
    "    spot_prices = d[2][:,1]\n",
    "    maxprice = 100*ondem_price\n",
    "    bid = ondem_price \n",
    "    spot_prices[spot_prices >= bid] = maxprice #Amplify the price spike\n",
    "    spot_prices = maxprice - spot_prices  #Price => Profits transformation\n",
    "    #Not sure we want to normalize this to the on-demand price? Hmm...\n",
    "    #Normalizing by 10*on-demand price yields returns which are monotonically *DECREASING* with risk\n",
    "    #We want increasing returns with increasing risk, so turn off the normalization\n",
    "    return spot_prices\n",
    "    \n"
   ]
  },
  {
   "cell_type": "code",
   "execution_count": 420,
   "metadata": {
    "collapsed": false
   },
   "outputs": [],
   "source": [
    "prices = get_prices_only(data[0])"
   ]
  },
  {
   "cell_type": "code",
   "execution_count": 421,
   "metadata": {
    "collapsed": false
   },
   "outputs": [],
   "source": [
    "def get_transformed_prices(d, transform=\"bid\"):\n",
    "    td = [] #List of transformed prices\n",
    "    instances = []\n",
    "    for di in d:\n",
    "        if transform==\"bid\":\n",
    "            td.append(bid_transform(di))\n",
    "        elif transform==\"plain\":\n",
    "            td.append(get_prices_only(di))\n",
    "        instances.append(di[0])\n",
    "    min_length = min([len(a) for a in td])\n",
    "\n",
    "    print min_length\n",
    "    return (instances, np.vstack([a[:min_length] for a in td]) )\n"
   ]
  },
  {
   "cell_type": "code",
   "execution_count": 422,
   "metadata": {
    "collapsed": false
   },
   "outputs": [
    {
     "name": "stdout",
     "output_type": "stream",
     "text": [
      "3755\n"
     ]
    }
   ],
   "source": [
    "(instances, dt) = get_transformed_prices(data, transform=\"bid\")\n",
    "import scipy.stats"
   ]
  },
  {
   "cell_type": "code",
   "execution_count": 423,
   "metadata": {
    "collapsed": false
   },
   "outputs": [
    {
     "data": {
      "text/plain": [
       "(10037,\n",
       " (0.56000000000000005, 552.0),\n",
       " 19.074596981169673,\n",
       " 9747.0918701594546,\n",
       " 5.212902557901325,\n",
       " 25.174746049931798)"
      ]
     },
     "execution_count": 423,
     "metadata": {},
     "output_type": "execute_result"
    }
   ],
   "source": [
    "scipy.stats.describe(data[2][2][:,1])"
   ]
  },
  {
   "cell_type": "code",
   "execution_count": null,
   "metadata": {
    "collapsed": true
   },
   "outputs": [],
   "source": []
  },
  {
   "cell_type": "code",
   "execution_count": null,
   "metadata": {
    "collapsed": false
   },
   "outputs": [],
   "source": []
  },
  {
   "cell_type": "markdown",
   "metadata": {},
   "source": [
    "## Portfolio construction starts here\n",
    "So far we have read in the spot prices, applied the transforms, and computed the covariance matrix. Now its time for the actual portfolio creation.\n"
   ]
  },
  {
   "cell_type": "code",
   "execution_count": 424,
   "metadata": {
    "collapsed": false
   },
   "outputs": [],
   "source": [
    "import cvxopt as opt\n",
    "from cvxopt import blas, solvers\n",
    "%matplotlib inline"
   ]
  },
  {
   "cell_type": "code",
   "execution_count": 425,
   "metadata": {
    "collapsed": true
   },
   "outputs": [],
   "source": [
    "solvers.options['show_progress'] = False"
   ]
  },
  {
   "cell_type": "code",
   "execution_count": 426,
   "metadata": {
    "collapsed": true
   },
   "outputs": [],
   "source": [
    "def rand_weights(n):\n",
    "    ''' Produces n random weights that sum to 1 '''\n",
    "    k = np.random.rand(n)\n",
    "    return k / sum(k)"
   ]
  },
  {
   "cell_type": "code",
   "execution_count": 427,
   "metadata": {
    "collapsed": true
   },
   "outputs": [],
   "source": [
    "num_mkts = len(instances)"
   ]
  },
  {
   "cell_type": "code",
   "execution_count": 428,
   "metadata": {
    "collapsed": false
   },
   "outputs": [
    {
     "name": "stdout",
     "output_type": "stream",
     "text": [
      "5\n"
     ]
    }
   ],
   "source": [
    "print num_mkts"
   ]
  },
  {
   "cell_type": "code",
   "execution_count": 429,
   "metadata": {
    "collapsed": true
   },
   "outputs": [],
   "source": [
    "def eval_portfolio(dt):\n",
    "    p = np.asmatrix(np.mean(dt,axis=1))\n",
    "    w = np.asmatrix(rand_weights(dt.shape[0]))\n",
    "    C = np.asmatrix(np.cov(dt))\n",
    "    \n",
    "    mu = w * p.T\n",
    "    sigma = np.sqrt(w * C * w.T)\n",
    "    print mu, sigma\n",
    "    \n",
    "    return mu, sigma"
   ]
  },
  {
   "cell_type": "code",
   "execution_count": 430,
   "metadata": {
    "collapsed": false
   },
   "outputs": [
    {
     "name": "stdout",
     "output_type": "stream",
     "text": [
      "[[ 162.31374549]] [[ 32.66096697]]\n",
      "[[ 87.36718894]] [[ 17.10029709]]\n",
      "[[ 101.36724791]] [[ 17.58753452]]\n",
      "[[ 46.59646091]] [[ 3.95557379]]\n",
      "[[ 47.25158614]] [[ 6.29756495]]\n",
      "[[ 112.01388145]] [[ 24.2362321]]\n",
      "[[ 298.52584752]] [[ 68.32654978]]\n",
      "[[ 141.84083173]] [[ 30.83001834]]\n",
      "[[ 139.73308813]] [[ 30.93468604]]\n",
      "[[ 116.29304442]] [[ 20.05330044]]\n",
      "[[ 97.21763742]] [[ 18.62851862]]\n",
      "[[ 164.34491402]] [[ 34.8333082]]\n",
      "[[ 85.29648666]] [[ 11.74579693]]\n",
      "[[ 141.67370333]] [[ 29.93372859]]\n",
      "[[ 71.36474648]] [[ 11.95041589]]\n",
      "[[ 74.5169154]] [[ 10.29030295]]\n",
      "[[ 73.97346051]] [[ 11.45831702]]\n",
      "[[ 51.6746222]] [[ 7.93322602]]\n",
      "[[ 232.3992602]] [[ 52.18374009]]\n",
      "[[ 65.51880391]] [[ 9.00883413]]\n",
      "[[ 124.95495079]] [[ 26.17064756]]\n",
      "[[ 95.37989367]] [[ 18.82118509]]\n",
      "[[ 139.77711963]] [[ 27.83240844]]\n",
      "[[ 157.11353573]] [[ 32.00616866]]\n",
      "[[ 25.13980995]] [[ 1.47791122]]\n",
      "[[ 107.68191437]] [[ 22.14833057]]\n",
      "[[ 152.55298413]] [[ 32.14592669]]\n",
      "[[ 98.60117057]] [[ 16.98852262]]\n",
      "[[ 140.35097381]] [[ 28.37406497]]\n",
      "[[ 164.66344674]] [[ 33.93504679]]\n",
      "[[ 135.2998204]] [[ 26.88474506]]\n",
      "[[ 105.31600059]] [[ 19.26887583]]\n",
      "[[ 157.83986932]] [[ 31.20860537]]\n",
      "[[ 79.75761488]] [[ 16.1148653]]\n",
      "[[ 187.45484546]] [[ 40.75583103]]\n",
      "[[ 185.7036216]] [[ 38.69331693]]\n",
      "[[ 137.03818924]] [[ 30.31136948]]\n",
      "[[ 121.5044911]] [[ 25.16594314]]\n",
      "[[ 168.16400816]] [[ 37.6081847]]\n",
      "[[ 181.79065188]] [[ 40.60159668]]\n",
      "[[ 217.22408013]] [[ 49.25397523]]\n",
      "[[ 22.73860836]] [[ 2.15118739]]\n",
      "[[ 70.69955024]] [[ 12.35819319]]\n",
      "[[ 77.21259382]] [[ 12.87297186]]\n",
      "[[ 133.5421582]] [[ 25.75843487]]\n",
      "[[ 142.84713752]] [[ 28.96967557]]\n",
      "[[ 70.43640165]] [[ 7.41710992]]\n",
      "[[ 139.24945909]] [[ 30.29099285]]\n",
      "[[ 160.27556595]] [[ 33.90751806]]\n",
      "[[ 142.7398417]] [[ 29.54297909]]\n"
     ]
    }
   ],
   "source": [
    "n_portfolios = 50\n",
    "means, stds = np.column_stack([\n",
    "    eval_portfolio(dt) \n",
    "    for _ in xrange(n_portfolios)\n",
    "])\n"
   ]
  },
  {
   "cell_type": "code",
   "execution_count": 431,
   "metadata": {
    "collapsed": false
   },
   "outputs": [
    {
     "data": {
      "text/plain": [
       "<matplotlib.text.Text at 0x7f583d3029d0>"
      ]
     },
     "execution_count": 431,
     "metadata": {},
     "output_type": "execute_result"
    },
    {
     "data": {
      "image/png": "[encoded data removed]",
      "text/plain": [
       "<matplotlib.figure.Figure at 0x7f583d59df90>"
      ]
     },
     "metadata": {},
     "output_type": "display_data"
    }
   ],
   "source": [
    "plt.plot(stds, means, 'o', markersize=5, color='r', alpha=0.5)\n",
    "plt.xlabel('std')\n",
    "plt.ylabel('mean')\n",
    "plt.title('Mean and standard deviation of returns of randomly generated portfolios')\n"
   ]
  },
  {
   "cell_type": "code",
   "execution_count": 435,
   "metadata": {
    "collapsed": false
   },
   "outputs": [],
   "source": [
    "def optimal_portfolio(returns):\n",
    "    n = len(returns)\n",
    "    pbar = opt.matrix(np.mean(returns, axis=1))\n",
    "    \n",
    "    N = 10\n",
    "    #mus = [1.01**(5.0 * t/N - 1.0) for t in range(N)]\n",
    "    mus = [0.05+(0.05*t) for t in range(150)]\n",
    "    # Convert to cvxopt matrices\n",
    "    S = opt.matrix(np.cov(returns))\n",
    "    #returns = np.asmatrix(returns)   \n",
    "    returns = opt.matrix(returns)\n",
    "    # Create constraint matrices\n",
    "    G = -opt.matrix(np.eye(n))   # negative n x n identity matrix\n",
    "    h = opt.matrix(0.0, (n ,1))\n",
    "    A = opt.matrix(1.0, (1, n))\n",
    "    b = opt.matrix(1.0)\n",
    "    print \"S, Covariance: \", S.size, S\n",
    "    print \"Returns: \", returns.size\n",
    "    print \"pbar: \", pbar.size, pbar\n",
    "    print \"G: \", G.size\n",
    "    print \"h: \", h.size\n",
    "    print \"A: \", A.size\n",
    "    print \"b: \", b.size\n",
    "    \n",
    "    # Calculate efficient frontier weights using quadratic programming\n",
    "    portfolios=[]\n",
    "    for mu in mus:\n",
    "        try:\n",
    "            result = solvers.qp(mu*S, -pbar, G, h, A, b)['x'] \n",
    "            #Result is presumably the weights for a given mu\n",
    "            portfolios.append(result)\n",
    "        except :\n",
    "            print \"BAD MU \", mu\n",
    "            pass\n",
    "    ## CALCULATE RISKS AND RETURNS FOR FRONTIER\n",
    "    returns = [blas.dot(pbar, x) for x in portfolios]\n",
    "    risks = [np.sqrt(blas.dot(x, S*x)) for x in portfolios]\n",
    "    \n",
    "    ## CALCULATE THE 2ND DEGREE POLYNOMIAL OF THE FRONTIER CURVE\n",
    "    m1 = np.polyfit(returns, risks, 2)\n",
    "    x1 = np.sqrt(m1[2] / m1[0])\n",
    "    # CALCULATE THE OPTIMAL PORTFOLIO\n",
    "    wt = np.zeros(n)\n",
    "    try:\n",
    "        wt = solvers.qp(opt.matrix(x1 * S), -pbar, G, h, A, b)['x']\n",
    "    except:\n",
    "        print \"NOT ABLE TO CALCULATE WEIGHT\"\n",
    "    return np.asarray(wt), returns, risks"
   ]
  },
  {
   "cell_type": "code",
   "execution_count": 436,
   "metadata": {
    "collapsed": false
   },
   "outputs": [
    {
     "name": "stdout",
     "output_type": "stream",
     "text": [
      "S, Covariance:  (5, 5) [ 6.57e+00 -2.21e-01  5.21e+01 -1.50e-01 -5.03e-02]\n",
      "[-2.21e-01  1.18e+01 -1.33e+01  5.11e-01 -1.11e-01]\n",
      "[ 5.21e+01 -1.33e+01  1.55e+04 -5.07e+00 -4.73e+00]\n",
      "[-1.50e-01  5.11e-01 -5.07e+00  2.90e+00 -7.43e-02]\n",
      "[-5.03e-02 -1.11e-01 -4.73e+00 -7.43e-02  1.01e+01]\n",
      "\n",
      "Returns:  (5, 3755)\n",
      "pbar:  (5, 1) [ 2.06e+01]\n",
      "[ 1.68e+01]\n",
      "[ 5.21e+02]\n",
      "[ 6.22e+00]\n",
      "[ 6.48e+01]\n",
      "\n",
      "G:  (5, 5)\n",
      "h:  (5, 1)\n",
      "A:  (1, 5)\n",
      "b:  (1, 1)\n",
      "NOT ABLE TO CALCULATE WEIGHT\n"
     ]
    }
   ],
   "source": [
    "weights, returns, risks = optimal_portfolio(dt)"
   ]
  },
  {
   "cell_type": "code",
   "execution_count": 437,
   "metadata": {
    "collapsed": false
   },
   "outputs": [
    {
     "data": {
      "text/plain": [
       "[<matplotlib.lines.Line2D at 0x7f583d511c10>]"
      ]
     },
     "execution_count": 437,
     "metadata": {},
     "output_type": "execute_result"
    },
    {
     "data": {
      "image/png": "[encoded data removed]",
      "text/plain": [
       "<matplotlib.figure.Figure at 0x7f583d4ec4d0>"
      ]
     },
     "metadata": {},
     "output_type": "display_data"
    }
   ],
   "source": [
    "plt.plot(stds, means, 'o',alpha=0.5)\n",
    "plt.ylabel('mean')\n",
    "plt.xlabel('std')\n",
    "plt.plot(risks, returns, 'r-o')"
   ]
  },
  {
   "cell_type": "code",
   "execution_count": null,
   "metadata": {
    "collapsed": true
   },
   "outputs": [],
   "source": []
  },
  {
   "cell_type": "code",
   "execution_count": null,
   "metadata": {
    "collapsed": true
   },
   "outputs": [],
   "source": []
  },
  {
   "cell_type": "code",
   "execution_count": null,
   "metadata": {
    "collapsed": true
   },
   "outputs": [],
   "source": []
  },
  {
   "cell_type": "code",
   "execution_count": 12,
   "metadata": {
    "collapsed": false
   },
   "outputs": [],
   "source": [
    "def my_covariance(x,y):\n",
    "    \"\"\"\n",
    "    This yields similiar results to\n",
    "    pd.Series(x).cov(pd.Series(y)) \"\"\"\n",
    "    xbar = x.mean()\n",
    "    ybar = y.mean()\n",
    "    x = x-xbar\n",
    "    y = y-ybar\n",
    "    n = min(x.shape[0], y.shape[0])\n",
    "    x = x[:n-1]\n",
    "    y = y[:n-1]\n",
    "    cov = (x*y)\n",
    "    cov = np.sum(cov)/(n-1)\n",
    "    print cov\n",
    "    return cov\n"
   ]
  },
  {
   "cell_type": "code",
   "execution_count": 114,
   "metadata": {
    "collapsed": false
   },
   "outputs": [
    {
     "name": "stdout",
     "output_type": "stream",
     "text": [
      "[[ -6.4348  -6.435   -6.4349 ...,  -6.4347  -6.4351  -6.4354]\n",
      " [ -2.0676  -2.0679  -2.0676 ...,  -2.0679  -2.0654  -2.0679]\n",
      " [ -1.7281   0.      -1.733  ...,  -1.7318  -1.7313  -1.7331]\n",
      " [-54.64   -54.6365 -54.6361 ..., -54.6354 -54.6348 -54.6354]\n",
      " [  0.       0.       0.     ...,  -0.653   -0.653   -0.653 ]]\n"
     ]
    }
   ],
   "source": [
    "print dt"
   ]
  },
  {
   "cell_type": "code",
   "execution_count": 13,
   "metadata": {
    "collapsed": false
   },
   "outputs": [
    {
     "name": "stdout",
     "output_type": "stream",
     "text": [
      "-8.02333628098e-05\n"
     ]
    },
    {
     "data": {
      "text/plain": [
       "-8.0233362809846391e-05"
      ]
     },
     "execution_count": 13,
     "metadata": {},
     "output_type": "execute_result"
    }
   ],
   "source": [
    "my_covariance(x,y)"
   ]
  },
  {
   "cell_type": "code",
   "execution_count": 14,
   "metadata": {
    "collapsed": false
   },
   "outputs": [
    {
     "data": {
      "text/plain": [
       "-8.0003161504696132e-05"
      ]
     },
     "execution_count": 14,
     "metadata": {},
     "output_type": "execute_result"
    }
   ],
   "source": [
    "pd.Series(x).cov(pd.Series(y))"
   ]
  },
  {
   "cell_type": "code",
   "execution_count": 16,
   "metadata": {
    "collapsed": false
   },
   "outputs": [
    {
     "name": "stdout",
     "output_type": "stream",
     "text": [
      "({'OS': 'Linux', 'region': 'us-east-1', 'AZ': 'a', 'type': 'g2.2xlarge'}, 0.65, array([[  1.42611080e+09,   6.52000000e-02],\n",
      "       [  1.42611117e+09,   6.50000000e-02],\n",
      "       [  1.42611153e+09,   6.51000000e-02],\n",
      "       ..., \n",
      "       [  1.44108320e+09,   1.25300000e-01],\n",
      "       [  1.44108337e+09,   1.18500000e-01],\n",
      "       [  1.44108353e+09,   1.14200000e-01]]))\n"
     ]
    }
   ],
   "source": [
    "\n",
    "d0=data[0]\n",
    "d1=data[1]\n",
    "print d0"
   ]
  },
  {
   "cell_type": "code",
   "execution_count": 17,
   "metadata": {
    "collapsed": false
   },
   "outputs": [],
   "source": [
    "s0 = pd.Series(d0[2][:,1], index=d0[2][:,0])"
   ]
  },
  {
   "cell_type": "code",
   "execution_count": null,
   "metadata": {
    "collapsed": false
   },
   "outputs": [],
   "source": []
  }
 ],
 "metadata": {
  "kernelspec": {
   "display_name": "Python 2",
   "language": "python",
   "name": "python2"
  },
  "language_info": {
   "codemirror_mode": {
    "name": "ipython",
    "version": 2
   },
   "file_extension": ".py",
   "mimetype": "text/x-python",
   "name": "python",
   "nbconvert_exporter": "python",
   "pygments_lexer": "ipython2",
   "version": "2.7.6"
  }
 },
 "nbformat": 4,
 "nbformat_minor": 0
}
